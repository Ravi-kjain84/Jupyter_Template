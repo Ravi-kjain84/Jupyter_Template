{
 "cells": [
  {
   "cell_type": "code",
   "execution_count": 1,
   "metadata": {},
   "outputs": [],
   "source": [
    "import warnings\n",
    "warnings.filterwarnings(\"ignore\")\n",
    "\n",
    "import pandas as pd\n",
    "from pandas_profiling import ProfileReport\n",
    "import numpy as np\n",
    "from sklearn.model_selection import train_test_split\n",
    "from sklearn.base import BaseEstimator, TransformerMixin\n",
    "from sklearn.metrics import classification_report, f1_score\n",
    "from sklearn import set_config\n",
    "from sklearn import datasets\n",
    "from sklearn import ensemble, neighbors,linear_model,svm\n",
    "import eli5\n",
    "set_config(display='diagram')\n",
    "\n",
    "\n",
    "\n",
    "#datasets.load*?"
   ]
  },
  {
   "cell_type": "code",
   "execution_count": 2,
   "metadata": {},
   "outputs": [],
   "source": [
    "def sklearn_to_df(sklearn_dataset):\n",
    "    df = pd.DataFrame(sklearn_dataset.data, columns=sklearn_dataset.feature_names)\n",
    "    df['target'] = pd.Series(sklearn_dataset.target)\n",
    "    return df"
   ]
  },
  {
   "cell_type": "code",
   "execution_count": 3,
   "metadata": {},
   "outputs": [],
   "source": [
    "# df = sklearn_to_df(datasets.load_breast_cancer())\n",
    "# target = 'target'\n",
    "# drop_columns = []"
   ]
  },
  {
   "cell_type": "code",
   "execution_count": 4,
   "metadata": {},
   "outputs": [],
   "source": [
    "df = pd.read_csv('input/penguins.csv')\n",
    "target = 'species'\n",
    "drop_columns = []"
   ]
  },
  {
   "cell_type": "code",
   "execution_count": 5,
   "metadata": {},
   "outputs": [
    {
     "data": {
      "text/plain": [
       "species               object\n",
       "island                object\n",
       "culmen_length_mm     float64\n",
       "culmen_depth_mm      float64\n",
       "flipper_length_mm    float64\n",
       "body_mass_g          float64\n",
       "sex                   object\n",
       "dtype: object"
      ]
     },
     "execution_count": 5,
     "metadata": {},
     "output_type": "execute_result"
    }
   ],
   "source": [
    "df.dtypes"
   ]
  },
  {
   "cell_type": "code",
   "execution_count": 6,
   "metadata": {},
   "outputs": [],
   "source": [
    "df = df.drop(drop_columns, axis = 1)\n",
    "\n",
    "if df[target].dtypes == np.object:    \n",
    "    numeric_features = df.select_dtypes(include=['int64', 'float64']).columns\n",
    "    categorical_features = df.select_dtypes(include=['object']).drop(target, axis=1).columns\n",
    "else:\n",
    "    numeric_features = df.select_dtypes(include=['int64', 'float64']).drop(target, axis=1).columns\n",
    "    categorical_features = df.select_dtypes(include=['object']).columns\n",
    "    \n",
    "X = df.drop((target),axis = 'columns')\n",
    "y = df[target]\n",
    "\n",
    "X_train, X_test, y_train, y_test = train_test_split(X, y, test_size=0.3,random_state =1)"
   ]
  },
  {
   "cell_type": "code",
   "execution_count": 7,
   "metadata": {},
   "outputs": [],
   "source": [
    "#ProfileReport(df)"
   ]
  },
  {
   "cell_type": "code",
   "execution_count": 8,
   "metadata": {},
   "outputs": [],
   "source": [
    "# train_values = pd.read_csv('train_values.csv')\n",
    "# train_labels = pd.read_csv('train_labels.csv')\n",
    "# train_data = train_values.merge(train_labels, left_on='building_id', right_on='building_id')\n",
    "\n",
    "# train_data = train_data.drop('building_id', axis=1)\n",
    "# numeric_features = train_data.select_dtypes(include=['int64', 'float64']).drop(['damage_grade'], axis=1).columns\n",
    "# categorical_features = train_data.select_dtypes(include=['object']).columns\n",
    "# X = train_data.drop('damage_grade', axis=1)\n",
    "# y = train_data['damage_grade']\n",
    "# X_train, X_test, y_train, y_test = train_test_split(X, y, test_size=0.2)"
   ]
  },
  {
   "cell_type": "code",
   "execution_count": 9,
   "metadata": {},
   "outputs": [
    {
     "data": {
      "text/html": [
       "<style>div.sk-top-container {color: black;background-color: white;}div.sk-toggleable {background-color: white;}label.sk-toggleable__label {cursor: pointer;display: block;width: 100%;margin-bottom: 0;padding: 0.2em 0.3em;box-sizing: border-box;text-align: center;}div.sk-toggleable__content {max-height: 0;max-width: 0;overflow: hidden;text-align: left;background-color: #f0f8ff;}div.sk-toggleable__content pre {margin: 0.2em;color: black;border-radius: 0.25em;background-color: #f0f8ff;}input.sk-toggleable__control:checked~div.sk-toggleable__content {max-height: 200px;max-width: 100%;overflow: auto;}div.sk-estimator input.sk-toggleable__control:checked~label.sk-toggleable__label {background-color: #d4ebff;}div.sk-label input.sk-toggleable__control:checked~label.sk-toggleable__label {background-color: #d4ebff;}input.sk-hidden--visually {border: 0;clip: rect(1px 1px 1px 1px);clip: rect(1px, 1px, 1px, 1px);height: 1px;margin: -1px;overflow: hidden;padding: 0;position: absolute;width: 1px;}div.sk-estimator {font-family: monospace;background-color: #f0f8ff;margin: 0.25em 0.25em;border: 1px dotted black;border-radius: 0.25em;box-sizing: border-box;}div.sk-estimator:hover {background-color: #d4ebff;}div.sk-parallel-item::after {content: \"\";width: 100%;border-bottom: 1px solid gray;flex-grow: 1;}div.sk-label:hover label.sk-toggleable__label {background-color: #d4ebff;}div.sk-serial::before {content: \"\";position: absolute;border-left: 1px solid gray;box-sizing: border-box;top: 2em;bottom: 0;left: 50%;}div.sk-serial {display: flex;flex-direction: column;align-items: center;background-color: white;}div.sk-item {z-index: 1;}div.sk-parallel {display: flex;align-items: stretch;justify-content: center;background-color: white;}div.sk-parallel-item {display: flex;flex-direction: column;position: relative;background-color: white;}div.sk-parallel-item:first-child::after {align-self: flex-end;width: 50%;}div.sk-parallel-item:last-child::after {align-self: flex-start;width: 50%;}div.sk-parallel-item:only-child::after {width: 0;}div.sk-dashed-wrapped {border: 1px dashed gray;margin: 0.2em;box-sizing: border-box;padding-bottom: 0.1em;background-color: white;position: relative;}div.sk-label label {font-family: monospace;font-weight: bold;background-color: white;display: inline-block;line-height: 1.2em;}div.sk-label-container {position: relative;z-index: 2;text-align: center;}div.sk-container {display: inline-block;position: relative;}</style><div class=\"sk-top-container\"><div class=\"sk-container\"><div class=\"sk-item sk-dashed-wrapped\"><div class=\"sk-label-container\"><div class=\"sk-label sk-toggleable\"><input class=\"sk-toggleable__control sk-hidden--visually\" id=\"d9c0238a-9e89-4ac3-90a7-edd9b7e43be3\" type=\"checkbox\" ><label class=\"sk-toggleable__label\" for=\"d9c0238a-9e89-4ac3-90a7-edd9b7e43be3\">Pipeline</label><div class=\"sk-toggleable__content\"><pre>Pipeline(steps=[('preprocessor',\n",
       "                 ColumnTransformer(transformers=[('num',\n",
       "                                                  Pipeline(steps=[('imputer',\n",
       "                                                                   SimpleImputer(strategy='median')),\n",
       "                                                                  ('feature_selection',\n",
       "                                                                   SelectFromModel(estimator=LinearSVC(dual=False,\n",
       "                                                                                                       penalty='l1'))),\n",
       "                                                                  ('scaler',\n",
       "                                                                   StandardScaler()),\n",
       "                                                                  ('poly',\n",
       "                                                                   PolynomialFeatures(interaction_only=True))]),\n",
       "                                                  Index(['culmen_length_mm', 'culmen_depth_mm', 'flipper_length_mm',\n",
       "       'body_mass_g'],\n",
       "      dtype='object')),\n",
       "                                                 ('cat',\n",
       "                                                  Pipeline(steps=[('imputer',\n",
       "                                                                   SimpleImputer(fill_value='most_frequent',\n",
       "                                                                                 strategy='constant')),\n",
       "                                                                  ('one_hot',\n",
       "                                                                   OneHotEncoder())]),\n",
       "                                                  Index(['island', 'sex'], dtype='object'))])),\n",
       "                ('model', RandomForestRegressor(max_depth=3))])</pre></div></div></div><div class=\"sk-serial\"><div class=\"sk-item sk-dashed-wrapped\"><div class=\"sk-label-container\"><div class=\"sk-label sk-toggleable\"><input class=\"sk-toggleable__control sk-hidden--visually\" id=\"8bcad574-3017-466e-ac6d-9953434d9eff\" type=\"checkbox\" ><label class=\"sk-toggleable__label\" for=\"8bcad574-3017-466e-ac6d-9953434d9eff\">preprocessor: ColumnTransformer</label><div class=\"sk-toggleable__content\"><pre>ColumnTransformer(transformers=[('num',\n",
       "                                 Pipeline(steps=[('imputer',\n",
       "                                                  SimpleImputer(strategy='median')),\n",
       "                                                 ('feature_selection',\n",
       "                                                  SelectFromModel(estimator=LinearSVC(dual=False,\n",
       "                                                                                      penalty='l1'))),\n",
       "                                                 ('scaler', StandardScaler()),\n",
       "                                                 ('poly',\n",
       "                                                  PolynomialFeatures(interaction_only=True))]),\n",
       "                                 Index(['culmen_length_mm', 'culmen_depth_mm', 'flipper_length_mm',\n",
       "       'body_mass_g'],\n",
       "      dtype='object')),\n",
       "                                ('cat',\n",
       "                                 Pipeline(steps=[('imputer',\n",
       "                                                  SimpleImputer(fill_value='most_frequent',\n",
       "                                                                strategy='constant')),\n",
       "                                                 ('one_hot', OneHotEncoder())]),\n",
       "                                 Index(['island', 'sex'], dtype='object'))])</pre></div></div></div><div class=\"sk-parallel\"><div class=\"sk-parallel-item\"><div class=\"sk-item\"><div class=\"sk-label-container\"><div class=\"sk-label sk-toggleable\"><input class=\"sk-toggleable__control sk-hidden--visually\" id=\"26420025-92ca-4442-9816-2632c3013e89\" type=\"checkbox\" ><label class=\"sk-toggleable__label\" for=\"26420025-92ca-4442-9816-2632c3013e89\">num</label><div class=\"sk-toggleable__content\"><pre>Index(['culmen_length_mm', 'culmen_depth_mm', 'flipper_length_mm',\n",
       "       'body_mass_g'],\n",
       "      dtype='object')</pre></div></div></div><div class=\"sk-serial\"><div class=\"sk-item\"><div class=\"sk-serial\"><div class=\"sk-item\"><div class=\"sk-estimator sk-toggleable\"><input class=\"sk-toggleable__control sk-hidden--visually\" id=\"f38fc891-eb34-4144-b0f9-1617afa31d97\" type=\"checkbox\" ><label class=\"sk-toggleable__label\" for=\"f38fc891-eb34-4144-b0f9-1617afa31d97\">SimpleImputer</label><div class=\"sk-toggleable__content\"><pre>SimpleImputer(strategy='median')</pre></div></div></div><div class=\"sk-item sk-dashed-wrapped\"><div class=\"sk-label-container\"><div class=\"sk-label sk-toggleable\"><input class=\"sk-toggleable__control sk-hidden--visually\" id=\"20884a8c-a7ff-4728-aed6-587496d3dbe9\" type=\"checkbox\" ><label class=\"sk-toggleable__label\" for=\"20884a8c-a7ff-4728-aed6-587496d3dbe9\">feature_selection: SelectFromModel</label><div class=\"sk-toggleable__content\"><pre>SelectFromModel(estimator=LinearSVC(dual=False, penalty='l1'))</pre></div></div></div><div class=\"sk-parallel\"><div class=\"sk-parallel-item\"><div class=\"sk-item\"><div class=\"sk-serial\"><div class=\"sk-item\"><div class=\"sk-estimator sk-toggleable\"><input class=\"sk-toggleable__control sk-hidden--visually\" id=\"166e4489-1658-4d87-ab8f-6b2b96f32faf\" type=\"checkbox\" ><label class=\"sk-toggleable__label\" for=\"166e4489-1658-4d87-ab8f-6b2b96f32faf\">LinearSVC</label><div class=\"sk-toggleable__content\"><pre>LinearSVC(dual=False, penalty='l1')</pre></div></div></div></div></div></div></div></div><div class=\"sk-item\"><div class=\"sk-estimator sk-toggleable\"><input class=\"sk-toggleable__control sk-hidden--visually\" id=\"4a971858-4fe0-40f0-a3f7-13c9e3ce9541\" type=\"checkbox\" ><label class=\"sk-toggleable__label\" for=\"4a971858-4fe0-40f0-a3f7-13c9e3ce9541\">StandardScaler</label><div class=\"sk-toggleable__content\"><pre>StandardScaler()</pre></div></div></div><div class=\"sk-item\"><div class=\"sk-estimator sk-toggleable\"><input class=\"sk-toggleable__control sk-hidden--visually\" id=\"93de3c97-4d8b-4c5c-acfc-7a9a4f90de7b\" type=\"checkbox\" ><label class=\"sk-toggleable__label\" for=\"93de3c97-4d8b-4c5c-acfc-7a9a4f90de7b\">PolynomialFeatures</label><div class=\"sk-toggleable__content\"><pre>PolynomialFeatures(interaction_only=True)</pre></div></div></div></div></div></div></div></div><div class=\"sk-parallel-item\"><div class=\"sk-item\"><div class=\"sk-label-container\"><div class=\"sk-label sk-toggleable\"><input class=\"sk-toggleable__control sk-hidden--visually\" id=\"d7993ea8-a121-4495-b132-83d19560d180\" type=\"checkbox\" ><label class=\"sk-toggleable__label\" for=\"d7993ea8-a121-4495-b132-83d19560d180\">cat</label><div class=\"sk-toggleable__content\"><pre>Index(['island', 'sex'], dtype='object')</pre></div></div></div><div class=\"sk-serial\"><div class=\"sk-item\"><div class=\"sk-serial\"><div class=\"sk-item\"><div class=\"sk-estimator sk-toggleable\"><input class=\"sk-toggleable__control sk-hidden--visually\" id=\"86f7613b-d84e-44a0-9d4f-47616b2153a4\" type=\"checkbox\" ><label class=\"sk-toggleable__label\" for=\"86f7613b-d84e-44a0-9d4f-47616b2153a4\">SimpleImputer</label><div class=\"sk-toggleable__content\"><pre>SimpleImputer(fill_value='most_frequent', strategy='constant')</pre></div></div></div><div class=\"sk-item\"><div class=\"sk-estimator sk-toggleable\"><input class=\"sk-toggleable__control sk-hidden--visually\" id=\"538742b5-d2b1-42b8-8cdc-1da16a19f42b\" type=\"checkbox\" ><label class=\"sk-toggleable__label\" for=\"538742b5-d2b1-42b8-8cdc-1da16a19f42b\">OneHotEncoder</label><div class=\"sk-toggleable__content\"><pre>OneHotEncoder()</pre></div></div></div></div></div></div></div></div></div></div><div class=\"sk-item\"><div class=\"sk-estimator sk-toggleable\"><input class=\"sk-toggleable__control sk-hidden--visually\" id=\"3aece01c-64a8-4407-90d9-cf9bd2026514\" type=\"checkbox\" ><label class=\"sk-toggleable__label\" for=\"3aece01c-64a8-4407-90d9-cf9bd2026514\">RandomForestRegressor</label><div class=\"sk-toggleable__content\"><pre>RandomForestRegressor(max_depth=3)</pre></div></div></div></div></div></div></div>"
      ],
      "text/plain": [
       "Pipeline(steps=[('preprocessor',\n",
       "                 ColumnTransformer(transformers=[('num',\n",
       "                                                  Pipeline(steps=[('imputer',\n",
       "                                                                   SimpleImputer(strategy='median')),\n",
       "                                                                  ('feature_selection',\n",
       "                                                                   SelectFromModel(estimator=LinearSVC(dual=False,\n",
       "                                                                                                       penalty='l1'))),\n",
       "                                                                  ('scaler',\n",
       "                                                                   StandardScaler()),\n",
       "                                                                  ('poly',\n",
       "                                                                   PolynomialFeatures(interaction_only=True))]),\n",
       "                                                  Index(['culmen_length_mm', 'culmen_depth_mm', 'flipper_length_mm',\n",
       "       'body_mass_g'],\n",
       "      dtype='object')),\n",
       "                                                 ('cat',\n",
       "                                                  Pipeline(steps=[('imputer',\n",
       "                                                                   SimpleImputer(fill_value='most_frequent',\n",
       "                                                                                 strategy='constant')),\n",
       "                                                                  ('one_hot',\n",
       "                                                                   OneHotEncoder())]),\n",
       "                                                  Index(['island', 'sex'], dtype='object'))])),\n",
       "                ('model', RandomForestRegressor(max_depth=3))])"
      ]
     },
     "execution_count": 9,
     "metadata": {},
     "output_type": "execute_result"
    }
   ],
   "source": [
    "from sklearn.pipeline import Pipeline\n",
    "from sklearn.impute import SimpleImputer\n",
    "from sklearn.preprocessing import OneHotEncoder,StandardScaler,PolynomialFeatures\n",
    "from sklearn.compose import ColumnTransformer\n",
    "from sklearn import ensemble, neighbors,linear_model,svm\n",
    "from sklearn.feature_selection import SelectFromModel\n",
    "from sklearn.model_selection import cross_val_score\n",
    "\n",
    "numeric_transformer = Pipeline(steps=[\n",
    "    ('imputer', SimpleImputer(strategy='median')),\n",
    "    ('feature_selection',SelectFromModel(svm.LinearSVC(penalty = 'l1',dual = False))),\n",
    "    ('scaler', StandardScaler()),\n",
    "    ('poly', PolynomialFeatures(degree = 2,interaction_only = True)),\n",
    "    ])\n",
    "categorical_transformer = Pipeline(steps=[\n",
    "    ('imputer', SimpleImputer(strategy='constant', fill_value='most_frequent')),\n",
    "    ('one_hot', OneHotEncoder()),\n",
    "    ])\n",
    "preprocessor = ColumnTransformer(\n",
    "    transformers=[\n",
    "        ('num', numeric_transformer, numeric_features),\n",
    "        ('cat', categorical_transformer, categorical_features)\n",
    "    ])\n",
    "pipe = Pipeline(steps=[('preprocessor', preprocessor),\n",
    "                      ('model',  ensemble.RandomForestRegressor(max_depth = 3))])\n",
    "    \n",
    "#model = pipe.fit(X_train, y_train)\n",
    "pipe"
   ]
  },
  {
   "cell_type": "code",
   "execution_count": 10,
   "metadata": {},
   "outputs": [],
   "source": [
    "model_list = [#regressors\n",
    "                linear_model.LinearRegression(),linear_model.Lasso(),linear_model.Ridge(),\n",
    "              \n",
    "              #ensembling - regressors\n",
    "                ensemble.RandomForestRegressor(max_depth = 3),ensemble.AdaBoostRegressor(),ensemble.GradientBoostingRegressor(),\n",
    "    \n",
    "              #classifiers\n",
    "                linear_model.LogisticRegression(max_iter = 500), neighbors.KNeighborsClassifier(),svm.SVC(),             \n",
    "    \n",
    "              #ensembling - classifiers\n",
    "                ensemble.RandomForestClassifier(n_estimators=500,max_depth = 3),ensemble.AdaBoostClassifier(learning_rate=0.5),ensemble.GradientBoostingClassifier()\n",
    "\n",
    "              ]"
   ]
  },
  {
   "cell_type": "code",
   "execution_count": 11,
   "metadata": {},
   "outputs": [
    {
     "name": "stdout",
     "output_type": "stream",
     "text": [
      "Model                         Train  /  Test   /  Cross Validation\n",
      "-----------------------------------------------------------------\n",
      "LogisticRegression            1.0000 / 1.0000  /  0.9942 \n",
      "KNeighborsClassifier          0.9958 / 1.0000  /  0.9941 \n",
      "SVC                           0.9917 / 1.0000  /  0.9942 \n",
      "RandomForestClassifier        0.9792 / 0.9712  /  0.9796 \n",
      "AdaBoostClassifier            0.9833 / 0.9904  /  0.9855 \n",
      "GradientBoostingClassifier    1.0000 / 0.9904  /  0.9738 \n"
     ]
    }
   ],
   "source": [
    "rejected_models = []\n",
    "results = []\n",
    "print('{:30s}Train  /  Test   /  Cross Validation'.format('Model'))\n",
    "print('-----------------------------------------------------------------')\n",
    "for model in model_list:\n",
    "    pipe                 = Pipeline(steps=[('preprocessor', preprocessor),('model', model)])\n",
    "    \n",
    "    try:        \n",
    "        pipe.fit(X_train,y_train)\n",
    "        \n",
    "        model_name       = type(model).__name__\n",
    "        train_results    = np.abs(pipe.score(X_train,y_train))\n",
    "        test_results     = np.abs(pipe.score(X_test,y_test))\n",
    "        cross_val_scores = np.abs(cross_val_score(pipe, X, y, cv=5)) \n",
    "        cval_score       = cross_val_scores.mean()\n",
    "        \n",
    "        results.append([model_name, train_results, test_results,cval_score])\n",
    "        print('{:30s}{:.4f} / {:.4f}  /  {:.4f} '.format(model_name, train_results, test_results,cval_score))\n",
    "\n",
    "    except:\n",
    "        rejected_models.append(type(model).__name__)\n",
    "\n",
    "df_results = pd.DataFrame(results, columns=[\"Model\", \"Train Results\",\"Test Results\",'Test Cross Validation Results'])"
   ]
  },
  {
   "cell_type": "code",
   "execution_count": 12,
   "metadata": {},
   "outputs": [
    {
     "name": "stdout",
     "output_type": "stream",
     "text": [
      "Rejected Models list: \n",
      "  -  LinearRegression\n",
      "  -  Lasso\n",
      "  -  Ridge\n",
      "  -  RandomForestRegressor\n",
      "  -  AdaBoostRegressor\n",
      "  -  GradientBoostingRegressor\n"
     ]
    }
   ],
   "source": [
    "if rejected_models == []:\n",
    "    print('No models rejected')\n",
    "else:    \n",
    "    print('Rejected Models list: ')\n",
    "    for rej_models in rejected_models:\n",
    "        print('  - ',rej_models)"
   ]
  },
  {
   "cell_type": "code",
   "execution_count": 13,
   "metadata": {},
   "outputs": [
    {
     "data": {
      "text/html": [
       "<style  type=\"text/css\" >\n",
       "    #T_6d411808_c34a_11ea_b655_701ce71f71e2row0_col1 {\n",
       "            background-color:  lightgreen;\n",
       "        }    #T_6d411808_c34a_11ea_b655_701ce71f71e2row0_col2 {\n",
       "            background-color:  lightgreen;\n",
       "        }    #T_6d411808_c34a_11ea_b655_701ce71f71e2row0_col3 {\n",
       "            background-color:  lightgreen;\n",
       "        }    #T_6d411808_c34a_11ea_b655_701ce71f71e2row1_col2 {\n",
       "            background-color:  lightgreen;\n",
       "        }    #T_6d411808_c34a_11ea_b655_701ce71f71e2row1_col3 {\n",
       "            background-color:  lightgreen;\n",
       "        }    #T_6d411808_c34a_11ea_b655_701ce71f71e2row2_col2 {\n",
       "            background-color:  lightgreen;\n",
       "        }    #T_6d411808_c34a_11ea_b655_701ce71f71e2row5_col1 {\n",
       "            background-color:  lightgreen;\n",
       "        }</style><table id=\"T_6d411808_c34a_11ea_b655_701ce71f71e2\" ><thead>    <tr>        <th class=\"blank level0\" ></th>        <th class=\"col_heading level0 col0\" >Model</th>        <th class=\"col_heading level0 col1\" >Train Results</th>        <th class=\"col_heading level0 col2\" >Test Results</th>        <th class=\"col_heading level0 col3\" >Test Cross Validation Results</th>    </tr></thead><tbody>\n",
       "                <tr>\n",
       "                        <th id=\"T_6d411808_c34a_11ea_b655_701ce71f71e2level0_row0\" class=\"row_heading level0 row0\" >0</th>\n",
       "                        <td id=\"T_6d411808_c34a_11ea_b655_701ce71f71e2row0_col0\" class=\"data row0 col0\" >LogisticRegression</td>\n",
       "                        <td id=\"T_6d411808_c34a_11ea_b655_701ce71f71e2row0_col1\" class=\"data row0 col1\" >1.000000</td>\n",
       "                        <td id=\"T_6d411808_c34a_11ea_b655_701ce71f71e2row0_col2\" class=\"data row0 col2\" >1.000000</td>\n",
       "                        <td id=\"T_6d411808_c34a_11ea_b655_701ce71f71e2row0_col3\" class=\"data row0 col3\" >0.994160</td>\n",
       "            </tr>\n",
       "            <tr>\n",
       "                        <th id=\"T_6d411808_c34a_11ea_b655_701ce71f71e2level0_row1\" class=\"row_heading level0 row1\" >2</th>\n",
       "                        <td id=\"T_6d411808_c34a_11ea_b655_701ce71f71e2row1_col0\" class=\"data row1 col0\" >SVC</td>\n",
       "                        <td id=\"T_6d411808_c34a_11ea_b655_701ce71f71e2row1_col1\" class=\"data row1 col1\" >0.991667</td>\n",
       "                        <td id=\"T_6d411808_c34a_11ea_b655_701ce71f71e2row1_col2\" class=\"data row1 col2\" >1.000000</td>\n",
       "                        <td id=\"T_6d411808_c34a_11ea_b655_701ce71f71e2row1_col3\" class=\"data row1 col3\" >0.994160</td>\n",
       "            </tr>\n",
       "            <tr>\n",
       "                        <th id=\"T_6d411808_c34a_11ea_b655_701ce71f71e2level0_row2\" class=\"row_heading level0 row2\" >1</th>\n",
       "                        <td id=\"T_6d411808_c34a_11ea_b655_701ce71f71e2row2_col0\" class=\"data row2 col0\" >KNeighborsClassifier</td>\n",
       "                        <td id=\"T_6d411808_c34a_11ea_b655_701ce71f71e2row2_col1\" class=\"data row2 col1\" >0.995833</td>\n",
       "                        <td id=\"T_6d411808_c34a_11ea_b655_701ce71f71e2row2_col2\" class=\"data row2 col2\" >1.000000</td>\n",
       "                        <td id=\"T_6d411808_c34a_11ea_b655_701ce71f71e2row2_col3\" class=\"data row2 col3\" >0.994118</td>\n",
       "            </tr>\n",
       "            <tr>\n",
       "                        <th id=\"T_6d411808_c34a_11ea_b655_701ce71f71e2level0_row3\" class=\"row_heading level0 row3\" >4</th>\n",
       "                        <td id=\"T_6d411808_c34a_11ea_b655_701ce71f71e2row3_col0\" class=\"data row3 col0\" >AdaBoostClassifier</td>\n",
       "                        <td id=\"T_6d411808_c34a_11ea_b655_701ce71f71e2row3_col1\" class=\"data row3 col1\" >0.983333</td>\n",
       "                        <td id=\"T_6d411808_c34a_11ea_b655_701ce71f71e2row3_col2\" class=\"data row3 col2\" >0.990385</td>\n",
       "                        <td id=\"T_6d411808_c34a_11ea_b655_701ce71f71e2row3_col3\" class=\"data row3 col3\" >0.985465</td>\n",
       "            </tr>\n",
       "            <tr>\n",
       "                        <th id=\"T_6d411808_c34a_11ea_b655_701ce71f71e2level0_row4\" class=\"row_heading level0 row4\" >3</th>\n",
       "                        <td id=\"T_6d411808_c34a_11ea_b655_701ce71f71e2row4_col0\" class=\"data row4 col0\" >RandomForestClassifier</td>\n",
       "                        <td id=\"T_6d411808_c34a_11ea_b655_701ce71f71e2row4_col1\" class=\"data row4 col1\" >0.979167</td>\n",
       "                        <td id=\"T_6d411808_c34a_11ea_b655_701ce71f71e2row4_col2\" class=\"data row4 col2\" >0.971154</td>\n",
       "                        <td id=\"T_6d411808_c34a_11ea_b655_701ce71f71e2row4_col3\" class=\"data row4 col3\" >0.979582</td>\n",
       "            </tr>\n",
       "            <tr>\n",
       "                        <th id=\"T_6d411808_c34a_11ea_b655_701ce71f71e2level0_row5\" class=\"row_heading level0 row5\" >5</th>\n",
       "                        <td id=\"T_6d411808_c34a_11ea_b655_701ce71f71e2row5_col0\" class=\"data row5 col0\" >GradientBoostingClassifier</td>\n",
       "                        <td id=\"T_6d411808_c34a_11ea_b655_701ce71f71e2row5_col1\" class=\"data row5 col1\" >1.000000</td>\n",
       "                        <td id=\"T_6d411808_c34a_11ea_b655_701ce71f71e2row5_col2\" class=\"data row5 col2\" >0.990385</td>\n",
       "                        <td id=\"T_6d411808_c34a_11ea_b655_701ce71f71e2row5_col3\" class=\"data row5 col3\" >0.973828</td>\n",
       "            </tr>\n",
       "    </tbody></table>"
      ],
      "text/plain": [
       "<pandas.io.formats.style.Styler at 0x7fce2ba669e8>"
      ]
     },
     "execution_count": 13,
     "metadata": {},
     "output_type": "execute_result"
    }
   ],
   "source": [
    "def highlight_range(s):\n",
    "    '''\n",
    "    highlight the maximum in a Series green.\n",
    "    '''\n",
    "    is_max = s == s.max()\n",
    "    #threshold = 0.95\n",
    "    #val = s > threshold\n",
    "    return ['background-color: lightgreen' if v else '' for v in is_max]\n",
    "\n",
    "df_results.sort_values(by = 'Test Cross Validation Results',ascending = False)\\\n",
    ".style.apply(highlight_range,subset=pd.IndexSlice[:, ['Train Results', 'Test Results', 'Test Cross Validation Results']])"
   ]
  },
  {
   "cell_type": "code",
   "execution_count": null,
   "metadata": {},
   "outputs": [],
   "source": []
  },
  {
   "cell_type": "code",
   "execution_count": null,
   "metadata": {},
   "outputs": [],
   "source": []
  },
  {
   "cell_type": "code",
   "execution_count": null,
   "metadata": {},
   "outputs": [],
   "source": []
  },
  {
   "cell_type": "code",
   "execution_count": null,
   "metadata": {},
   "outputs": [],
   "source": []
  },
  {
   "cell_type": "code",
   "execution_count": null,
   "metadata": {},
   "outputs": [],
   "source": []
  },
  {
   "cell_type": "code",
   "execution_count": null,
   "metadata": {},
   "outputs": [],
   "source": []
  },
  {
   "cell_type": "code",
   "execution_count": null,
   "metadata": {},
   "outputs": [],
   "source": []
  },
  {
   "cell_type": "markdown",
   "metadata": {},
   "source": [
    "### Feature Selection"
   ]
  },
  {
   "cell_type": "code",
   "execution_count": 14,
   "metadata": {},
   "outputs": [],
   "source": [
    "# try:\n",
    "#     pipe = Pipeline(steps=[('preprocessor', preprocessor),('model',  ensemble.RandomForestRegressor(max_depth = 3))])\n",
    "#     pipe.fit(X_train,y_train)\n",
    "# except:\n",
    "#     pipe = Pipeline(steps=[('preprocessor', preprocessor),('model',  ensemble.RandomForestClassifier(max_depth = 3))])\n",
    "#     pipe.fit(X_train,y_train)\n",
    "\n",
    "# try:\n",
    "#     onehot_columns = list(pipe.named_steps['preprocessor'].named_transformers_['cat'].named_steps['one_hot']\n",
    "#                           .get_feature_names(input_features=categorical_features))\n",
    "# except:\n",
    "#     onehot_columns = []\n",
    "\n",
    "# numeric_features_list = list(numeric_features)\n",
    "# numeric_features_list.extend(onehot_columns)\n",
    "# eli5.explain_weights(pipe.named_steps['model'], top=10, feature_names=numeric_features_list)"
   ]
  },
  {
   "cell_type": "markdown",
   "metadata": {},
   "source": [
    "### TroubleShoot"
   ]
  },
  {
   "cell_type": "code",
   "execution_count": 15,
   "metadata": {},
   "outputs": [],
   "source": [
    "# rejected_models = []\n",
    "# results = []\n",
    "# print('{:30s}Train  /  Test   /  Cross Validation'.format('Model'))\n",
    "# print('-----------------------------------------------------------')\n",
    "# for model in model_list:\n",
    "#     pipe                 = Pipeline(steps=[('preprocessor', preprocessor),('model', model)])   \n",
    "#     pipe.fit(X_train,y_train)\n",
    "#     model_name       = type(model).__name__\n",
    "#     train_results    = np.abs(pipe.score(X_train,y_train))\n",
    "#     test_results     = np.abs(pipe.score(X_test,y_test))\n",
    "#     cross_val_scores = np.abs(cross_val_score(pipe, X, y, cv=5)) \n",
    "#     cval_score       = cross_val_scores.mean()\n",
    "\n",
    "#     print('{:30s}{:.4f} / {:.4f}  /  {:.4f} '.format(model_name, train_results, test_results,cval_score))"
   ]
  },
  {
   "cell_type": "code",
   "execution_count": null,
   "metadata": {},
   "outputs": [],
   "source": []
  }
 ],
 "metadata": {
  "kernelspec": {
   "display_name": "Python 3",
   "language": "python",
   "name": "python3"
  },
  "language_info": {
   "codemirror_mode": {
    "name": "ipython",
    "version": 3
   },
   "file_extension": ".py",
   "mimetype": "text/x-python",
   "name": "python",
   "nbconvert_exporter": "python",
   "pygments_lexer": "ipython3",
   "version": "3.6.9"
  }
 },
 "nbformat": 4,
 "nbformat_minor": 4
}
