{
 "cells": [
  {
   "cell_type": "code",
   "execution_count": 414,
   "metadata": {},
   "outputs": [
    {
     "data": {
      "text/plain": [
       "datasets.load_boston\n",
       "datasets.load_breast_cancer\n",
       "datasets.load_diabetes\n",
       "datasets.load_digits\n",
       "datasets.load_files\n",
       "datasets.load_iris\n",
       "datasets.load_linnerud\n",
       "datasets.load_sample_image\n",
       "datasets.load_sample_images\n",
       "datasets.load_svmlight_file\n",
       "datasets.load_svmlight_files\n",
       "datasets.load_wine"
      ]
     },
     "metadata": {},
     "output_type": "display_data"
    }
   ],
   "source": [
    "import pandas                  as     pd\n",
    "import numpy                   as     np\n",
    "import seaborn                 as     sns\n",
    "from sklearn.model_selection   import train_test_split\n",
    "from sklearn.feature_selection import VarianceThreshold\n",
    "from sklearn                   import datasets\n",
    "from sklearn.neighbors         import KNeighborsClassifier\n",
    "from sklearn.datasets          import load_iris\n",
    "from mlxtend.feature_selection import ExhaustiveFeatureSelector as EFS\n",
    "from mlxtend.feature_selection import SequentialFeatureSelector as SFS\n",
    "import matplotlib.pyplot       as     plt\n",
    "from sklearn.preprocessing     import StandardScaler\n",
    "\n",
    "\n",
    "from sklearn.svm               import SVC\n",
    "from sklearn.linear_model      import LinearRegression\n",
    "import warnings\n",
    "warnings.filterwarnings(\"ignore\")\n",
    "\n",
    "datasets.load*?"
   ]
  },
  {
   "cell_type": "code",
   "execution_count": 415,
   "metadata": {},
   "outputs": [],
   "source": [
    "def plot_res(efs):\n",
    "    metric_dict    = efs.get_metric_dict()\n",
    "\n",
    "    fig            = plt.figure()\n",
    "    k_feat         = sorted(metric_dict.keys())\n",
    "    avg            = [metric_dict[k]['avg_score'] for k in k_feat]\n",
    "\n",
    "    upper, lower   = [], []\n",
    "    for k in k_feat:\n",
    "        upper.append(metric_dict[k]['avg_score'] +\n",
    "                     metric_dict[k]['std_dev'])\n",
    "        lower.append(metric_dict[k]['avg_score'] -\n",
    "                     metric_dict[k]['std_dev'])\n",
    "\n",
    "    plt.fill_between(k_feat,\n",
    "                     upper,\n",
    "                     lower,\n",
    "                     alpha=0.2,\n",
    "                     color='blue',\n",
    "                     lw=1)\n",
    "\n",
    "    plt.plot(k_feat, avg, color='blue', marker='o');\n",
    "    plt.ylabel('Accuracy +/- Standard Deviation')\n",
    "    plt.xlabel('Number of Features')\n",
    "    feature_min = len(metric_dict[k_feat[0]]['feature_idx'])\n",
    "    feature_max = len(metric_dict[k_feat[-1]]['feature_idx'])\n",
    "    plt.xticks(k_feat, \n",
    "               [str(metric_dict[k]['feature_names']) for k in k_feat], \n",
    "               rotation=90);\n",
    "    plt.show();"
   ]
  },
  {
   "cell_type": "code",
   "execution_count": 416,
   "metadata": {},
   "outputs": [],
   "source": [
    "def sklearn_to_df(sklearn_dataset):\n",
    "    df            = pd.DataFrame(sklearn_dataset.data, columns=sklearn_dataset.feature_names)\n",
    "    df['target']  = pd.Series(sklearn_dataset.target)\n",
    "    return df"
   ]
  },
  {
   "cell_type": "code",
   "execution_count": 424,
   "metadata": {},
   "outputs": [
    {
     "data": {
      "text/plain": [
       "(178, 11)"
      ]
     },
     "execution_count": 424,
     "metadata": {},
     "output_type": "execute_result"
    },
    {
     "data": {
      "text/html": [
       "<div>\n",
       "<style scoped>\n",
       "    .dataframe tbody tr th:only-of-type {\n",
       "        vertical-align: middle;\n",
       "    }\n",
       "\n",
       "    .dataframe tbody tr th {\n",
       "        vertical-align: top;\n",
       "    }\n",
       "\n",
       "    .dataframe thead th {\n",
       "        text-align: right;\n",
       "    }\n",
       "</style>\n",
       "<table border=\"1\" class=\"dataframe\">\n",
       "  <thead>\n",
       "    <tr style=\"text-align: right;\">\n",
       "      <th></th>\n",
       "      <th>alcohol</th>\n",
       "      <th>malic_acid</th>\n",
       "      <th>ash</th>\n",
       "      <th>alcalinity_of_ash</th>\n",
       "      <th>magnesium</th>\n",
       "      <th>total_phenols</th>\n",
       "      <th>nonflavanoid_phenols</th>\n",
       "      <th>proanthocyanins</th>\n",
       "      <th>color_intensity</th>\n",
       "      <th>hue</th>\n",
       "      <th>proline</th>\n",
       "    </tr>\n",
       "  </thead>\n",
       "  <tbody>\n",
       "    <tr>\n",
       "      <th>0</th>\n",
       "      <td>1.518613</td>\n",
       "      <td>-0.562250</td>\n",
       "      <td>0.232053</td>\n",
       "      <td>-1.169593</td>\n",
       "      <td>1.913905</td>\n",
       "      <td>0.808997</td>\n",
       "      <td>-0.659563</td>\n",
       "      <td>1.224884</td>\n",
       "      <td>0.251717</td>\n",
       "      <td>0.362177</td>\n",
       "      <td>1.013009</td>\n",
       "    </tr>\n",
       "    <tr>\n",
       "      <th>1</th>\n",
       "      <td>0.246290</td>\n",
       "      <td>-0.499413</td>\n",
       "      <td>-0.827996</td>\n",
       "      <td>-2.490847</td>\n",
       "      <td>0.018145</td>\n",
       "      <td>0.568648</td>\n",
       "      <td>-0.820719</td>\n",
       "      <td>-0.544721</td>\n",
       "      <td>-0.293321</td>\n",
       "      <td>0.406051</td>\n",
       "      <td>0.965242</td>\n",
       "    </tr>\n",
       "    <tr>\n",
       "      <th>2</th>\n",
       "      <td>0.196879</td>\n",
       "      <td>0.021231</td>\n",
       "      <td>1.109334</td>\n",
       "      <td>-0.268738</td>\n",
       "      <td>0.088358</td>\n",
       "      <td>0.808997</td>\n",
       "      <td>-0.498407</td>\n",
       "      <td>2.135968</td>\n",
       "      <td>0.269020</td>\n",
       "      <td>0.318304</td>\n",
       "      <td>1.395148</td>\n",
       "    </tr>\n",
       "    <tr>\n",
       "      <th>3</th>\n",
       "      <td>1.691550</td>\n",
       "      <td>-0.346811</td>\n",
       "      <td>0.487926</td>\n",
       "      <td>-0.809251</td>\n",
       "      <td>0.930918</td>\n",
       "      <td>2.491446</td>\n",
       "      <td>-0.981875</td>\n",
       "      <td>1.032155</td>\n",
       "      <td>1.186068</td>\n",
       "      <td>-0.427544</td>\n",
       "      <td>2.334574</td>\n",
       "    </tr>\n",
       "    <tr>\n",
       "      <th>4</th>\n",
       "      <td>0.295700</td>\n",
       "      <td>0.227694</td>\n",
       "      <td>1.840403</td>\n",
       "      <td>0.451946</td>\n",
       "      <td>1.281985</td>\n",
       "      <td>0.808997</td>\n",
       "      <td>0.226796</td>\n",
       "      <td>0.401404</td>\n",
       "      <td>-0.319276</td>\n",
       "      <td>0.362177</td>\n",
       "      <td>-0.037874</td>\n",
       "    </tr>\n",
       "  </tbody>\n",
       "</table>\n",
       "</div>"
      ],
      "text/plain": [
       "    alcohol  malic_acid       ash  alcalinity_of_ash  magnesium  \\\n",
       "0  1.518613   -0.562250  0.232053          -1.169593   1.913905   \n",
       "1  0.246290   -0.499413 -0.827996          -2.490847   0.018145   \n",
       "2  0.196879    0.021231  1.109334          -0.268738   0.088358   \n",
       "3  1.691550   -0.346811  0.487926          -0.809251   0.930918   \n",
       "4  0.295700    0.227694  1.840403           0.451946   1.281985   \n",
       "\n",
       "   total_phenols  nonflavanoid_phenols  proanthocyanins  color_intensity  \\\n",
       "0       0.808997             -0.659563         1.224884         0.251717   \n",
       "1       0.568648             -0.820719        -0.544721        -0.293321   \n",
       "2       0.808997             -0.498407         2.135968         0.269020   \n",
       "3       2.491446             -0.981875         1.032155         1.186068   \n",
       "4       0.808997              0.226796         0.401404        -0.319276   \n",
       "\n",
       "        hue   proline  \n",
       "0  0.362177  1.013009  \n",
       "1  0.406051  0.965242  \n",
       "2  0.318304  1.395148  \n",
       "3 -0.427544  2.334574  \n",
       "4  0.362177 -0.037874  "
      ]
     },
     "execution_count": 424,
     "metadata": {},
     "output_type": "execute_result"
    }
   ],
   "source": [
    "df = sklearn_to_df(datasets.load_wine())\n",
    "\n",
    "df = df.drop(['flavanoids','od280/od315_of_diluted_wines'], axis = 1)\n",
    "\n",
    "X = df.drop(['target'], axis = 1)\n",
    "y = df['target']\n",
    "\n",
    "std = StandardScaler()\n",
    "\n",
    "X_scaled = std.fit_transform(X)\n",
    "\n",
    "X = pd.DataFrame(X_scaled, columns = X.columns)\n",
    "\n",
    "X.shape\n",
    "X.head(5)"
   ]
  },
  {
   "cell_type": "markdown",
   "metadata": {},
   "source": [
    "## Correlation"
   ]
  },
  {
   "cell_type": "code",
   "execution_count": 425,
   "metadata": {},
   "outputs": [],
   "source": [
    "df_corr = df.corr()"
   ]
  },
  {
   "cell_type": "code",
   "execution_count": 426,
   "metadata": {},
   "outputs": [
    {
     "data": {
      "text/html": [
       "<style  type=\"text/css\" >\n",
       "    #T_14f0e780_c46e_11ea_88ab_701ce71f71e2  {\n",
       "          border: 1px solid #7a7;\n",
       "    }    #T_14f0e780_c46e_11ea_88ab_701ce71f71e2row0_col0 {\n",
       "            background-color:  lightgreen;\n",
       "        }    #T_14f0e780_c46e_11ea_88ab_701ce71f71e2row1_col1 {\n",
       "            background-color:  lightgreen;\n",
       "        }    #T_14f0e780_c46e_11ea_88ab_701ce71f71e2row2_col2 {\n",
       "            background-color:  lightgreen;\n",
       "        }    #T_14f0e780_c46e_11ea_88ab_701ce71f71e2row3_col3 {\n",
       "            background-color:  lightgreen;\n",
       "        }    #T_14f0e780_c46e_11ea_88ab_701ce71f71e2row4_col4 {\n",
       "            background-color:  lightgreen;\n",
       "        }    #T_14f0e780_c46e_11ea_88ab_701ce71f71e2row5_col5 {\n",
       "            background-color:  lightgreen;\n",
       "        }    #T_14f0e780_c46e_11ea_88ab_701ce71f71e2row6_col6 {\n",
       "            background-color:  lightgreen;\n",
       "        }    #T_14f0e780_c46e_11ea_88ab_701ce71f71e2row7_col7 {\n",
       "            background-color:  lightgreen;\n",
       "        }    #T_14f0e780_c46e_11ea_88ab_701ce71f71e2row8_col8 {\n",
       "            background-color:  lightgreen;\n",
       "        }    #T_14f0e780_c46e_11ea_88ab_701ce71f71e2row9_col9 {\n",
       "            background-color:  lightgreen;\n",
       "        }    #T_14f0e780_c46e_11ea_88ab_701ce71f71e2row10_col10 {\n",
       "            background-color:  lightgreen;\n",
       "        }    #T_14f0e780_c46e_11ea_88ab_701ce71f71e2row11_col11 {\n",
       "            background-color:  lightgreen;\n",
       "        }</style><table id=\"T_14f0e780_c46e_11ea_88ab_701ce71f71e2\" ><thead>    <tr>        <th class=\"blank level0\" ></th>        <th class=\"col_heading level0 col0\" >alcohol</th>        <th class=\"col_heading level0 col1\" >malic_acid</th>        <th class=\"col_heading level0 col2\" >ash</th>        <th class=\"col_heading level0 col3\" >alcalinity_of_ash</th>        <th class=\"col_heading level0 col4\" >magnesium</th>        <th class=\"col_heading level0 col5\" >total_phenols</th>        <th class=\"col_heading level0 col6\" >nonflavanoid_phenols</th>        <th class=\"col_heading level0 col7\" >proanthocyanins</th>        <th class=\"col_heading level0 col8\" >color_intensity</th>        <th class=\"col_heading level0 col9\" >hue</th>        <th class=\"col_heading level0 col10\" >proline</th>        <th class=\"col_heading level0 col11\" >target</th>    </tr></thead><tbody>\n",
       "                <tr>\n",
       "                        <th id=\"T_14f0e780_c46e_11ea_88ab_701ce71f71e2level0_row0\" class=\"row_heading level0 row0\" >alcohol</th>\n",
       "                        <td id=\"T_14f0e780_c46e_11ea_88ab_701ce71f71e2row0_col0\" class=\"data row0 col0\" >1.000000</td>\n",
       "                        <td id=\"T_14f0e780_c46e_11ea_88ab_701ce71f71e2row0_col1\" class=\"data row0 col1\" >0.094397</td>\n",
       "                        <td id=\"T_14f0e780_c46e_11ea_88ab_701ce71f71e2row0_col2\" class=\"data row0 col2\" >0.211545</td>\n",
       "                        <td id=\"T_14f0e780_c46e_11ea_88ab_701ce71f71e2row0_col3\" class=\"data row0 col3\" >-0.310235</td>\n",
       "                        <td id=\"T_14f0e780_c46e_11ea_88ab_701ce71f71e2row0_col4\" class=\"data row0 col4\" >0.270798</td>\n",
       "                        <td id=\"T_14f0e780_c46e_11ea_88ab_701ce71f71e2row0_col5\" class=\"data row0 col5\" >0.289101</td>\n",
       "                        <td id=\"T_14f0e780_c46e_11ea_88ab_701ce71f71e2row0_col6\" class=\"data row0 col6\" >-0.155929</td>\n",
       "                        <td id=\"T_14f0e780_c46e_11ea_88ab_701ce71f71e2row0_col7\" class=\"data row0 col7\" >0.136698</td>\n",
       "                        <td id=\"T_14f0e780_c46e_11ea_88ab_701ce71f71e2row0_col8\" class=\"data row0 col8\" >0.546364</td>\n",
       "                        <td id=\"T_14f0e780_c46e_11ea_88ab_701ce71f71e2row0_col9\" class=\"data row0 col9\" >-0.071747</td>\n",
       "                        <td id=\"T_14f0e780_c46e_11ea_88ab_701ce71f71e2row0_col10\" class=\"data row0 col10\" >0.643720</td>\n",
       "                        <td id=\"T_14f0e780_c46e_11ea_88ab_701ce71f71e2row0_col11\" class=\"data row0 col11\" >-0.328222</td>\n",
       "            </tr>\n",
       "            <tr>\n",
       "                        <th id=\"T_14f0e780_c46e_11ea_88ab_701ce71f71e2level0_row1\" class=\"row_heading level0 row1\" >malic_acid</th>\n",
       "                        <td id=\"T_14f0e780_c46e_11ea_88ab_701ce71f71e2row1_col0\" class=\"data row1 col0\" >0.094397</td>\n",
       "                        <td id=\"T_14f0e780_c46e_11ea_88ab_701ce71f71e2row1_col1\" class=\"data row1 col1\" >1.000000</td>\n",
       "                        <td id=\"T_14f0e780_c46e_11ea_88ab_701ce71f71e2row1_col2\" class=\"data row1 col2\" >0.164045</td>\n",
       "                        <td id=\"T_14f0e780_c46e_11ea_88ab_701ce71f71e2row1_col3\" class=\"data row1 col3\" >0.288500</td>\n",
       "                        <td id=\"T_14f0e780_c46e_11ea_88ab_701ce71f71e2row1_col4\" class=\"data row1 col4\" >-0.054575</td>\n",
       "                        <td id=\"T_14f0e780_c46e_11ea_88ab_701ce71f71e2row1_col5\" class=\"data row1 col5\" >-0.335167</td>\n",
       "                        <td id=\"T_14f0e780_c46e_11ea_88ab_701ce71f71e2row1_col6\" class=\"data row1 col6\" >0.292977</td>\n",
       "                        <td id=\"T_14f0e780_c46e_11ea_88ab_701ce71f71e2row1_col7\" class=\"data row1 col7\" >-0.220746</td>\n",
       "                        <td id=\"T_14f0e780_c46e_11ea_88ab_701ce71f71e2row1_col8\" class=\"data row1 col8\" >0.248985</td>\n",
       "                        <td id=\"T_14f0e780_c46e_11ea_88ab_701ce71f71e2row1_col9\" class=\"data row1 col9\" >-0.561296</td>\n",
       "                        <td id=\"T_14f0e780_c46e_11ea_88ab_701ce71f71e2row1_col10\" class=\"data row1 col10\" >-0.192011</td>\n",
       "                        <td id=\"T_14f0e780_c46e_11ea_88ab_701ce71f71e2row1_col11\" class=\"data row1 col11\" >0.437776</td>\n",
       "            </tr>\n",
       "            <tr>\n",
       "                        <th id=\"T_14f0e780_c46e_11ea_88ab_701ce71f71e2level0_row2\" class=\"row_heading level0 row2\" >ash</th>\n",
       "                        <td id=\"T_14f0e780_c46e_11ea_88ab_701ce71f71e2row2_col0\" class=\"data row2 col0\" >0.211545</td>\n",
       "                        <td id=\"T_14f0e780_c46e_11ea_88ab_701ce71f71e2row2_col1\" class=\"data row2 col1\" >0.164045</td>\n",
       "                        <td id=\"T_14f0e780_c46e_11ea_88ab_701ce71f71e2row2_col2\" class=\"data row2 col2\" >1.000000</td>\n",
       "                        <td id=\"T_14f0e780_c46e_11ea_88ab_701ce71f71e2row2_col3\" class=\"data row2 col3\" >0.443367</td>\n",
       "                        <td id=\"T_14f0e780_c46e_11ea_88ab_701ce71f71e2row2_col4\" class=\"data row2 col4\" >0.286587</td>\n",
       "                        <td id=\"T_14f0e780_c46e_11ea_88ab_701ce71f71e2row2_col5\" class=\"data row2 col5\" >0.128980</td>\n",
       "                        <td id=\"T_14f0e780_c46e_11ea_88ab_701ce71f71e2row2_col6\" class=\"data row2 col6\" >0.186230</td>\n",
       "                        <td id=\"T_14f0e780_c46e_11ea_88ab_701ce71f71e2row2_col7\" class=\"data row2 col7\" >0.009652</td>\n",
       "                        <td id=\"T_14f0e780_c46e_11ea_88ab_701ce71f71e2row2_col8\" class=\"data row2 col8\" >0.258887</td>\n",
       "                        <td id=\"T_14f0e780_c46e_11ea_88ab_701ce71f71e2row2_col9\" class=\"data row2 col9\" >-0.074667</td>\n",
       "                        <td id=\"T_14f0e780_c46e_11ea_88ab_701ce71f71e2row2_col10\" class=\"data row2 col10\" >0.223626</td>\n",
       "                        <td id=\"T_14f0e780_c46e_11ea_88ab_701ce71f71e2row2_col11\" class=\"data row2 col11\" >-0.049643</td>\n",
       "            </tr>\n",
       "            <tr>\n",
       "                        <th id=\"T_14f0e780_c46e_11ea_88ab_701ce71f71e2level0_row3\" class=\"row_heading level0 row3\" >alcalinity_of_ash</th>\n",
       "                        <td id=\"T_14f0e780_c46e_11ea_88ab_701ce71f71e2row3_col0\" class=\"data row3 col0\" >-0.310235</td>\n",
       "                        <td id=\"T_14f0e780_c46e_11ea_88ab_701ce71f71e2row3_col1\" class=\"data row3 col1\" >0.288500</td>\n",
       "                        <td id=\"T_14f0e780_c46e_11ea_88ab_701ce71f71e2row3_col2\" class=\"data row3 col2\" >0.443367</td>\n",
       "                        <td id=\"T_14f0e780_c46e_11ea_88ab_701ce71f71e2row3_col3\" class=\"data row3 col3\" >1.000000</td>\n",
       "                        <td id=\"T_14f0e780_c46e_11ea_88ab_701ce71f71e2row3_col4\" class=\"data row3 col4\" >-0.083333</td>\n",
       "                        <td id=\"T_14f0e780_c46e_11ea_88ab_701ce71f71e2row3_col5\" class=\"data row3 col5\" >-0.321113</td>\n",
       "                        <td id=\"T_14f0e780_c46e_11ea_88ab_701ce71f71e2row3_col6\" class=\"data row3 col6\" >0.361922</td>\n",
       "                        <td id=\"T_14f0e780_c46e_11ea_88ab_701ce71f71e2row3_col7\" class=\"data row3 col7\" >-0.197327</td>\n",
       "                        <td id=\"T_14f0e780_c46e_11ea_88ab_701ce71f71e2row3_col8\" class=\"data row3 col8\" >0.018732</td>\n",
       "                        <td id=\"T_14f0e780_c46e_11ea_88ab_701ce71f71e2row3_col9\" class=\"data row3 col9\" >-0.273955</td>\n",
       "                        <td id=\"T_14f0e780_c46e_11ea_88ab_701ce71f71e2row3_col10\" class=\"data row3 col10\" >-0.440597</td>\n",
       "                        <td id=\"T_14f0e780_c46e_11ea_88ab_701ce71f71e2row3_col11\" class=\"data row3 col11\" >0.517859</td>\n",
       "            </tr>\n",
       "            <tr>\n",
       "                        <th id=\"T_14f0e780_c46e_11ea_88ab_701ce71f71e2level0_row4\" class=\"row_heading level0 row4\" >magnesium</th>\n",
       "                        <td id=\"T_14f0e780_c46e_11ea_88ab_701ce71f71e2row4_col0\" class=\"data row4 col0\" >0.270798</td>\n",
       "                        <td id=\"T_14f0e780_c46e_11ea_88ab_701ce71f71e2row4_col1\" class=\"data row4 col1\" >-0.054575</td>\n",
       "                        <td id=\"T_14f0e780_c46e_11ea_88ab_701ce71f71e2row4_col2\" class=\"data row4 col2\" >0.286587</td>\n",
       "                        <td id=\"T_14f0e780_c46e_11ea_88ab_701ce71f71e2row4_col3\" class=\"data row4 col3\" >-0.083333</td>\n",
       "                        <td id=\"T_14f0e780_c46e_11ea_88ab_701ce71f71e2row4_col4\" class=\"data row4 col4\" >1.000000</td>\n",
       "                        <td id=\"T_14f0e780_c46e_11ea_88ab_701ce71f71e2row4_col5\" class=\"data row4 col5\" >0.214401</td>\n",
       "                        <td id=\"T_14f0e780_c46e_11ea_88ab_701ce71f71e2row4_col6\" class=\"data row4 col6\" >-0.256294</td>\n",
       "                        <td id=\"T_14f0e780_c46e_11ea_88ab_701ce71f71e2row4_col7\" class=\"data row4 col7\" >0.236441</td>\n",
       "                        <td id=\"T_14f0e780_c46e_11ea_88ab_701ce71f71e2row4_col8\" class=\"data row4 col8\" >0.199950</td>\n",
       "                        <td id=\"T_14f0e780_c46e_11ea_88ab_701ce71f71e2row4_col9\" class=\"data row4 col9\" >0.055398</td>\n",
       "                        <td id=\"T_14f0e780_c46e_11ea_88ab_701ce71f71e2row4_col10\" class=\"data row4 col10\" >0.393351</td>\n",
       "                        <td id=\"T_14f0e780_c46e_11ea_88ab_701ce71f71e2row4_col11\" class=\"data row4 col11\" >-0.209179</td>\n",
       "            </tr>\n",
       "            <tr>\n",
       "                        <th id=\"T_14f0e780_c46e_11ea_88ab_701ce71f71e2level0_row5\" class=\"row_heading level0 row5\" >total_phenols</th>\n",
       "                        <td id=\"T_14f0e780_c46e_11ea_88ab_701ce71f71e2row5_col0\" class=\"data row5 col0\" >0.289101</td>\n",
       "                        <td id=\"T_14f0e780_c46e_11ea_88ab_701ce71f71e2row5_col1\" class=\"data row5 col1\" >-0.335167</td>\n",
       "                        <td id=\"T_14f0e780_c46e_11ea_88ab_701ce71f71e2row5_col2\" class=\"data row5 col2\" >0.128980</td>\n",
       "                        <td id=\"T_14f0e780_c46e_11ea_88ab_701ce71f71e2row5_col3\" class=\"data row5 col3\" >-0.321113</td>\n",
       "                        <td id=\"T_14f0e780_c46e_11ea_88ab_701ce71f71e2row5_col4\" class=\"data row5 col4\" >0.214401</td>\n",
       "                        <td id=\"T_14f0e780_c46e_11ea_88ab_701ce71f71e2row5_col5\" class=\"data row5 col5\" >1.000000</td>\n",
       "                        <td id=\"T_14f0e780_c46e_11ea_88ab_701ce71f71e2row5_col6\" class=\"data row5 col6\" >-0.449935</td>\n",
       "                        <td id=\"T_14f0e780_c46e_11ea_88ab_701ce71f71e2row5_col7\" class=\"data row5 col7\" >0.612413</td>\n",
       "                        <td id=\"T_14f0e780_c46e_11ea_88ab_701ce71f71e2row5_col8\" class=\"data row5 col8\" >-0.055136</td>\n",
       "                        <td id=\"T_14f0e780_c46e_11ea_88ab_701ce71f71e2row5_col9\" class=\"data row5 col9\" >0.433681</td>\n",
       "                        <td id=\"T_14f0e780_c46e_11ea_88ab_701ce71f71e2row5_col10\" class=\"data row5 col10\" >0.498115</td>\n",
       "                        <td id=\"T_14f0e780_c46e_11ea_88ab_701ce71f71e2row5_col11\" class=\"data row5 col11\" >-0.719163</td>\n",
       "            </tr>\n",
       "            <tr>\n",
       "                        <th id=\"T_14f0e780_c46e_11ea_88ab_701ce71f71e2level0_row6\" class=\"row_heading level0 row6\" >nonflavanoid_phenols</th>\n",
       "                        <td id=\"T_14f0e780_c46e_11ea_88ab_701ce71f71e2row6_col0\" class=\"data row6 col0\" >-0.155929</td>\n",
       "                        <td id=\"T_14f0e780_c46e_11ea_88ab_701ce71f71e2row6_col1\" class=\"data row6 col1\" >0.292977</td>\n",
       "                        <td id=\"T_14f0e780_c46e_11ea_88ab_701ce71f71e2row6_col2\" class=\"data row6 col2\" >0.186230</td>\n",
       "                        <td id=\"T_14f0e780_c46e_11ea_88ab_701ce71f71e2row6_col3\" class=\"data row6 col3\" >0.361922</td>\n",
       "                        <td id=\"T_14f0e780_c46e_11ea_88ab_701ce71f71e2row6_col4\" class=\"data row6 col4\" >-0.256294</td>\n",
       "                        <td id=\"T_14f0e780_c46e_11ea_88ab_701ce71f71e2row6_col5\" class=\"data row6 col5\" >-0.449935</td>\n",
       "                        <td id=\"T_14f0e780_c46e_11ea_88ab_701ce71f71e2row6_col6\" class=\"data row6 col6\" >1.000000</td>\n",
       "                        <td id=\"T_14f0e780_c46e_11ea_88ab_701ce71f71e2row6_col7\" class=\"data row6 col7\" >-0.365845</td>\n",
       "                        <td id=\"T_14f0e780_c46e_11ea_88ab_701ce71f71e2row6_col8\" class=\"data row6 col8\" >0.139057</td>\n",
       "                        <td id=\"T_14f0e780_c46e_11ea_88ab_701ce71f71e2row6_col9\" class=\"data row6 col9\" >-0.262640</td>\n",
       "                        <td id=\"T_14f0e780_c46e_11ea_88ab_701ce71f71e2row6_col10\" class=\"data row6 col10\" >-0.311385</td>\n",
       "                        <td id=\"T_14f0e780_c46e_11ea_88ab_701ce71f71e2row6_col11\" class=\"data row6 col11\" >0.489109</td>\n",
       "            </tr>\n",
       "            <tr>\n",
       "                        <th id=\"T_14f0e780_c46e_11ea_88ab_701ce71f71e2level0_row7\" class=\"row_heading level0 row7\" >proanthocyanins</th>\n",
       "                        <td id=\"T_14f0e780_c46e_11ea_88ab_701ce71f71e2row7_col0\" class=\"data row7 col0\" >0.136698</td>\n",
       "                        <td id=\"T_14f0e780_c46e_11ea_88ab_701ce71f71e2row7_col1\" class=\"data row7 col1\" >-0.220746</td>\n",
       "                        <td id=\"T_14f0e780_c46e_11ea_88ab_701ce71f71e2row7_col2\" class=\"data row7 col2\" >0.009652</td>\n",
       "                        <td id=\"T_14f0e780_c46e_11ea_88ab_701ce71f71e2row7_col3\" class=\"data row7 col3\" >-0.197327</td>\n",
       "                        <td id=\"T_14f0e780_c46e_11ea_88ab_701ce71f71e2row7_col4\" class=\"data row7 col4\" >0.236441</td>\n",
       "                        <td id=\"T_14f0e780_c46e_11ea_88ab_701ce71f71e2row7_col5\" class=\"data row7 col5\" >0.612413</td>\n",
       "                        <td id=\"T_14f0e780_c46e_11ea_88ab_701ce71f71e2row7_col6\" class=\"data row7 col6\" >-0.365845</td>\n",
       "                        <td id=\"T_14f0e780_c46e_11ea_88ab_701ce71f71e2row7_col7\" class=\"data row7 col7\" >1.000000</td>\n",
       "                        <td id=\"T_14f0e780_c46e_11ea_88ab_701ce71f71e2row7_col8\" class=\"data row7 col8\" >-0.025250</td>\n",
       "                        <td id=\"T_14f0e780_c46e_11ea_88ab_701ce71f71e2row7_col9\" class=\"data row7 col9\" >0.295544</td>\n",
       "                        <td id=\"T_14f0e780_c46e_11ea_88ab_701ce71f71e2row7_col10\" class=\"data row7 col10\" >0.330417</td>\n",
       "                        <td id=\"T_14f0e780_c46e_11ea_88ab_701ce71f71e2row7_col11\" class=\"data row7 col11\" >-0.499130</td>\n",
       "            </tr>\n",
       "            <tr>\n",
       "                        <th id=\"T_14f0e780_c46e_11ea_88ab_701ce71f71e2level0_row8\" class=\"row_heading level0 row8\" >color_intensity</th>\n",
       "                        <td id=\"T_14f0e780_c46e_11ea_88ab_701ce71f71e2row8_col0\" class=\"data row8 col0\" >0.546364</td>\n",
       "                        <td id=\"T_14f0e780_c46e_11ea_88ab_701ce71f71e2row8_col1\" class=\"data row8 col1\" >0.248985</td>\n",
       "                        <td id=\"T_14f0e780_c46e_11ea_88ab_701ce71f71e2row8_col2\" class=\"data row8 col2\" >0.258887</td>\n",
       "                        <td id=\"T_14f0e780_c46e_11ea_88ab_701ce71f71e2row8_col3\" class=\"data row8 col3\" >0.018732</td>\n",
       "                        <td id=\"T_14f0e780_c46e_11ea_88ab_701ce71f71e2row8_col4\" class=\"data row8 col4\" >0.199950</td>\n",
       "                        <td id=\"T_14f0e780_c46e_11ea_88ab_701ce71f71e2row8_col5\" class=\"data row8 col5\" >-0.055136</td>\n",
       "                        <td id=\"T_14f0e780_c46e_11ea_88ab_701ce71f71e2row8_col6\" class=\"data row8 col6\" >0.139057</td>\n",
       "                        <td id=\"T_14f0e780_c46e_11ea_88ab_701ce71f71e2row8_col7\" class=\"data row8 col7\" >-0.025250</td>\n",
       "                        <td id=\"T_14f0e780_c46e_11ea_88ab_701ce71f71e2row8_col8\" class=\"data row8 col8\" >1.000000</td>\n",
       "                        <td id=\"T_14f0e780_c46e_11ea_88ab_701ce71f71e2row8_col9\" class=\"data row8 col9\" >-0.521813</td>\n",
       "                        <td id=\"T_14f0e780_c46e_11ea_88ab_701ce71f71e2row8_col10\" class=\"data row8 col10\" >0.316100</td>\n",
       "                        <td id=\"T_14f0e780_c46e_11ea_88ab_701ce71f71e2row8_col11\" class=\"data row8 col11\" >0.265668</td>\n",
       "            </tr>\n",
       "            <tr>\n",
       "                        <th id=\"T_14f0e780_c46e_11ea_88ab_701ce71f71e2level0_row9\" class=\"row_heading level0 row9\" >hue</th>\n",
       "                        <td id=\"T_14f0e780_c46e_11ea_88ab_701ce71f71e2row9_col0\" class=\"data row9 col0\" >-0.071747</td>\n",
       "                        <td id=\"T_14f0e780_c46e_11ea_88ab_701ce71f71e2row9_col1\" class=\"data row9 col1\" >-0.561296</td>\n",
       "                        <td id=\"T_14f0e780_c46e_11ea_88ab_701ce71f71e2row9_col2\" class=\"data row9 col2\" >-0.074667</td>\n",
       "                        <td id=\"T_14f0e780_c46e_11ea_88ab_701ce71f71e2row9_col3\" class=\"data row9 col3\" >-0.273955</td>\n",
       "                        <td id=\"T_14f0e780_c46e_11ea_88ab_701ce71f71e2row9_col4\" class=\"data row9 col4\" >0.055398</td>\n",
       "                        <td id=\"T_14f0e780_c46e_11ea_88ab_701ce71f71e2row9_col5\" class=\"data row9 col5\" >0.433681</td>\n",
       "                        <td id=\"T_14f0e780_c46e_11ea_88ab_701ce71f71e2row9_col6\" class=\"data row9 col6\" >-0.262640</td>\n",
       "                        <td id=\"T_14f0e780_c46e_11ea_88ab_701ce71f71e2row9_col7\" class=\"data row9 col7\" >0.295544</td>\n",
       "                        <td id=\"T_14f0e780_c46e_11ea_88ab_701ce71f71e2row9_col8\" class=\"data row9 col8\" >-0.521813</td>\n",
       "                        <td id=\"T_14f0e780_c46e_11ea_88ab_701ce71f71e2row9_col9\" class=\"data row9 col9\" >1.000000</td>\n",
       "                        <td id=\"T_14f0e780_c46e_11ea_88ab_701ce71f71e2row9_col10\" class=\"data row9 col10\" >0.236183</td>\n",
       "                        <td id=\"T_14f0e780_c46e_11ea_88ab_701ce71f71e2row9_col11\" class=\"data row9 col11\" >-0.617369</td>\n",
       "            </tr>\n",
       "            <tr>\n",
       "                        <th id=\"T_14f0e780_c46e_11ea_88ab_701ce71f71e2level0_row10\" class=\"row_heading level0 row10\" >proline</th>\n",
       "                        <td id=\"T_14f0e780_c46e_11ea_88ab_701ce71f71e2row10_col0\" class=\"data row10 col0\" >0.643720</td>\n",
       "                        <td id=\"T_14f0e780_c46e_11ea_88ab_701ce71f71e2row10_col1\" class=\"data row10 col1\" >-0.192011</td>\n",
       "                        <td id=\"T_14f0e780_c46e_11ea_88ab_701ce71f71e2row10_col2\" class=\"data row10 col2\" >0.223626</td>\n",
       "                        <td id=\"T_14f0e780_c46e_11ea_88ab_701ce71f71e2row10_col3\" class=\"data row10 col3\" >-0.440597</td>\n",
       "                        <td id=\"T_14f0e780_c46e_11ea_88ab_701ce71f71e2row10_col4\" class=\"data row10 col4\" >0.393351</td>\n",
       "                        <td id=\"T_14f0e780_c46e_11ea_88ab_701ce71f71e2row10_col5\" class=\"data row10 col5\" >0.498115</td>\n",
       "                        <td id=\"T_14f0e780_c46e_11ea_88ab_701ce71f71e2row10_col6\" class=\"data row10 col6\" >-0.311385</td>\n",
       "                        <td id=\"T_14f0e780_c46e_11ea_88ab_701ce71f71e2row10_col7\" class=\"data row10 col7\" >0.330417</td>\n",
       "                        <td id=\"T_14f0e780_c46e_11ea_88ab_701ce71f71e2row10_col8\" class=\"data row10 col8\" >0.316100</td>\n",
       "                        <td id=\"T_14f0e780_c46e_11ea_88ab_701ce71f71e2row10_col9\" class=\"data row10 col9\" >0.236183</td>\n",
       "                        <td id=\"T_14f0e780_c46e_11ea_88ab_701ce71f71e2row10_col10\" class=\"data row10 col10\" >1.000000</td>\n",
       "                        <td id=\"T_14f0e780_c46e_11ea_88ab_701ce71f71e2row10_col11\" class=\"data row10 col11\" >-0.633717</td>\n",
       "            </tr>\n",
       "            <tr>\n",
       "                        <th id=\"T_14f0e780_c46e_11ea_88ab_701ce71f71e2level0_row11\" class=\"row_heading level0 row11\" >target</th>\n",
       "                        <td id=\"T_14f0e780_c46e_11ea_88ab_701ce71f71e2row11_col0\" class=\"data row11 col0\" >-0.328222</td>\n",
       "                        <td id=\"T_14f0e780_c46e_11ea_88ab_701ce71f71e2row11_col1\" class=\"data row11 col1\" >0.437776</td>\n",
       "                        <td id=\"T_14f0e780_c46e_11ea_88ab_701ce71f71e2row11_col2\" class=\"data row11 col2\" >-0.049643</td>\n",
       "                        <td id=\"T_14f0e780_c46e_11ea_88ab_701ce71f71e2row11_col3\" class=\"data row11 col3\" >0.517859</td>\n",
       "                        <td id=\"T_14f0e780_c46e_11ea_88ab_701ce71f71e2row11_col4\" class=\"data row11 col4\" >-0.209179</td>\n",
       "                        <td id=\"T_14f0e780_c46e_11ea_88ab_701ce71f71e2row11_col5\" class=\"data row11 col5\" >-0.719163</td>\n",
       "                        <td id=\"T_14f0e780_c46e_11ea_88ab_701ce71f71e2row11_col6\" class=\"data row11 col6\" >0.489109</td>\n",
       "                        <td id=\"T_14f0e780_c46e_11ea_88ab_701ce71f71e2row11_col7\" class=\"data row11 col7\" >-0.499130</td>\n",
       "                        <td id=\"T_14f0e780_c46e_11ea_88ab_701ce71f71e2row11_col8\" class=\"data row11 col8\" >0.265668</td>\n",
       "                        <td id=\"T_14f0e780_c46e_11ea_88ab_701ce71f71e2row11_col9\" class=\"data row11 col9\" >-0.617369</td>\n",
       "                        <td id=\"T_14f0e780_c46e_11ea_88ab_701ce71f71e2row11_col10\" class=\"data row11 col10\" >-0.633717</td>\n",
       "                        <td id=\"T_14f0e780_c46e_11ea_88ab_701ce71f71e2row11_col11\" class=\"data row11 col11\" >1.000000</td>\n",
       "            </tr>\n",
       "    </tbody></table>"
      ],
      "text/plain": [
       "<pandas.io.formats.style.Styler at 0x7f89316f49e8>"
      ]
     },
     "execution_count": 426,
     "metadata": {},
     "output_type": "execute_result"
    }
   ],
   "source": [
    "def highlight_range(s):\n",
    "    '''\n",
    "    highlight the maximum in a Series green.\n",
    "    '''\n",
    "    is_max = s == s.max()\n",
    "    threshold = 0.75\n",
    "    val = np.abs(s) > threshold\n",
    "    return ['background-color: lightgreen' if v else '' for v in val]\n",
    "\n",
    "df_corr.style.apply(highlight_range).set_table_styles([{'selector':'','props':[('border','1px solid #7a7')]}])"
   ]
  },
  {
   "cell_type": "markdown",
   "metadata": {},
   "source": [
    "## Exhaustive Feature Selection"
   ]
  },
  {
   "cell_type": "code",
   "execution_count": 427,
   "metadata": {},
   "outputs": [],
   "source": [
    "model_reg  = LinearRegression()\n",
    "fwd_reg    = SFS(model_reg, k_features=5,    forward=True,             scoring='r2',        verbose=2,             cv=4)\n",
    "bwd_reg    = SFS(model_reg, k_features=5,    forward=False,            scoring='r2',        verbose=2,             cv=4)\n",
    "efs_reg    = EFS(model_reg, min_features=2,  max_features=X.shape[1],  scoring='r2',        print_progress=True,   cv=4)"
   ]
  },
  {
   "cell_type": "code",
   "execution_count": 428,
   "metadata": {},
   "outputs": [],
   "source": [
    "model_clf  = KNeighborsClassifier(n_neighbors=3)\n",
    "fwd_clf    = SFS(model_clf, k_features=X.shape[1],    forward=True,             scoring='accuracy',        verbose=2,             cv=4)\n",
    "bwd_clf    = SFS(model_clf, k_features=X.shape[1],    forward=False,            scoring='accuracy',        verbose=2,             cv=4)\n",
    "efs_clf    = EFS(model_clf, min_features=1,             max_features=X.shape[1],  scoring='accuracy',        print_progress=True,   cv=4)"
   ]
  },
  {
   "cell_type": "code",
   "execution_count": 429,
   "metadata": {},
   "outputs": [
    {
     "name": "stderr",
     "output_type": "stream",
     "text": [
      "Features: 2047/2047"
     ]
    },
    {
     "name": "stdout",
     "output_type": "stream",
     "text": [
      "Best accuracy score: 0.97\n",
      "Best subset (corresponding names): ('alcohol', 'alcalinity_of_ash', 'nonflavanoid_phenols', 'proanthocyanins', 'hue', 'proline')\n"
     ]
    }
   ],
   "source": [
    "efs            = efs_clf.fit(X, y, custom_feature_names=X.columns)\n",
    "\n",
    "print('Best accuracy score: %.2f'           % efs.best_score_)\n",
    "print('Best subset (corresponding names):', efs.best_feature_names_)\n",
    "\n",
    "res = pd.DataFrame.from_dict(efs.get_metric_dict()).T\n",
    "res.sort_values('avg_score', inplace=True, ascending=False)\n",
    "\n",
    "#res[['feature_names','avg_score']]\n",
    "\n",
    "#plot_res(efs)"
   ]
  },
  {
   "cell_type": "markdown",
   "metadata": {},
   "source": [
    "## Backward / Forward Feature Selection"
   ]
  },
  {
   "cell_type": "code",
   "execution_count": 440,
   "metadata": {},
   "outputs": [
    {
     "name": "stderr",
     "output_type": "stream",
     "text": [
      "[Parallel(n_jobs=1)]: Using backend SequentialBackend with 1 concurrent workers.\n",
      "[Parallel(n_jobs=1)]: Done   1 out of   1 | elapsed:    0.0s remaining:    0.0s\n",
      "[Parallel(n_jobs=1)]: Done  11 out of  11 | elapsed:    0.2s finished\n",
      "\n",
      "[2020-07-13 00:06:19] Features: 1/11 -- score: 0.6806818181818182[Parallel(n_jobs=1)]: Using backend SequentialBackend with 1 concurrent workers.\n",
      "[Parallel(n_jobs=1)]: Done   1 out of   1 | elapsed:    0.0s remaining:    0.0s\n",
      "[Parallel(n_jobs=1)]: Done  10 out of  10 | elapsed:    0.2s finished\n",
      "\n",
      "[2020-07-13 00:06:19] Features: 2/11 -- score: 0.9162878787878789[Parallel(n_jobs=1)]: Using backend SequentialBackend with 1 concurrent workers.\n",
      "[Parallel(n_jobs=1)]: Done   1 out of   1 | elapsed:    0.0s remaining:    0.0s\n",
      "[Parallel(n_jobs=1)]: Done   9 out of   9 | elapsed:    0.1s finished\n",
      "\n",
      "[2020-07-13 00:06:19] Features: 3/11 -- score: 0.9387626262626263[Parallel(n_jobs=1)]: Using backend SequentialBackend with 1 concurrent workers.\n",
      "[Parallel(n_jobs=1)]: Done   1 out of   1 | elapsed:    0.0s remaining:    0.0s\n",
      "[Parallel(n_jobs=1)]: Done   8 out of   8 | elapsed:    0.1s finished\n",
      "\n",
      "[2020-07-13 00:06:19] Features: 4/11 -- score: 0.9498737373737374[Parallel(n_jobs=1)]: Using backend SequentialBackend with 1 concurrent workers.\n",
      "[Parallel(n_jobs=1)]: Done   1 out of   1 | elapsed:    0.0s remaining:    0.0s\n",
      "[Parallel(n_jobs=1)]: Done   7 out of   7 | elapsed:    0.1s finished\n",
      "\n",
      "[2020-07-13 00:06:19] Features: 5/11 -- score: 0.9494949494949494[Parallel(n_jobs=1)]: Using backend SequentialBackend with 1 concurrent workers.\n",
      "[Parallel(n_jobs=1)]: Done   1 out of   1 | elapsed:    0.0s remaining:    0.0s\n",
      "[Parallel(n_jobs=1)]: Done   6 out of   6 | elapsed:    0.1s finished\n",
      "\n",
      "[2020-07-13 00:06:20] Features: 6/11 -- score: 0.955050505050505[Parallel(n_jobs=1)]: Using backend SequentialBackend with 1 concurrent workers.\n",
      "[Parallel(n_jobs=1)]: Done   1 out of   1 | elapsed:    0.0s remaining:    0.0s\n",
      "[Parallel(n_jobs=1)]: Done   5 out of   5 | elapsed:    0.1s finished\n",
      "\n",
      "[2020-07-13 00:06:20] Features: 7/11 -- score: 0.9662878787878788[Parallel(n_jobs=1)]: Using backend SequentialBackend with 1 concurrent workers.\n",
      "[Parallel(n_jobs=1)]: Done   1 out of   1 | elapsed:    0.0s remaining:    0.0s\n",
      "[Parallel(n_jobs=1)]: Done   4 out of   4 | elapsed:    0.1s finished\n",
      "\n",
      "[2020-07-13 00:06:20] Features: 8/11 -- score: 0.9608585858585859[Parallel(n_jobs=1)]: Using backend SequentialBackend with 1 concurrent workers.\n",
      "[Parallel(n_jobs=1)]: Done   1 out of   1 | elapsed:    0.0s remaining:    0.0s\n",
      "[Parallel(n_jobs=1)]: Done   3 out of   3 | elapsed:    0.0s finished\n",
      "\n",
      "[2020-07-13 00:06:20] Features: 9/11 -- score: 0.9608585858585859[Parallel(n_jobs=1)]: Using backend SequentialBackend with 1 concurrent workers.\n",
      "[Parallel(n_jobs=1)]: Done   1 out of   1 | elapsed:    0.0s remaining:    0.0s\n",
      "[Parallel(n_jobs=1)]: Done   2 out of   2 | elapsed:    0.0s finished\n",
      "\n",
      "[2020-07-13 00:06:20] Features: 10/11 -- score: 0.9497474747474748[Parallel(n_jobs=1)]: Using backend SequentialBackend with 1 concurrent workers.\n",
      "[Parallel(n_jobs=1)]: Done   1 out of   1 | elapsed:    0.0s remaining:    0.0s\n",
      "[Parallel(n_jobs=1)]: Done   1 out of   1 | elapsed:    0.0s finished\n",
      "\n",
      "[2020-07-13 00:06:20] Features: 11/11 -- score: 0.9215909090909091"
     ]
    },
    {
     "data": {
      "text/plain": [
       "Index(['alcohol', 'malic_acid', 'ash', 'alcalinity_of_ash', 'magnesium',\n",
       "       'total_phenols', 'nonflavanoid_phenols', 'proanthocyanins',\n",
       "       'color_intensity', 'hue', 'proline'],\n",
       "      dtype='object')"
      ]
     },
     "execution_count": 440,
     "metadata": {},
     "output_type": "execute_result"
    }
   ],
   "source": [
    "#fwd_clf    = SFS(model_clf, k_features=9,    forward=True,             scoring='accuracy',        verbose=2,             cv=4)\n",
    "efs            = fwd_clf.fit(X, y, custom_feature_names=X.columns)\n",
    "filtered_features= X.columns[list(efs.k_feature_idx_)]\n",
    "filtered_features"
   ]
  },
  {
   "cell_type": "markdown",
   "metadata": {},
   "source": [
    "## XG Boost - Feature Importance"
   ]
  },
  {
   "cell_type": "markdown",
   "metadata": {},
   "source": [
    "#### Regression"
   ]
  },
  {
   "cell_type": "code",
   "execution_count": 441,
   "metadata": {},
   "outputs": [
    {
     "data": {
      "text/plain": [
       "XGBRegressor(base_score=0.5, booster='gbtree', colsample_bylevel=1,\n",
       "             colsample_bynode=1, colsample_bytree=1, gamma=0, gpu_id=-1,\n",
       "             importance_type='gain', interaction_constraints='',\n",
       "             learning_rate=0.300000012, max_delta_step=0, max_depth=6,\n",
       "             min_child_weight=1, missing=nan, monotone_constraints='()',\n",
       "             n_estimators=100, n_jobs=0, num_parallel_tree=1, random_state=0,\n",
       "             reg_alpha=0, reg_lambda=1, scale_pos_weight=1, subsample=1,\n",
       "             tree_method='exact', validate_parameters=1, verbosity=None)"
      ]
     },
     "execution_count": 441,
     "metadata": {},
     "output_type": "execute_result"
    },
    {
     "name": "stdout",
     "output_type": "stream",
     "text": [
      "Feature: 0, Score: 0.00567\n",
      "Feature: 1, Score: 0.00572\n",
      "Feature: 2, Score: 0.00140\n",
      "Feature: 3, Score: 0.00139\n",
      "Feature: 4, Score: 0.00024\n",
      "Feature: 5, Score: 0.38262\n",
      "Feature: 6, Score: 0.00045\n",
      "Feature: 7, Score: 0.00072\n",
      "Feature: 8, Score: 0.08733\n",
      "Feature: 9, Score: 0.14302\n",
      "Feature: 10, Score: 0.37144\n"
     ]
    },
    {
     "data": {
      "text/plain": [
       "<matplotlib.axes._subplots.AxesSubplot at 0x7f8945338f28>"
      ]
     },
     "execution_count": 441,
     "metadata": {},
     "output_type": "execute_result"
    },
    {
     "data": {
      "text/plain": [
       "(array([ 0,  1,  2,  3,  4,  5,  6,  7,  8,  9, 10]),\n",
       " <a list of 11 Text major ticklabel objects>)"
      ]
     },
     "execution_count": 441,
     "metadata": {},
     "output_type": "execute_result"
    },
    {
     "data": {
      "image/png": "[encoded data removed]",
      "text/plain": [
       "<Figure size 720x360 with 1 Axes>"
      ]
     },
     "metadata": {
      "needs_background": "light"
     },
     "output_type": "display_data"
    }
   ],
   "source": [
    "# xgboost for feature importance on a regression problem\n",
    "from sklearn.datasets import make_regression\n",
    "from xgboost import XGBRegressor\n",
    "from matplotlib import pyplot as plt\n",
    "import seaborn as sns\n",
    "# define dataset\n",
    "#X, y = make_regression(n_samples=1000, n_features=10, n_informative=5, random_state=1)\n",
    "# define the model\n",
    "model = XGBRegressor()\n",
    "# fit the model\n",
    "model.fit(X, y);\n",
    "# get importance\n",
    "importance = model.feature_importances_\n",
    "# summarize feature importance\n",
    "for i,v in enumerate(importance):\n",
    "    print('Feature: %0d, Score: %.5f' % (i,v))\n",
    "# plot feature importance\n",
    "#pyplot.bar([x for x in range(len(importance))], importance)\n",
    "fig, axes = plt.subplots(figsize = (10,5))\n",
    "sns.barplot(X.columns, importance, ax = axes)\n",
    "plt.xticks(rotation = 90)\n",
    "plt.show()"
   ]
  },
  {
   "cell_type": "markdown",
   "metadata": {},
   "source": [
    "#### Classifier"
   ]
  },
  {
   "cell_type": "code",
   "execution_count": 444,
   "metadata": {},
   "outputs": [
    {
     "data": {
      "text/plain": [
       "XGBRegressor(base_score=0.5, booster='gbtree', colsample_bylevel=1,\n",
       "             colsample_bynode=1, colsample_bytree=1, gamma=0, gpu_id=-1,\n",
       "             importance_type='gain', interaction_constraints='',\n",
       "             learning_rate=0.300000012, max_delta_step=0, max_depth=6,\n",
       "             min_child_weight=1, missing=nan, monotone_constraints='()',\n",
       "             n_estimators=100, n_jobs=0, num_parallel_tree=1, random_state=0,\n",
       "             reg_alpha=0, reg_lambda=1, scale_pos_weight=1, subsample=1,\n",
       "             tree_method='exact', validate_parameters=1, verbosity=None)"
      ]
     },
     "execution_count": 444,
     "metadata": {},
     "output_type": "execute_result"
    },
    {
     "name": "stdout",
     "output_type": "stream",
     "text": [
      "Feature: 0, Score: 0.00567\n",
      "Feature: 1, Score: 0.00572\n",
      "Feature: 2, Score: 0.00140\n",
      "Feature: 3, Score: 0.00139\n",
      "Feature: 4, Score: 0.00024\n",
      "Feature: 5, Score: 0.38262\n",
      "Feature: 6, Score: 0.00045\n",
      "Feature: 7, Score: 0.00072\n",
      "Feature: 8, Score: 0.08733\n",
      "Feature: 9, Score: 0.14302\n",
      "Feature: 10, Score: 0.37144\n"
     ]
    },
    {
     "data": {
      "text/plain": [
       "<matplotlib.axes._subplots.AxesSubplot at 0x7f8931d78550>"
      ]
     },
     "execution_count": 444,
     "metadata": {},
     "output_type": "execute_result"
    },
    {
     "data": {
      "text/plain": [
       "(array([ 0,  1,  2,  3,  4,  5,  6,  7,  8,  9, 10]),\n",
       " <a list of 11 Text major ticklabel objects>)"
      ]
     },
     "execution_count": 444,
     "metadata": {},
     "output_type": "execute_result"
    },
    {
     "data": {
      "image/png": "[encoded data removed]",
      "text/plain": [
       "<Figure size 720x360 with 1 Axes>"
      ]
     },
     "metadata": {
      "needs_background": "light"
     },
     "output_type": "display_data"
    }
   ],
   "source": [
    "# xgboost for feature importance on a regression problem\n",
    "from sklearn.datasets import make_regression\n",
    "from xgboost import XGBRegressor\n",
    "from matplotlib import pyplot\n",
    "# define dataset\n",
    "#X, y = make_regression(n_samples=1000, n_features=10, n_informative=5, random_state=1)\n",
    "# define the model\n",
    "model = XGBRegressor()\n",
    "# fit the model\n",
    "model.fit(X, y)\n",
    "# get importance\n",
    "importance = model.feature_importances_\n",
    "# summarize feature importance\n",
    "for i,v in enumerate(importance):\n",
    "    print('Feature: %0d, Score: %.5f' % (i,v))\n",
    "# plot feature importance\n",
    "fig, axes = plt.subplots(figsize = (10,5))\n",
    "sns.barplot(X.columns, importance, ax = axes)\n",
    "plt.xticks(rotation = 90)\n",
    "plt.show()"
   ]
  },
  {
   "cell_type": "markdown",
   "metadata": {},
   "source": [
    "## Random Forest "
   ]
  },
  {
   "cell_type": "markdown",
   "metadata": {},
   "source": [
    "#### Regression"
   ]
  },
  {
   "cell_type": "code",
   "execution_count": 445,
   "metadata": {},
   "outputs": [
    {
     "data": {
      "text/plain": [
       "RandomForestRegressor()"
      ]
     },
     "execution_count": 445,
     "metadata": {},
     "output_type": "execute_result"
    },
    {
     "name": "stdout",
     "output_type": "stream",
     "text": [
      "Feature: 0, Score: 0.02284\n",
      "Feature: 1, Score: 0.01467\n",
      "Feature: 2, Score: 0.00403\n",
      "Feature: 3, Score: 0.00587\n",
      "Feature: 4, Score: 0.00494\n",
      "Feature: 5, Score: 0.16056\n",
      "Feature: 6, Score: 0.00108\n",
      "Feature: 7, Score: 0.01255\n",
      "Feature: 8, Score: 0.14234\n",
      "Feature: 9, Score: 0.21902\n",
      "Feature: 10, Score: 0.41209\n"
     ]
    },
    {
     "data": {
      "text/plain": [
       "<matplotlib.axes._subplots.AxesSubplot at 0x7f8935b30748>"
      ]
     },
     "execution_count": 445,
     "metadata": {},
     "output_type": "execute_result"
    },
    {
     "data": {
      "text/plain": [
       "(array([ 0,  1,  2,  3,  4,  5,  6,  7,  8,  9, 10]),\n",
       " <a list of 11 Text major ticklabel objects>)"
      ]
     },
     "execution_count": 445,
     "metadata": {},
     "output_type": "execute_result"
    },
    {
     "data": {
      "image/png": "[encoded data removed]",
      "text/plain": [
       "<Figure size 720x360 with 1 Axes>"
      ]
     },
     "metadata": {
      "needs_background": "light"
     },
     "output_type": "display_data"
    }
   ],
   "source": [
    "# random forest for feature importance on a regression problem\n",
    "from sklearn.datasets import make_regression\n",
    "from sklearn.ensemble import RandomForestRegressor\n",
    "from matplotlib import pyplot\n",
    "# define dataset\n",
    "#X, y = make_regression(n_samples=1000, n_features=10, n_informative=5, random_state=1)\n",
    "# define the model\n",
    "model = RandomForestRegressor()\n",
    "# fit the model\n",
    "model.fit(X, y)\n",
    "# get importance\n",
    "importance = model.feature_importances_\n",
    "# summarize feature importance\n",
    "for i,v in enumerate(importance):\n",
    "\tprint('Feature: %0d, Score: %.5f' % (i,v))\n",
    "# plot feature importance\n",
    "fig, axes = plt.subplots(figsize = (10,5))\n",
    "sns.barplot(X.columns, importance, ax = axes)\n",
    "plt.xticks(rotation = 90)\n",
    "plt.show()"
   ]
  },
  {
   "cell_type": "markdown",
   "metadata": {},
   "source": [
    "#### Classification"
   ]
  },
  {
   "cell_type": "code",
   "execution_count": 446,
   "metadata": {},
   "outputs": [
    {
     "data": {
      "text/plain": [
       "RandomForestRegressor()"
      ]
     },
     "execution_count": 446,
     "metadata": {},
     "output_type": "execute_result"
    },
    {
     "name": "stdout",
     "output_type": "stream",
     "text": [
      "Feature: 0, Score: 0.02879\n",
      "Feature: 1, Score: 0.00763\n",
      "Feature: 2, Score: 0.00441\n",
      "Feature: 3, Score: 0.00850\n",
      "Feature: 4, Score: 0.00540\n",
      "Feature: 5, Score: 0.20044\n",
      "Feature: 6, Score: 0.00139\n",
      "Feature: 7, Score: 0.00887\n",
      "Feature: 8, Score: 0.14326\n",
      "Feature: 9, Score: 0.20655\n",
      "Feature: 10, Score: 0.38473\n"
     ]
    },
    {
     "data": {
      "text/plain": [
       "<matplotlib.axes._subplots.AxesSubplot at 0x7f89443a1dd8>"
      ]
     },
     "execution_count": 446,
     "metadata": {},
     "output_type": "execute_result"
    },
    {
     "data": {
      "text/plain": [
       "(array([ 0,  1,  2,  3,  4,  5,  6,  7,  8,  9, 10]),\n",
       " <a list of 11 Text major ticklabel objects>)"
      ]
     },
     "execution_count": 446,
     "metadata": {},
     "output_type": "execute_result"
    },
    {
     "data": {
      "image/png": "[encoded data removed]",
      "text/plain": [
       "<Figure size 720x360 with 1 Axes>"
      ]
     },
     "metadata": {
      "needs_background": "light"
     },
     "output_type": "display_data"
    }
   ],
   "source": [
    "# random forest for feature importance on a regression problem\n",
    "from sklearn.datasets import make_regression\n",
    "from sklearn.ensemble import RandomForestRegressor\n",
    "from matplotlib import pyplot\n",
    "# define dataset\n",
    "#X, y = make_regression(n_samples=1000, n_features=10, n_informative=5, random_state=1)\n",
    "# define the model\n",
    "model = RandomForestRegressor()\n",
    "# fit the model\n",
    "model.fit(X, y)\n",
    "# get importance\n",
    "importance = model.feature_importances_\n",
    "# summarize feature importance\n",
    "for i,v in enumerate(importance):\n",
    "\tprint('Feature: %0d, Score: %.5f' % (i,v))\n",
    "# plot feature importance\n",
    "fig, axes = plt.subplots(figsize = (10,5))\n",
    "sns.barplot(X.columns, importance, ax = axes)\n",
    "plt.xticks(rotation = 90)\n",
    "plt.show()"
   ]
  },
  {
   "cell_type": "code",
   "execution_count": null,
   "metadata": {},
   "outputs": [],
   "source": []
  },
  {
   "cell_type": "markdown",
   "metadata": {},
   "source": [
    "## Permutation"
   ]
  },
  {
   "cell_type": "markdown",
   "metadata": {},
   "source": [
    "#### Regression"
   ]
  },
  {
   "cell_type": "code",
   "execution_count": 447,
   "metadata": {},
   "outputs": [
    {
     "data": {
      "text/plain": [
       "KNeighborsRegressor()"
      ]
     },
     "execution_count": 447,
     "metadata": {},
     "output_type": "execute_result"
    },
    {
     "name": "stdout",
     "output_type": "stream",
     "text": [
      "Feature: 0, Score: 0.03213\n",
      "Feature: 1, Score: 0.00049\n",
      "Feature: 2, Score: 0.00688\n",
      "Feature: 3, Score: 0.00445\n",
      "Feature: 4, Score: 0.00072\n",
      "Feature: 5, Score: 0.03115\n",
      "Feature: 6, Score: 0.01052\n",
      "Feature: 7, Score: 0.01636\n",
      "Feature: 8, Score: 0.03924\n",
      "Feature: 9, Score: 0.01640\n",
      "Feature: 10, Score: 0.03834\n"
     ]
    },
    {
     "data": {
      "text/plain": [
       "<matplotlib.axes._subplots.AxesSubplot at 0x7f892f525588>"
      ]
     },
     "execution_count": 447,
     "metadata": {},
     "output_type": "execute_result"
    },
    {
     "data": {
      "text/plain": [
       "(array([ 0,  1,  2,  3,  4,  5,  6,  7,  8,  9, 10]),\n",
       " <a list of 11 Text major ticklabel objects>)"
      ]
     },
     "execution_count": 447,
     "metadata": {},
     "output_type": "execute_result"
    },
    {
     "data": {
      "image/png": "[encoded data removed]",
      "text/plain": [
       "<Figure size 720x360 with 1 Axes>"
      ]
     },
     "metadata": {
      "needs_background": "light"
     },
     "output_type": "display_data"
    }
   ],
   "source": [
    "# permutation feature importance with knn for regression\n",
    "from sklearn.datasets import make_regression\n",
    "from sklearn.neighbors import KNeighborsRegressor\n",
    "from sklearn.inspection import permutation_importance\n",
    "from matplotlib import pyplot\n",
    "# define dataset\n",
    "#X, y = make_regression(n_samples=1000, n_features=10, n_informative=5, random_state=1)\n",
    "# define the model\n",
    "model = KNeighborsRegressor()\n",
    "# fit the model\n",
    "model.fit(X, y)\n",
    "# perform permutation importance\n",
    "results = permutation_importance(model, X, y, scoring='neg_mean_squared_error')\n",
    "# get importance\n",
    "importance = results.importances_mean\n",
    "# summarize feature importance\n",
    "for i,v in enumerate(importance):\n",
    "\tprint('Feature: %0d, Score: %.5f' % (i,v))\n",
    "# plot feature importance\n",
    "fig, axes = plt.subplots(figsize = (10,5))\n",
    "sns.barplot(X.columns, importance, ax = axes)\n",
    "plt.xticks(rotation = 90)\n",
    "plt.show()"
   ]
  },
  {
   "cell_type": "markdown",
   "metadata": {},
   "source": [
    "#### Classifier"
   ]
  },
  {
   "cell_type": "code",
   "execution_count": 448,
   "metadata": {},
   "outputs": [
    {
     "data": {
      "text/plain": [
       "KNeighborsClassifier()"
      ]
     },
     "execution_count": 448,
     "metadata": {},
     "output_type": "execute_result"
    },
    {
     "name": "stdout",
     "output_type": "stream",
     "text": [
      "Feature: 0, Score: 0.03034\n",
      "Feature: 1, Score: -0.00225\n",
      "Feature: 2, Score: -0.00562\n",
      "Feature: 3, Score: -0.00112\n",
      "Feature: 4, Score: 0.00112\n",
      "Feature: 5, Score: 0.00674\n",
      "Feature: 6, Score: 0.00337\n",
      "Feature: 7, Score: 0.02697\n",
      "Feature: 8, Score: 0.04719\n",
      "Feature: 9, Score: 0.01011\n",
      "Feature: 10, Score: 0.05056\n"
     ]
    },
    {
     "data": {
      "text/plain": [
       "<matplotlib.axes._subplots.AxesSubplot at 0x7f8930db0908>"
      ]
     },
     "execution_count": 448,
     "metadata": {},
     "output_type": "execute_result"
    },
    {
     "data": {
      "text/plain": [
       "(array([ 0,  1,  2,  3,  4,  5,  6,  7,  8,  9, 10]),\n",
       " <a list of 11 Text major ticklabel objects>)"
      ]
     },
     "execution_count": 448,
     "metadata": {},
     "output_type": "execute_result"
    },
    {
     "data": {
      "image/png": "[encoded data removed]",
      "text/plain": [
       "<Figure size 720x360 with 1 Axes>"
      ]
     },
     "metadata": {
      "needs_background": "light"
     },
     "output_type": "display_data"
    }
   ],
   "source": [
    "# permutation feature importance with knn for classification\n",
    "from sklearn.datasets import make_classification\n",
    "from sklearn.neighbors import KNeighborsClassifier\n",
    "from sklearn.inspection import permutation_importance\n",
    "from matplotlib import pyplot\n",
    "# define dataset\n",
    "#X, y = make_classification(n_samples=1000, n_features=10, n_informative=5, n_redundant=5, random_state=1)\n",
    "# define the model\n",
    "model = KNeighborsClassifier()\n",
    "# fit the model\n",
    "model.fit(X, y)\n",
    "# perform permutation importance\n",
    "results = permutation_importance(model, X, y, scoring='accuracy')\n",
    "# get importance\n",
    "importance = results.importances_mean\n",
    "# summarize feature importance\n",
    "for i,v in enumerate(importance):\n",
    "    print('Feature: %0d, Score: %.5f' % (i,v))\n",
    "# plot feature importance\n",
    "fig, axes = plt.subplots(figsize = (10,5))\n",
    "sns.barplot(X.columns, importance, ax = axes)\n",
    "plt.xticks(rotation = 90)\n",
    "plt.show()"
   ]
  },
  {
   "cell_type": "code",
   "execution_count": null,
   "metadata": {},
   "outputs": [],
   "source": []
  }
 ],
 "metadata": {
  "kernelspec": {
   "display_name": "Python 3",
   "language": "python",
   "name": "python3"
  },
  "language_info": {
   "codemirror_mode": {
    "name": "ipython",
    "version": 3
   },
   "file_extension": ".py",
   "mimetype": "text/x-python",
   "name": "python",
   "nbconvert_exporter": "python",
   "pygments_lexer": "ipython3",
   "version": "3.6.9"
  }
 },
 "nbformat": 4,
 "nbformat_minor": 4
}
