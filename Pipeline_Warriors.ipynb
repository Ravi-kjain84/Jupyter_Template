{
 "cells": [
  {
   "cell_type": "code",
   "execution_count": 16,
   "metadata": {},
   "outputs": [],
   "source": [
    "import warnings\n",
    "warnings.filterwarnings(\"ignore\")\n",
    "\n",
    "import pandas as pd\n",
    "from pandas_profiling import ProfileReport\n",
    "import numpy as np\n",
    "from sklearn.model_selection import train_test_split\n",
    "from sklearn.base import BaseEstimator, TransformerMixin\n",
    "from sklearn.metrics import classification_report, f1_score\n",
    "from sklearn import set_config\n",
    "from sklearn import datasets\n",
    "from sklearn import ensemble, neighbors,linear_model,svm\n",
    "import eli5\n",
    "set_config(display='diagram')\n",
    "\n",
    "\n",
    "\n",
    "#datasets.load*?"
   ]
  },
  {
   "cell_type": "code",
   "execution_count": 17,
   "metadata": {},
   "outputs": [],
   "source": [
    "def sklearn_to_df(sklearn_dataset):\n",
    "    df = pd.DataFrame(sklearn_dataset.data, columns=sklearn_dataset.feature_names)\n",
    "    df['target'] = pd.Series(sklearn_dataset.target)\n",
    "    return df"
   ]
  },
  {
   "cell_type": "code",
   "execution_count": 18,
   "metadata": {},
   "outputs": [],
   "source": [
    "# df = sklearn_to_df(datasets.load_breast_cancer())\n",
    "# target = 'target'\n",
    "# drop_columns = []"
   ]
  },
  {
   "cell_type": "code",
   "execution_count": 22,
   "metadata": {},
   "outputs": [],
   "source": [
    "df = pd.read_csv('input/geyser.csv')\n",
    "target = 'waiting'\n",
    "drop_columns = []"
   ]
  },
  {
   "cell_type": "code",
   "execution_count": 23,
   "metadata": {},
   "outputs": [
    {
     "data": {
      "text/html": [
       "<div>\n",
       "<style scoped>\n",
       "    .dataframe tbody tr th:only-of-type {\n",
       "        vertical-align: middle;\n",
       "    }\n",
       "\n",
       "    .dataframe tbody tr th {\n",
       "        vertical-align: top;\n",
       "    }\n",
       "\n",
       "    .dataframe thead th {\n",
       "        text-align: right;\n",
       "    }\n",
       "</style>\n",
       "<table border=\"1\" class=\"dataframe\">\n",
       "  <thead>\n",
       "    <tr style=\"text-align: right;\">\n",
       "      <th></th>\n",
       "      <th>eruptions</th>\n",
       "      <th>waiting</th>\n",
       "    </tr>\n",
       "  </thead>\n",
       "  <tbody>\n",
       "    <tr>\n",
       "      <th>0</th>\n",
       "      <td>3.600</td>\n",
       "      <td>79</td>\n",
       "    </tr>\n",
       "    <tr>\n",
       "      <th>1</th>\n",
       "      <td>1.800</td>\n",
       "      <td>54</td>\n",
       "    </tr>\n",
       "    <tr>\n",
       "      <th>2</th>\n",
       "      <td>3.333</td>\n",
       "      <td>74</td>\n",
       "    </tr>\n",
       "    <tr>\n",
       "      <th>3</th>\n",
       "      <td>2.283</td>\n",
       "      <td>62</td>\n",
       "    </tr>\n",
       "    <tr>\n",
       "      <th>4</th>\n",
       "      <td>4.533</td>\n",
       "      <td>85</td>\n",
       "    </tr>\n",
       "  </tbody>\n",
       "</table>\n",
       "</div>"
      ],
      "text/plain": [
       "   eruptions  waiting\n",
       "0      3.600       79\n",
       "1      1.800       54\n",
       "2      3.333       74\n",
       "3      2.283       62\n",
       "4      4.533       85"
      ]
     },
     "execution_count": 23,
     "metadata": {},
     "output_type": "execute_result"
    }
   ],
   "source": [
    "df.head()"
   ]
  },
  {
   "cell_type": "code",
   "execution_count": 24,
   "metadata": {},
   "outputs": [],
   "source": [
    "df = df.drop(drop_columns, axis = 1)\n",
    "\n",
    "if df[target].dtypes == np.object:    \n",
    "    numeric_features = df.select_dtypes(include=['int64', 'float64']).columns\n",
    "    categorical_features = df.select_dtypes(include=['object']).drop(target, axis=1).columns\n",
    "else:\n",
    "    numeric_features = df.select_dtypes(include=['int64', 'float64']).drop(target, axis=1).columns\n",
    "    categorical_features = df.select_dtypes(include=['object']).columns\n",
    "    \n",
    "X = df.drop((target),axis = 'columns')\n",
    "y = df[target]\n",
    "\n",
    "X_train, X_test, y_train, y_test = train_test_split(X, y, test_size=0.3,random_state =1)"
   ]
  },
  {
   "cell_type": "code",
   "execution_count": 25,
   "metadata": {},
   "outputs": [],
   "source": [
    "#ProfileReport(df)"
   ]
  },
  {
   "cell_type": "code",
   "execution_count": 26,
   "metadata": {},
   "outputs": [],
   "source": [
    "# train_values = pd.read_csv('train_values.csv')\n",
    "# train_labels = pd.read_csv('train_labels.csv')\n",
    "# train_data = train_values.merge(train_labels, left_on='building_id', right_on='building_id')\n",
    "\n",
    "# train_data = train_data.drop('building_id', axis=1)\n",
    "# numeric_features = train_data.select_dtypes(include=['int64', 'float64']).drop(['damage_grade'], axis=1).columns\n",
    "# categorical_features = train_data.select_dtypes(include=['object']).columns\n",
    "# X = train_data.drop('damage_grade', axis=1)\n",
    "# y = train_data['damage_grade']\n",
    "# X_train, X_test, y_train, y_test = train_test_split(X, y, test_size=0.2)"
   ]
  },
  {
   "cell_type": "code",
   "execution_count": 27,
   "metadata": {},
   "outputs": [
    {
     "data": {
      "text/html": [
       "<style>div.sk-top-container {color: black;background-color: white;}div.sk-toggleable {background-color: white;}label.sk-toggleable__label {cursor: pointer;display: block;width: 100%;margin-bottom: 0;padding: 0.2em 0.3em;box-sizing: border-box;text-align: center;}div.sk-toggleable__content {max-height: 0;max-width: 0;overflow: hidden;text-align: left;background-color: #f0f8ff;}div.sk-toggleable__content pre {margin: 0.2em;color: black;border-radius: 0.25em;background-color: #f0f8ff;}input.sk-toggleable__control:checked~div.sk-toggleable__content {max-height: 200px;max-width: 100%;overflow: auto;}div.sk-estimator input.sk-toggleable__control:checked~label.sk-toggleable__label {background-color: #d4ebff;}div.sk-label input.sk-toggleable__control:checked~label.sk-toggleable__label {background-color: #d4ebff;}input.sk-hidden--visually {border: 0;clip: rect(1px 1px 1px 1px);clip: rect(1px, 1px, 1px, 1px);height: 1px;margin: -1px;overflow: hidden;padding: 0;position: absolute;width: 1px;}div.sk-estimator {font-family: monospace;background-color: #f0f8ff;margin: 0.25em 0.25em;border: 1px dotted black;border-radius: 0.25em;box-sizing: border-box;}div.sk-estimator:hover {background-color: #d4ebff;}div.sk-parallel-item::after {content: \"\";width: 100%;border-bottom: 1px solid gray;flex-grow: 1;}div.sk-label:hover label.sk-toggleable__label {background-color: #d4ebff;}div.sk-serial::before {content: \"\";position: absolute;border-left: 1px solid gray;box-sizing: border-box;top: 2em;bottom: 0;left: 50%;}div.sk-serial {display: flex;flex-direction: column;align-items: center;background-color: white;}div.sk-item {z-index: 1;}div.sk-parallel {display: flex;align-items: stretch;justify-content: center;background-color: white;}div.sk-parallel-item {display: flex;flex-direction: column;position: relative;background-color: white;}div.sk-parallel-item:first-child::after {align-self: flex-end;width: 50%;}div.sk-parallel-item:last-child::after {align-self: flex-start;width: 50%;}div.sk-parallel-item:only-child::after {width: 0;}div.sk-dashed-wrapped {border: 1px dashed gray;margin: 0.2em;box-sizing: border-box;padding-bottom: 0.1em;background-color: white;position: relative;}div.sk-label label {font-family: monospace;font-weight: bold;background-color: white;display: inline-block;line-height: 1.2em;}div.sk-label-container {position: relative;z-index: 2;text-align: center;}div.sk-container {display: inline-block;position: relative;}</style><div class=\"sk-top-container\"><div class=\"sk-container\"><div class=\"sk-item sk-dashed-wrapped\"><div class=\"sk-label-container\"><div class=\"sk-label sk-toggleable\"><input class=\"sk-toggleable__control sk-hidden--visually\" id=\"472cfb0a-c159-40af-ac45-ac4cb8848ad5\" type=\"checkbox\" ><label class=\"sk-toggleable__label\" for=\"472cfb0a-c159-40af-ac45-ac4cb8848ad5\">Pipeline</label><div class=\"sk-toggleable__content\"><pre>Pipeline(steps=[('preprocessor',\n",
       "                 ColumnTransformer(transformers=[('num',\n",
       "                                                  Pipeline(steps=[('imputer',\n",
       "                                                                   SimpleImputer(strategy='median')),\n",
       "                                                                  ('feature_selection',\n",
       "                                                                   SelectFromModel(estimator=LinearSVC(dual=False,\n",
       "                                                                                                       penalty='l1'))),\n",
       "                                                                  ('scaler',\n",
       "                                                                   StandardScaler()),\n",
       "                                                                  ('poly',\n",
       "                                                                   PolynomialFeatures(interaction_only=True))]),\n",
       "                                                  Index(['eruptions'], dtype='object')),\n",
       "                                                 ('cat',\n",
       "                                                  Pipeline(steps=[('imputer',\n",
       "                                                                   SimpleImputer(fill_value='most_frequent',\n",
       "                                                                                 strategy='constant')),\n",
       "                                                                  ('one_hot',\n",
       "                                                                   OneHotEncoder())]),\n",
       "                                                  Index([], dtype='object'))])),\n",
       "                ('model', RandomForestRegressor(max_depth=3))])</pre></div></div></div><div class=\"sk-serial\"><div class=\"sk-item sk-dashed-wrapped\"><div class=\"sk-label-container\"><div class=\"sk-label sk-toggleable\"><input class=\"sk-toggleable__control sk-hidden--visually\" id=\"c299f8b5-ccd1-419b-9983-0887dd685cb3\" type=\"checkbox\" ><label class=\"sk-toggleable__label\" for=\"c299f8b5-ccd1-419b-9983-0887dd685cb3\">preprocessor: ColumnTransformer</label><div class=\"sk-toggleable__content\"><pre>ColumnTransformer(transformers=[('num',\n",
       "                                 Pipeline(steps=[('imputer',\n",
       "                                                  SimpleImputer(strategy='median')),\n",
       "                                                 ('feature_selection',\n",
       "                                                  SelectFromModel(estimator=LinearSVC(dual=False,\n",
       "                                                                                      penalty='l1'))),\n",
       "                                                 ('scaler', StandardScaler()),\n",
       "                                                 ('poly',\n",
       "                                                  PolynomialFeatures(interaction_only=True))]),\n",
       "                                 Index(['eruptions'], dtype='object')),\n",
       "                                ('cat',\n",
       "                                 Pipeline(steps=[('imputer',\n",
       "                                                  SimpleImputer(fill_value='most_frequent',\n",
       "                                                                strategy='constant')),\n",
       "                                                 ('one_hot', OneHotEncoder())]),\n",
       "                                 Index([], dtype='object'))])</pre></div></div></div><div class=\"sk-parallel\"><div class=\"sk-parallel-item\"><div class=\"sk-item\"><div class=\"sk-label-container\"><div class=\"sk-label sk-toggleable\"><input class=\"sk-toggleable__control sk-hidden--visually\" id=\"f46a0595-0169-4583-9781-56e27dd8ec9c\" type=\"checkbox\" ><label class=\"sk-toggleable__label\" for=\"f46a0595-0169-4583-9781-56e27dd8ec9c\">num</label><div class=\"sk-toggleable__content\"><pre>Index(['eruptions'], dtype='object')</pre></div></div></div><div class=\"sk-serial\"><div class=\"sk-item\"><div class=\"sk-serial\"><div class=\"sk-item\"><div class=\"sk-estimator sk-toggleable\"><input class=\"sk-toggleable__control sk-hidden--visually\" id=\"16fea972-ece8-4279-8e0e-ed4ea549197d\" type=\"checkbox\" ><label class=\"sk-toggleable__label\" for=\"16fea972-ece8-4279-8e0e-ed4ea549197d\">SimpleImputer</label><div class=\"sk-toggleable__content\"><pre>SimpleImputer(strategy='median')</pre></div></div></div><div class=\"sk-item sk-dashed-wrapped\"><div class=\"sk-label-container\"><div class=\"sk-label sk-toggleable\"><input class=\"sk-toggleable__control sk-hidden--visually\" id=\"d7c48366-0df6-49d5-af02-0f60408b3061\" type=\"checkbox\" ><label class=\"sk-toggleable__label\" for=\"d7c48366-0df6-49d5-af02-0f60408b3061\">feature_selection: SelectFromModel</label><div class=\"sk-toggleable__content\"><pre>SelectFromModel(estimator=LinearSVC(dual=False, penalty='l1'))</pre></div></div></div><div class=\"sk-parallel\"><div class=\"sk-parallel-item\"><div class=\"sk-item\"><div class=\"sk-serial\"><div class=\"sk-item\"><div class=\"sk-estimator sk-toggleable\"><input class=\"sk-toggleable__control sk-hidden--visually\" id=\"1d6fe83e-31a7-4866-8762-1589856d7c47\" type=\"checkbox\" ><label class=\"sk-toggleable__label\" for=\"1d6fe83e-31a7-4866-8762-1589856d7c47\">LinearSVC</label><div class=\"sk-toggleable__content\"><pre>LinearSVC(dual=False, penalty='l1')</pre></div></div></div></div></div></div></div></div><div class=\"sk-item\"><div class=\"sk-estimator sk-toggleable\"><input class=\"sk-toggleable__control sk-hidden--visually\" id=\"2e57c6a6-e67d-4ed0-bd27-039f8d7fe07b\" type=\"checkbox\" ><label class=\"sk-toggleable__label\" for=\"2e57c6a6-e67d-4ed0-bd27-039f8d7fe07b\">StandardScaler</label><div class=\"sk-toggleable__content\"><pre>StandardScaler()</pre></div></div></div><div class=\"sk-item\"><div class=\"sk-estimator sk-toggleable\"><input class=\"sk-toggleable__control sk-hidden--visually\" id=\"c80ce898-dd04-4e9b-8004-702d89fa12f7\" type=\"checkbox\" ><label class=\"sk-toggleable__label\" for=\"c80ce898-dd04-4e9b-8004-702d89fa12f7\">PolynomialFeatures</label><div class=\"sk-toggleable__content\"><pre>PolynomialFeatures(interaction_only=True)</pre></div></div></div></div></div></div></div></div><div class=\"sk-parallel-item\"><div class=\"sk-item\"><div class=\"sk-label-container\"><div class=\"sk-label sk-toggleable\"><input class=\"sk-toggleable__control sk-hidden--visually\" id=\"c7cbf225-edf7-4d01-98c7-9a46245c6d3c\" type=\"checkbox\" ><label class=\"sk-toggleable__label\" for=\"c7cbf225-edf7-4d01-98c7-9a46245c6d3c\">cat</label><div class=\"sk-toggleable__content\"><pre>Index([], dtype='object')</pre></div></div></div><div class=\"sk-serial\"><div class=\"sk-item\"><div class=\"sk-serial\"><div class=\"sk-item\"><div class=\"sk-estimator sk-toggleable\"><input class=\"sk-toggleable__control sk-hidden--visually\" id=\"853a0952-0c17-456c-84ba-35e92ca8f7b0\" type=\"checkbox\" ><label class=\"sk-toggleable__label\" for=\"853a0952-0c17-456c-84ba-35e92ca8f7b0\">SimpleImputer</label><div class=\"sk-toggleable__content\"><pre>SimpleImputer(fill_value='most_frequent', strategy='constant')</pre></div></div></div><div class=\"sk-item\"><div class=\"sk-estimator sk-toggleable\"><input class=\"sk-toggleable__control sk-hidden--visually\" id=\"6e60035a-1f1a-4e98-83d3-d7a843a6ab5d\" type=\"checkbox\" ><label class=\"sk-toggleable__label\" for=\"6e60035a-1f1a-4e98-83d3-d7a843a6ab5d\">OneHotEncoder</label><div class=\"sk-toggleable__content\"><pre>OneHotEncoder()</pre></div></div></div></div></div></div></div></div></div></div><div class=\"sk-item\"><div class=\"sk-estimator sk-toggleable\"><input class=\"sk-toggleable__control sk-hidden--visually\" id=\"5af9cea1-ce1c-404b-9c3e-0b03bc90e29c\" type=\"checkbox\" ><label class=\"sk-toggleable__label\" for=\"5af9cea1-ce1c-404b-9c3e-0b03bc90e29c\">RandomForestRegressor</label><div class=\"sk-toggleable__content\"><pre>RandomForestRegressor(max_depth=3)</pre></div></div></div></div></div></div></div>"
      ],
      "text/plain": [
       "Pipeline(steps=[('preprocessor',\n",
       "                 ColumnTransformer(transformers=[('num',\n",
       "                                                  Pipeline(steps=[('imputer',\n",
       "                                                                   SimpleImputer(strategy='median')),\n",
       "                                                                  ('feature_selection',\n",
       "                                                                   SelectFromModel(estimator=LinearSVC(dual=False,\n",
       "                                                                                                       penalty='l1'))),\n",
       "                                                                  ('scaler',\n",
       "                                                                   StandardScaler()),\n",
       "                                                                  ('poly',\n",
       "                                                                   PolynomialFeatures(interaction_only=True))]),\n",
       "                                                  Index(['eruptions'], dtype='object')),\n",
       "                                                 ('cat',\n",
       "                                                  Pipeline(steps=[('imputer',\n",
       "                                                                   SimpleImputer(fill_value='most_frequent',\n",
       "                                                                                 strategy='constant')),\n",
       "                                                                  ('one_hot',\n",
       "                                                                   OneHotEncoder())]),\n",
       "                                                  Index([], dtype='object'))])),\n",
       "                ('model', RandomForestRegressor(max_depth=3))])"
      ]
     },
     "execution_count": 27,
     "metadata": {},
     "output_type": "execute_result"
    }
   ],
   "source": [
    "from sklearn.pipeline import Pipeline\n",
    "from sklearn.impute import SimpleImputer\n",
    "from sklearn.preprocessing import OneHotEncoder,StandardScaler,PolynomialFeatures\n",
    "from sklearn.compose import ColumnTransformer\n",
    "from sklearn import ensemble, neighbors,linear_model,svm\n",
    "from sklearn.feature_selection import SelectFromModel\n",
    "from sklearn.model_selection import cross_val_score\n",
    "\n",
    "numeric_transformer = Pipeline(steps=[\n",
    "    ('imputer', SimpleImputer(strategy='median')),\n",
    "    ('feature_selection',SelectFromModel(svm.LinearSVC(penalty = 'l1',dual = False))),\n",
    "    ('scaler', StandardScaler()),\n",
    "    ('poly', PolynomialFeatures(degree = 2,interaction_only = True)),\n",
    "    ])\n",
    "categorical_transformer = Pipeline(steps=[\n",
    "    ('imputer', SimpleImputer(strategy='constant', fill_value='most_frequent')),\n",
    "    ('one_hot', OneHotEncoder()),\n",
    "    ])\n",
    "preprocessor = ColumnTransformer(\n",
    "    transformers=[\n",
    "        ('num', numeric_transformer, numeric_features),\n",
    "        ('cat', categorical_transformer, categorical_features)\n",
    "    ])\n",
    "pipe = Pipeline(steps=[('preprocessor', preprocessor),\n",
    "                      ('model',  ensemble.RandomForestRegressor(max_depth = 3))])\n",
    "    \n",
    "#model = pipe.fit(X_train, y_train)\n",
    "pipe"
   ]
  },
  {
   "cell_type": "code",
   "execution_count": 28,
   "metadata": {},
   "outputs": [],
   "source": [
    "model_list = [#regressors\n",
    "                linear_model.LinearRegression(),linear_model.Lasso(),linear_model.Ridge(),\n",
    "              \n",
    "              #ensembling - regressors\n",
    "                ensemble.RandomForestRegressor(max_depth = 3),ensemble.AdaBoostRegressor(),ensemble.GradientBoostingRegressor(),\n",
    "    \n",
    "              #classifiers\n",
    "                linear_model.LogisticRegression(max_iter = 500), neighbors.KNeighborsClassifier(),svm.SVC(),             \n",
    "    \n",
    "              #ensembling - classifiers\n",
    "                ensemble.RandomForestClassifier(n_estimators=500,max_depth = 3),ensemble.AdaBoostClassifier(learning_rate=0.5),ensemble.GradientBoostingClassifier()\n",
    "\n",
    "              ]"
   ]
  },
  {
   "cell_type": "code",
   "execution_count": 29,
   "metadata": {},
   "outputs": [
    {
     "name": "stdout",
     "output_type": "stream",
     "text": [
      "Model                         Train  /  Test   /  Cross Validation\n",
      "-----------------------------------------------------------------\n",
      "LinearRegression              0.8017 / 0.8279  /  0.8053 \n",
      "Lasso                         0.7960 / 0.8103  /  0.8014 \n",
      "Ridge                         0.8017 / 0.8270  /  0.8054 \n",
      "RandomForestRegressor         0.8472 / 0.8187  /  0.8118 \n",
      "AdaBoostRegressor             0.8465 / 0.8053  /  0.8042 \n",
      "GradientBoostingRegressor     0.8977 / 0.7673  /  0.7800 \n",
      "LogisticRegression            0.1053 / 0.0244  /  0.0809 \n",
      "KNeighborsClassifier          0.2368 / 0.0122  /  0.0441 \n",
      "SVC                           0.1053 / 0.0244  /  0.0882 \n",
      "RandomForestClassifier        0.2579 / 0.0366  /  0.0772 \n",
      "AdaBoostClassifier            0.1105 / 0.0366  /  0.0554 \n",
      "GradientBoostingClassifier    0.5684 / 0.0366  /  0.0477 \n"
     ]
    }
   ],
   "source": [
    "rejected_models = []\n",
    "results = []\n",
    "print('{:30s}Train  /  Test   /  Cross Validation'.format('Model'))\n",
    "print('-----------------------------------------------------------------')\n",
    "for model in model_list:\n",
    "    pipe                 = Pipeline(steps=[('preprocessor', preprocessor),('model', model)])\n",
    "    \n",
    "    try:        \n",
    "        pipe.fit(X_train,y_train)\n",
    "        \n",
    "        model_name       = type(model).__name__\n",
    "        train_results    = np.abs(pipe.score(X_train,y_train))\n",
    "        test_results     = np.abs(pipe.score(X_test,y_test))\n",
    "        cross_val_scores = np.abs(cross_val_score(pipe, X, y, cv=5)) \n",
    "        cval_score       = cross_val_scores.mean()\n",
    "        \n",
    "        results.append([model_name, train_results, test_results,cval_score])\n",
    "        print('{:30s}{:.4f} / {:.4f}  /  {:.4f} '.format(model_name, train_results, test_results,cval_score))\n",
    "\n",
    "    except:\n",
    "        rejected_models.append(type(model).__name__)\n",
    "\n",
    "df_results = pd.DataFrame(results, columns=[\"Model\", \"Train Results\",\"Test Results\",'Test Cross Validation Results'])"
   ]
  },
  {
   "cell_type": "code",
   "execution_count": 30,
   "metadata": {},
   "outputs": [
    {
     "name": "stdout",
     "output_type": "stream",
     "text": [
      "No models rejected\n"
     ]
    }
   ],
   "source": [
    "if rejected_models == []:\n",
    "    print('No models rejected')\n",
    "else:    \n",
    "    print('Rejected Models list: ')\n",
    "    for rej_models in rejected_models:\n",
    "        print('  - ',rej_models)"
   ]
  },
  {
   "cell_type": "code",
   "execution_count": 31,
   "metadata": {},
   "outputs": [
    {
     "data": {
      "text/html": [
       "<style  type=\"text/css\" >\n",
       "    #T_c8f90458_c34a_11ea_b655_701ce71f71e2row0_col3 {\n",
       "            background-color:  lightgreen;\n",
       "        }    #T_c8f90458_c34a_11ea_b655_701ce71f71e2row2_col2 {\n",
       "            background-color:  lightgreen;\n",
       "        }    #T_c8f90458_c34a_11ea_b655_701ce71f71e2row5_col1 {\n",
       "            background-color:  lightgreen;\n",
       "        }</style><table id=\"T_c8f90458_c34a_11ea_b655_701ce71f71e2\" ><thead>    <tr>        <th class=\"blank level0\" ></th>        <th class=\"col_heading level0 col0\" >Model</th>        <th class=\"col_heading level0 col1\" >Train Results</th>        <th class=\"col_heading level0 col2\" >Test Results</th>        <th class=\"col_heading level0 col3\" >Test Cross Validation Results</th>    </tr></thead><tbody>\n",
       "                <tr>\n",
       "                        <th id=\"T_c8f90458_c34a_11ea_b655_701ce71f71e2level0_row0\" class=\"row_heading level0 row0\" >3</th>\n",
       "                        <td id=\"T_c8f90458_c34a_11ea_b655_701ce71f71e2row0_col0\" class=\"data row0 col0\" >RandomForestRegressor</td>\n",
       "                        <td id=\"T_c8f90458_c34a_11ea_b655_701ce71f71e2row0_col1\" class=\"data row0 col1\" >0.847231</td>\n",
       "                        <td id=\"T_c8f90458_c34a_11ea_b655_701ce71f71e2row0_col2\" class=\"data row0 col2\" >0.818674</td>\n",
       "                        <td id=\"T_c8f90458_c34a_11ea_b655_701ce71f71e2row0_col3\" class=\"data row0 col3\" >0.811785</td>\n",
       "            </tr>\n",
       "            <tr>\n",
       "                        <th id=\"T_c8f90458_c34a_11ea_b655_701ce71f71e2level0_row1\" class=\"row_heading level0 row1\" >2</th>\n",
       "                        <td id=\"T_c8f90458_c34a_11ea_b655_701ce71f71e2row1_col0\" class=\"data row1 col0\" >Ridge</td>\n",
       "                        <td id=\"T_c8f90458_c34a_11ea_b655_701ce71f71e2row1_col1\" class=\"data row1 col1\" >0.801672</td>\n",
       "                        <td id=\"T_c8f90458_c34a_11ea_b655_701ce71f71e2row1_col2\" class=\"data row1 col2\" >0.827037</td>\n",
       "                        <td id=\"T_c8f90458_c34a_11ea_b655_701ce71f71e2row1_col3\" class=\"data row1 col3\" >0.805395</td>\n",
       "            </tr>\n",
       "            <tr>\n",
       "                        <th id=\"T_c8f90458_c34a_11ea_b655_701ce71f71e2level0_row2\" class=\"row_heading level0 row2\" >0</th>\n",
       "                        <td id=\"T_c8f90458_c34a_11ea_b655_701ce71f71e2row2_col0\" class=\"data row2 col0\" >LinearRegression</td>\n",
       "                        <td id=\"T_c8f90458_c34a_11ea_b655_701ce71f71e2row2_col1\" class=\"data row2 col1\" >0.801694</td>\n",
       "                        <td id=\"T_c8f90458_c34a_11ea_b655_701ce71f71e2row2_col2\" class=\"data row2 col2\" >0.827854</td>\n",
       "                        <td id=\"T_c8f90458_c34a_11ea_b655_701ce71f71e2row2_col3\" class=\"data row2 col3\" >0.805309</td>\n",
       "            </tr>\n",
       "            <tr>\n",
       "                        <th id=\"T_c8f90458_c34a_11ea_b655_701ce71f71e2level0_row3\" class=\"row_heading level0 row3\" >4</th>\n",
       "                        <td id=\"T_c8f90458_c34a_11ea_b655_701ce71f71e2row3_col0\" class=\"data row3 col0\" >AdaBoostRegressor</td>\n",
       "                        <td id=\"T_c8f90458_c34a_11ea_b655_701ce71f71e2row3_col1\" class=\"data row3 col1\" >0.846544</td>\n",
       "                        <td id=\"T_c8f90458_c34a_11ea_b655_701ce71f71e2row3_col2\" class=\"data row3 col2\" >0.805346</td>\n",
       "                        <td id=\"T_c8f90458_c34a_11ea_b655_701ce71f71e2row3_col3\" class=\"data row3 col3\" >0.804236</td>\n",
       "            </tr>\n",
       "            <tr>\n",
       "                        <th id=\"T_c8f90458_c34a_11ea_b655_701ce71f71e2level0_row4\" class=\"row_heading level0 row4\" >1</th>\n",
       "                        <td id=\"T_c8f90458_c34a_11ea_b655_701ce71f71e2row4_col0\" class=\"data row4 col0\" >Lasso</td>\n",
       "                        <td id=\"T_c8f90458_c34a_11ea_b655_701ce71f71e2row4_col1\" class=\"data row4 col1\" >0.796031</td>\n",
       "                        <td id=\"T_c8f90458_c34a_11ea_b655_701ce71f71e2row4_col2\" class=\"data row4 col2\" >0.810259</td>\n",
       "                        <td id=\"T_c8f90458_c34a_11ea_b655_701ce71f71e2row4_col3\" class=\"data row4 col3\" >0.801353</td>\n",
       "            </tr>\n",
       "            <tr>\n",
       "                        <th id=\"T_c8f90458_c34a_11ea_b655_701ce71f71e2level0_row5\" class=\"row_heading level0 row5\" >5</th>\n",
       "                        <td id=\"T_c8f90458_c34a_11ea_b655_701ce71f71e2row5_col0\" class=\"data row5 col0\" >GradientBoostingRegressor</td>\n",
       "                        <td id=\"T_c8f90458_c34a_11ea_b655_701ce71f71e2row5_col1\" class=\"data row5 col1\" >0.897703</td>\n",
       "                        <td id=\"T_c8f90458_c34a_11ea_b655_701ce71f71e2row5_col2\" class=\"data row5 col2\" >0.767269</td>\n",
       "                        <td id=\"T_c8f90458_c34a_11ea_b655_701ce71f71e2row5_col3\" class=\"data row5 col3\" >0.780023</td>\n",
       "            </tr>\n",
       "            <tr>\n",
       "                        <th id=\"T_c8f90458_c34a_11ea_b655_701ce71f71e2level0_row6\" class=\"row_heading level0 row6\" >8</th>\n",
       "                        <td id=\"T_c8f90458_c34a_11ea_b655_701ce71f71e2row6_col0\" class=\"data row6 col0\" >SVC</td>\n",
       "                        <td id=\"T_c8f90458_c34a_11ea_b655_701ce71f71e2row6_col1\" class=\"data row6 col1\" >0.105263</td>\n",
       "                        <td id=\"T_c8f90458_c34a_11ea_b655_701ce71f71e2row6_col2\" class=\"data row6 col2\" >0.024390</td>\n",
       "                        <td id=\"T_c8f90458_c34a_11ea_b655_701ce71f71e2row6_col3\" class=\"data row6 col3\" >0.088215</td>\n",
       "            </tr>\n",
       "            <tr>\n",
       "                        <th id=\"T_c8f90458_c34a_11ea_b655_701ce71f71e2level0_row7\" class=\"row_heading level0 row7\" >6</th>\n",
       "                        <td id=\"T_c8f90458_c34a_11ea_b655_701ce71f71e2row7_col0\" class=\"data row7 col0\" >LogisticRegression</td>\n",
       "                        <td id=\"T_c8f90458_c34a_11ea_b655_701ce71f71e2row7_col1\" class=\"data row7 col1\" >0.105263</td>\n",
       "                        <td id=\"T_c8f90458_c34a_11ea_b655_701ce71f71e2row7_col2\" class=\"data row7 col2\" >0.024390</td>\n",
       "                        <td id=\"T_c8f90458_c34a_11ea_b655_701ce71f71e2row7_col3\" class=\"data row7 col3\" >0.080875</td>\n",
       "            </tr>\n",
       "            <tr>\n",
       "                        <th id=\"T_c8f90458_c34a_11ea_b655_701ce71f71e2level0_row8\" class=\"row_heading level0 row8\" >9</th>\n",
       "                        <td id=\"T_c8f90458_c34a_11ea_b655_701ce71f71e2row8_col0\" class=\"data row8 col0\" >RandomForestClassifier</td>\n",
       "                        <td id=\"T_c8f90458_c34a_11ea_b655_701ce71f71e2row8_col1\" class=\"data row8 col1\" >0.257895</td>\n",
       "                        <td id=\"T_c8f90458_c34a_11ea_b655_701ce71f71e2row8_col2\" class=\"data row8 col2\" >0.036585</td>\n",
       "                        <td id=\"T_c8f90458_c34a_11ea_b655_701ce71f71e2row8_col3\" class=\"data row8 col3\" >0.077172</td>\n",
       "            </tr>\n",
       "            <tr>\n",
       "                        <th id=\"T_c8f90458_c34a_11ea_b655_701ce71f71e2level0_row9\" class=\"row_heading level0 row9\" >10</th>\n",
       "                        <td id=\"T_c8f90458_c34a_11ea_b655_701ce71f71e2row9_col0\" class=\"data row9 col0\" >AdaBoostClassifier</td>\n",
       "                        <td id=\"T_c8f90458_c34a_11ea_b655_701ce71f71e2row9_col1\" class=\"data row9 col1\" >0.110526</td>\n",
       "                        <td id=\"T_c8f90458_c34a_11ea_b655_701ce71f71e2row9_col2\" class=\"data row9 col2\" >0.036585</td>\n",
       "                        <td id=\"T_c8f90458_c34a_11ea_b655_701ce71f71e2row9_col3\" class=\"data row9 col3\" >0.055354</td>\n",
       "            </tr>\n",
       "            <tr>\n",
       "                        <th id=\"T_c8f90458_c34a_11ea_b655_701ce71f71e2level0_row10\" class=\"row_heading level0 row10\" >11</th>\n",
       "                        <td id=\"T_c8f90458_c34a_11ea_b655_701ce71f71e2row10_col0\" class=\"data row10 col0\" >GradientBoostingClassifier</td>\n",
       "                        <td id=\"T_c8f90458_c34a_11ea_b655_701ce71f71e2row10_col1\" class=\"data row10 col1\" >0.568421</td>\n",
       "                        <td id=\"T_c8f90458_c34a_11ea_b655_701ce71f71e2row10_col2\" class=\"data row10 col2\" >0.036585</td>\n",
       "                        <td id=\"T_c8f90458_c34a_11ea_b655_701ce71f71e2row10_col3\" class=\"data row10 col3\" >0.047744</td>\n",
       "            </tr>\n",
       "            <tr>\n",
       "                        <th id=\"T_c8f90458_c34a_11ea_b655_701ce71f71e2level0_row11\" class=\"row_heading level0 row11\" >7</th>\n",
       "                        <td id=\"T_c8f90458_c34a_11ea_b655_701ce71f71e2row11_col0\" class=\"data row11 col0\" >KNeighborsClassifier</td>\n",
       "                        <td id=\"T_c8f90458_c34a_11ea_b655_701ce71f71e2row11_col1\" class=\"data row11 col1\" >0.236842</td>\n",
       "                        <td id=\"T_c8f90458_c34a_11ea_b655_701ce71f71e2row11_col2\" class=\"data row11 col2\" >0.012195</td>\n",
       "                        <td id=\"T_c8f90458_c34a_11ea_b655_701ce71f71e2row11_col3\" class=\"data row11 col3\" >0.044108</td>\n",
       "            </tr>\n",
       "    </tbody></table>"
      ],
      "text/plain": [
       "<pandas.io.formats.style.Styler at 0x7fce2b9eda20>"
      ]
     },
     "execution_count": 31,
     "metadata": {},
     "output_type": "execute_result"
    }
   ],
   "source": [
    "def highlight_range(s):\n",
    "    '''\n",
    "    highlight the maximum in a Series green.\n",
    "    '''\n",
    "    is_max = s == s.max()\n",
    "    #threshold = 0.95\n",
    "    #val = s > threshold\n",
    "    return ['background-color: lightgreen' if v else '' for v in is_max]\n",
    "\n",
    "df_results.sort_values(by = 'Test Cross Validation Results',ascending = False)\\\n",
    ".style.apply(highlight_range,subset=pd.IndexSlice[:, ['Train Results', 'Test Results', 'Test Cross Validation Results']])"
   ]
  },
  {
   "cell_type": "code",
   "execution_count": null,
   "metadata": {},
   "outputs": [],
   "source": []
  },
  {
   "cell_type": "code",
   "execution_count": null,
   "metadata": {},
   "outputs": [],
   "source": []
  },
  {
   "cell_type": "code",
   "execution_count": null,
   "metadata": {},
   "outputs": [],
   "source": []
  },
  {
   "cell_type": "code",
   "execution_count": null,
   "metadata": {},
   "outputs": [],
   "source": []
  },
  {
   "cell_type": "code",
   "execution_count": null,
   "metadata": {},
   "outputs": [],
   "source": []
  },
  {
   "cell_type": "code",
   "execution_count": null,
   "metadata": {},
   "outputs": [],
   "source": []
  },
  {
   "cell_type": "code",
   "execution_count": null,
   "metadata": {},
   "outputs": [],
   "source": []
  },
  {
   "cell_type": "markdown",
   "metadata": {},
   "source": [
    "### Feature Selection"
   ]
  },
  {
   "cell_type": "code",
   "execution_count": 14,
   "metadata": {},
   "outputs": [],
   "source": [
    "# try:\n",
    "#     pipe = Pipeline(steps=[('preprocessor', preprocessor),('model',  ensemble.RandomForestRegressor(max_depth = 3))])\n",
    "#     pipe.fit(X_train,y_train)\n",
    "# except:\n",
    "#     pipe = Pipeline(steps=[('preprocessor', preprocessor),('model',  ensemble.RandomForestClassifier(max_depth = 3))])\n",
    "#     pipe.fit(X_train,y_train)\n",
    "\n",
    "# try:\n",
    "#     onehot_columns = list(pipe.named_steps['preprocessor'].named_transformers_['cat'].named_steps['one_hot']\n",
    "#                           .get_feature_names(input_features=categorical_features))\n",
    "# except:\n",
    "#     onehot_columns = []\n",
    "\n",
    "# numeric_features_list = list(numeric_features)\n",
    "# numeric_features_list.extend(onehot_columns)\n",
    "# eli5.explain_weights(pipe.named_steps['model'], top=10, feature_names=numeric_features_list)"
   ]
  },
  {
   "cell_type": "markdown",
   "metadata": {},
   "source": [
    "### TroubleShoot"
   ]
  },
  {
   "cell_type": "code",
   "execution_count": 15,
   "metadata": {},
   "outputs": [],
   "source": [
    "# rejected_models = []\n",
    "# results = []\n",
    "# print('{:30s}Train  /  Test   /  Cross Validation'.format('Model'))\n",
    "# print('-----------------------------------------------------------')\n",
    "# for model in model_list:\n",
    "#     pipe                 = Pipeline(steps=[('preprocessor', preprocessor),('model', model)])   \n",
    "#     pipe.fit(X_train,y_train)\n",
    "#     model_name       = type(model).__name__\n",
    "#     train_results    = np.abs(pipe.score(X_train,y_train))\n",
    "#     test_results     = np.abs(pipe.score(X_test,y_test))\n",
    "#     cross_val_scores = np.abs(cross_val_score(pipe, X, y, cv=5)) \n",
    "#     cval_score       = cross_val_scores.mean()\n",
    "\n",
    "#     print('{:30s}{:.4f} / {:.4f}  /  {:.4f} '.format(model_name, train_results, test_results,cval_score))"
   ]
  },
  {
   "cell_type": "code",
   "execution_count": null,
   "metadata": {},
   "outputs": [],
   "source": []
  }
 ],
 "metadata": {
  "kernelspec": {
   "display_name": "Python 3",
   "language": "python",
   "name": "python3"
  },
  "language_info": {
   "codemirror_mode": {
    "name": "ipython",
    "version": 3
   },
   "file_extension": ".py",
   "mimetype": "text/x-python",
   "name": "python",
   "nbconvert_exporter": "python",
   "pygments_lexer": "ipython3",
   "version": "3.6.9"
  }
 },
 "nbformat": 4,
 "nbformat_minor": 4
}
