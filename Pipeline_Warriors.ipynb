{
 "cells": [
  {
   "cell_type": "code",
   "execution_count": 1,
   "metadata": {},
   "outputs": [],
   "source": [
    "import warnings\n",
    "warnings.filterwarnings(\"ignore\")\n",
    "\n",
    "%matplotlib inline\n",
    "import matplotlib.pyplot as plt\n",
    "import seaborn as sns\n",
    "\n",
    "import pandas as pd\n",
    "from pandas_profiling import ProfileReport\n",
    "import numpy as np\n",
    "from sklearn.model_selection import train_test_split\n",
    "from sklearn.base import BaseEstimator, TransformerMixin\n",
    "from sklearn.metrics import classification_report, f1_score\n",
    "from sklearn import set_config\n",
    "from sklearn import datasets\n",
    "from sklearn import ensemble, neighbors,linear_model,svm\n",
    "from scipy.stats import zscore\n",
    "import eli5\n",
    "set_config(display='diagram')\n",
    "\n",
    "# from IPython.core.interactiveshell import InteractiveShell\n",
    "# InteractiveShell.ast_node_interactivity = \"all\"\n",
    "\n",
    "#datasets.load*?"
   ]
  },
  {
   "cell_type": "code",
   "execution_count": 2,
   "metadata": {},
   "outputs": [],
   "source": [
    "def sklearn_to_df(sklearn_dataset):\n",
    "    df = pd.DataFrame(sklearn_dataset.data, columns=sklearn_dataset.feature_names)\n",
    "    df['target'] = pd.Series(sklearn_dataset.target)\n",
    "    return df"
   ]
  },
  {
   "cell_type": "code",
   "execution_count": 3,
   "metadata": {},
   "outputs": [],
   "source": [
    "# df = sklearn_to_df(datasets.load_breast_cancer())\n",
    "# target = 'target'\n",
    "# drop_columns = []"
   ]
  },
  {
   "cell_type": "code",
   "execution_count": 4,
   "metadata": {},
   "outputs": [],
   "source": [
    "# Input_df = pd.read_csv('input/pima-indians-diabetes.csv')\n",
    "# target = 'class'\n",
    "# drop_columns = ['skin','Pres']\n",
    "# df = Input_df.drop(drop_columns, axis = 1)"
   ]
  },
  {
   "cell_type": "code",
   "execution_count": 5,
   "metadata": {},
   "outputs": [
    {
     "data": {
      "text/html": [
       "<div>\n",
       "<style scoped>\n",
       "    .dataframe tbody tr th:only-of-type {\n",
       "        vertical-align: middle;\n",
       "    }\n",
       "\n",
       "    .dataframe tbody tr th {\n",
       "        vertical-align: top;\n",
       "    }\n",
       "\n",
       "    .dataframe thead th {\n",
       "        text-align: right;\n",
       "    }\n",
       "</style>\n",
       "<table border=\"1\" class=\"dataframe\">\n",
       "  <thead>\n",
       "    <tr style=\"text-align: right;\">\n",
       "      <th></th>\n",
       "      <th>Preg</th>\n",
       "      <th>Plas</th>\n",
       "      <th>Pres</th>\n",
       "      <th>skin</th>\n",
       "      <th>test</th>\n",
       "      <th>mass</th>\n",
       "      <th>pedi</th>\n",
       "      <th>age</th>\n",
       "      <th>class</th>\n",
       "    </tr>\n",
       "  </thead>\n",
       "  <tbody>\n",
       "    <tr>\n",
       "      <th>0</th>\n",
       "      <td>6</td>\n",
       "      <td>148</td>\n",
       "      <td>72</td>\n",
       "      <td>35</td>\n",
       "      <td>0</td>\n",
       "      <td>33.6</td>\n",
       "      <td>0.627</td>\n",
       "      <td>50</td>\n",
       "      <td>1</td>\n",
       "    </tr>\n",
       "    <tr>\n",
       "      <th>1</th>\n",
       "      <td>1</td>\n",
       "      <td>85</td>\n",
       "      <td>66</td>\n",
       "      <td>29</td>\n",
       "      <td>0</td>\n",
       "      <td>26.6</td>\n",
       "      <td>0.351</td>\n",
       "      <td>31</td>\n",
       "      <td>0</td>\n",
       "    </tr>\n",
       "    <tr>\n",
       "      <th>2</th>\n",
       "      <td>8</td>\n",
       "      <td>183</td>\n",
       "      <td>64</td>\n",
       "      <td>0</td>\n",
       "      <td>0</td>\n",
       "      <td>23.3</td>\n",
       "      <td>0.672</td>\n",
       "      <td>32</td>\n",
       "      <td>1</td>\n",
       "    </tr>\n",
       "    <tr>\n",
       "      <th>3</th>\n",
       "      <td>1</td>\n",
       "      <td>89</td>\n",
       "      <td>66</td>\n",
       "      <td>23</td>\n",
       "      <td>94</td>\n",
       "      <td>28.1</td>\n",
       "      <td>0.167</td>\n",
       "      <td>21</td>\n",
       "      <td>0</td>\n",
       "    </tr>\n",
       "    <tr>\n",
       "      <th>4</th>\n",
       "      <td>0</td>\n",
       "      <td>137</td>\n",
       "      <td>40</td>\n",
       "      <td>35</td>\n",
       "      <td>168</td>\n",
       "      <td>43.1</td>\n",
       "      <td>2.288</td>\n",
       "      <td>33</td>\n",
       "      <td>1</td>\n",
       "    </tr>\n",
       "  </tbody>\n",
       "</table>\n",
       "</div>"
      ],
      "text/plain": [
       "   Preg  Plas  Pres  skin  test  mass   pedi  age  class\n",
       "0     6   148    72    35     0  33.6  0.627   50      1\n",
       "1     1    85    66    29     0  26.6  0.351   31      0\n",
       "2     8   183    64     0     0  23.3  0.672   32      1\n",
       "3     1    89    66    23    94  28.1  0.167   21      0\n",
       "4     0   137    40    35   168  43.1  2.288   33      1"
      ]
     },
     "execution_count": 5,
     "metadata": {},
     "output_type": "execute_result"
    }
   ],
   "source": [
    "Input_df.head()"
   ]
  },
  {
   "cell_type": "code",
   "execution_count": 6,
   "metadata": {},
   "outputs": [],
   "source": [
    "if df[target].dtypes == np.object:    \n",
    "    numeric_features = df.select_dtypes(include=['int64', 'float64']).columns\n",
    "    categorical_features = df.select_dtypes(include=['object']).drop(target, axis=1).columns\n",
    "else:\n",
    "    numeric_features = df.select_dtypes(include=['int64', 'float64']).drop(target, axis=1).columns\n",
    "    categorical_features = df.select_dtypes(include=['object']).columns\n",
    "    \n",
    "X = df.drop((target),axis = 'columns')\n",
    "X_z_score = pd.DataFrame(zscore(X),columns = X.columns)\n",
    "y = df[target]\n",
    "\n",
    "X_train, X_test, y_train, y_test = train_test_split(X_z_score , y, test_size=0.3,random_state =1)"
   ]
  },
  {
   "cell_type": "code",
   "execution_count": 7,
   "metadata": {},
   "outputs": [],
   "source": [
    "#ProfileReport(df)"
   ]
  },
  {
   "cell_type": "code",
   "execution_count": 8,
   "metadata": {},
   "outputs": [],
   "source": [
    "# train_values = pd.read_csv('train_values.csv')\n",
    "# train_labels = pd.read_csv('train_labels.csv')\n",
    "# train_data = train_values.merge(train_labels, left_on='building_id', right_on='building_id')\n",
    "\n",
    "# train_data = train_data.drop('building_id', axis=1)\n",
    "# numeric_features = train_data.select_dtypes(include=['int64', 'float64']).drop(['damage_grade'], axis=1).columns\n",
    "# categorical_features = train_data.select_dtypes(include=['object']).columns\n",
    "# X = train_data.drop('damage_grade', axis=1)\n",
    "# y = train_data['damage_grade']\n",
    "# X_train, X_test, y_train, y_test = train_test_split(X, y, test_size=0.2)"
   ]
  },
  {
   "cell_type": "code",
   "execution_count": 9,
   "metadata": {},
   "outputs": [
    {
     "data": {
      "text/html": [
       "<style>div.sk-top-container {color: black;background-color: white;}div.sk-toggleable {background-color: white;}label.sk-toggleable__label {cursor: pointer;display: block;width: 100%;margin-bottom: 0;padding: 0.2em 0.3em;box-sizing: border-box;text-align: center;}div.sk-toggleable__content {max-height: 0;max-width: 0;overflow: hidden;text-align: left;background-color: #f0f8ff;}div.sk-toggleable__content pre {margin: 0.2em;color: black;border-radius: 0.25em;background-color: #f0f8ff;}input.sk-toggleable__control:checked~div.sk-toggleable__content {max-height: 200px;max-width: 100%;overflow: auto;}div.sk-estimator input.sk-toggleable__control:checked~label.sk-toggleable__label {background-color: #d4ebff;}div.sk-label input.sk-toggleable__control:checked~label.sk-toggleable__label {background-color: #d4ebff;}input.sk-hidden--visually {border: 0;clip: rect(1px 1px 1px 1px);clip: rect(1px, 1px, 1px, 1px);height: 1px;margin: -1px;overflow: hidden;padding: 0;position: absolute;width: 1px;}div.sk-estimator {font-family: monospace;background-color: #f0f8ff;margin: 0.25em 0.25em;border: 1px dotted black;border-radius: 0.25em;box-sizing: border-box;}div.sk-estimator:hover {background-color: #d4ebff;}div.sk-parallel-item::after {content: \"\";width: 100%;border-bottom: 1px solid gray;flex-grow: 1;}div.sk-label:hover label.sk-toggleable__label {background-color: #d4ebff;}div.sk-serial::before {content: \"\";position: absolute;border-left: 1px solid gray;box-sizing: border-box;top: 2em;bottom: 0;left: 50%;}div.sk-serial {display: flex;flex-direction: column;align-items: center;background-color: white;}div.sk-item {z-index: 1;}div.sk-parallel {display: flex;align-items: stretch;justify-content: center;background-color: white;}div.sk-parallel-item {display: flex;flex-direction: column;position: relative;background-color: white;}div.sk-parallel-item:first-child::after {align-self: flex-end;width: 50%;}div.sk-parallel-item:last-child::after {align-self: flex-start;width: 50%;}div.sk-parallel-item:only-child::after {width: 0;}div.sk-dashed-wrapped {border: 1px dashed gray;margin: 0.2em;box-sizing: border-box;padding-bottom: 0.1em;background-color: white;position: relative;}div.sk-label label {font-family: monospace;font-weight: bold;background-color: white;display: inline-block;line-height: 1.2em;}div.sk-label-container {position: relative;z-index: 2;text-align: center;}div.sk-container {display: inline-block;position: relative;}</style><div class=\"sk-top-container\"><div class=\"sk-container\"><div class=\"sk-item sk-dashed-wrapped\"><div class=\"sk-label-container\"><div class=\"sk-label sk-toggleable\"><input class=\"sk-toggleable__control sk-hidden--visually\" id=\"53d0974d-98a6-4e65-ab2f-0f5a2509727b\" type=\"checkbox\" ><label class=\"sk-toggleable__label\" for=\"53d0974d-98a6-4e65-ab2f-0f5a2509727b\">Pipeline</label><div class=\"sk-toggleable__content\"><pre>Pipeline(steps=[('preprocessor',\n",
       "                 ColumnTransformer(transformers=[('num',\n",
       "                                                  Pipeline(steps=[('imputer',\n",
       "                                                                   SimpleImputer(strategy='median')),\n",
       "                                                                  ('scaler',\n",
       "                                                                   MinMaxScaler()),\n",
       "                                                                  ('poly',\n",
       "                                                                   PolynomialFeatures(interaction_only=True))]),\n",
       "                                                  Index(['Preg', 'Plas', 'test', 'mass', 'pedi', 'age'], dtype='object')),\n",
       "                                                 ('cat',\n",
       "                                                  Pipeline(steps=[('imputer',\n",
       "                                                                   SimpleImputer(fill_value='most_frequent',\n",
       "                                                                                 strategy='constant')),\n",
       "                                                                  ('one_hot',\n",
       "                                                                   OneHotEncoder())]),\n",
       "                                                  Index([], dtype='object'))])),\n",
       "                ('model', RandomForestRegressor(max_depth=3))])</pre></div></div></div><div class=\"sk-serial\"><div class=\"sk-item sk-dashed-wrapped\"><div class=\"sk-label-container\"><div class=\"sk-label sk-toggleable\"><input class=\"sk-toggleable__control sk-hidden--visually\" id=\"386b9415-052f-4670-a436-0d8e7917b09e\" type=\"checkbox\" ><label class=\"sk-toggleable__label\" for=\"386b9415-052f-4670-a436-0d8e7917b09e\">preprocessor: ColumnTransformer</label><div class=\"sk-toggleable__content\"><pre>ColumnTransformer(transformers=[('num',\n",
       "                                 Pipeline(steps=[('imputer',\n",
       "                                                  SimpleImputer(strategy='median')),\n",
       "                                                 ('scaler', MinMaxScaler()),\n",
       "                                                 ('poly',\n",
       "                                                  PolynomialFeatures(interaction_only=True))]),\n",
       "                                 Index(['Preg', 'Plas', 'test', 'mass', 'pedi', 'age'], dtype='object')),\n",
       "                                ('cat',\n",
       "                                 Pipeline(steps=[('imputer',\n",
       "                                                  SimpleImputer(fill_value='most_frequent',\n",
       "                                                                strategy='constant')),\n",
       "                                                 ('one_hot', OneHotEncoder())]),\n",
       "                                 Index([], dtype='object'))])</pre></div></div></div><div class=\"sk-parallel\"><div class=\"sk-parallel-item\"><div class=\"sk-item\"><div class=\"sk-label-container\"><div class=\"sk-label sk-toggleable\"><input class=\"sk-toggleable__control sk-hidden--visually\" id=\"50bc4c7e-6b8e-44b2-bc0f-9484774e2295\" type=\"checkbox\" ><label class=\"sk-toggleable__label\" for=\"50bc4c7e-6b8e-44b2-bc0f-9484774e2295\">num</label><div class=\"sk-toggleable__content\"><pre>Index(['Preg', 'Plas', 'test', 'mass', 'pedi', 'age'], dtype='object')</pre></div></div></div><div class=\"sk-serial\"><div class=\"sk-item\"><div class=\"sk-serial\"><div class=\"sk-item\"><div class=\"sk-estimator sk-toggleable\"><input class=\"sk-toggleable__control sk-hidden--visually\" id=\"c511b9af-6daf-4d87-955d-bb2e8ba5ff86\" type=\"checkbox\" ><label class=\"sk-toggleable__label\" for=\"c511b9af-6daf-4d87-955d-bb2e8ba5ff86\">SimpleImputer</label><div class=\"sk-toggleable__content\"><pre>SimpleImputer(strategy='median')</pre></div></div></div><div class=\"sk-item\"><div class=\"sk-estimator sk-toggleable\"><input class=\"sk-toggleable__control sk-hidden--visually\" id=\"1c45a153-ea66-44b4-9015-b8eec3deedf8\" type=\"checkbox\" ><label class=\"sk-toggleable__label\" for=\"1c45a153-ea66-44b4-9015-b8eec3deedf8\">MinMaxScaler</label><div class=\"sk-toggleable__content\"><pre>MinMaxScaler()</pre></div></div></div><div class=\"sk-item\"><div class=\"sk-estimator sk-toggleable\"><input class=\"sk-toggleable__control sk-hidden--visually\" id=\"a7464aae-632a-44bf-9f0b-65950fc43be2\" type=\"checkbox\" ><label class=\"sk-toggleable__label\" for=\"a7464aae-632a-44bf-9f0b-65950fc43be2\">PolynomialFeatures</label><div class=\"sk-toggleable__content\"><pre>PolynomialFeatures(interaction_only=True)</pre></div></div></div></div></div></div></div></div><div class=\"sk-parallel-item\"><div class=\"sk-item\"><div class=\"sk-label-container\"><div class=\"sk-label sk-toggleable\"><input class=\"sk-toggleable__control sk-hidden--visually\" id=\"36fd03e0-933a-4c18-8e5e-bc5ab41f1d0e\" type=\"checkbox\" ><label class=\"sk-toggleable__label\" for=\"36fd03e0-933a-4c18-8e5e-bc5ab41f1d0e\">cat</label><div class=\"sk-toggleable__content\"><pre>Index([], dtype='object')</pre></div></div></div><div class=\"sk-serial\"><div class=\"sk-item\"><div class=\"sk-serial\"><div class=\"sk-item\"><div class=\"sk-estimator sk-toggleable\"><input class=\"sk-toggleable__control sk-hidden--visually\" id=\"7ddb2a15-9dd1-41c4-9eb1-967ee3de5926\" type=\"checkbox\" ><label class=\"sk-toggleable__label\" for=\"7ddb2a15-9dd1-41c4-9eb1-967ee3de5926\">SimpleImputer</label><div class=\"sk-toggleable__content\"><pre>SimpleImputer(fill_value='most_frequent', strategy='constant')</pre></div></div></div><div class=\"sk-item\"><div class=\"sk-estimator sk-toggleable\"><input class=\"sk-toggleable__control sk-hidden--visually\" id=\"f0e079a1-5933-4197-93f9-564fd0b5e263\" type=\"checkbox\" ><label class=\"sk-toggleable__label\" for=\"f0e079a1-5933-4197-93f9-564fd0b5e263\">OneHotEncoder</label><div class=\"sk-toggleable__content\"><pre>OneHotEncoder()</pre></div></div></div></div></div></div></div></div></div></div><div class=\"sk-item\"><div class=\"sk-estimator sk-toggleable\"><input class=\"sk-toggleable__control sk-hidden--visually\" id=\"ba67354d-c33e-41a0-b6d2-6874fd70d613\" type=\"checkbox\" ><label class=\"sk-toggleable__label\" for=\"ba67354d-c33e-41a0-b6d2-6874fd70d613\">RandomForestRegressor</label><div class=\"sk-toggleable__content\"><pre>RandomForestRegressor(max_depth=3)</pre></div></div></div></div></div></div></div>"
      ],
      "text/plain": [
       "Pipeline(steps=[('preprocessor',\n",
       "                 ColumnTransformer(transformers=[('num',\n",
       "                                                  Pipeline(steps=[('imputer',\n",
       "                                                                   SimpleImputer(strategy='median')),\n",
       "                                                                  ('scaler',\n",
       "                                                                   MinMaxScaler()),\n",
       "                                                                  ('poly',\n",
       "                                                                   PolynomialFeatures(interaction_only=True))]),\n",
       "                                                  Index(['Preg', 'Plas', 'test', 'mass', 'pedi', 'age'], dtype='object')),\n",
       "                                                 ('cat',\n",
       "                                                  Pipeline(steps=[('imputer',\n",
       "                                                                   SimpleImputer(fill_value='most_frequent',\n",
       "                                                                                 strategy='constant')),\n",
       "                                                                  ('one_hot',\n",
       "                                                                   OneHotEncoder())]),\n",
       "                                                  Index([], dtype='object'))])),\n",
       "                ('model', RandomForestRegressor(max_depth=3))])"
      ]
     },
     "execution_count": 9,
     "metadata": {},
     "output_type": "execute_result"
    }
   ],
   "source": [
    "from sklearn.pipeline import Pipeline\n",
    "from sklearn.impute import SimpleImputer\n",
    "from sklearn.preprocessing import OneHotEncoder,StandardScaler,PolynomialFeatures,MinMaxScaler\n",
    "from sklearn.compose import ColumnTransformer\n",
    "from sklearn import ensemble, neighbors,linear_model,svm\n",
    "from sklearn.feature_selection import SelectFromModel\n",
    "from sklearn.model_selection import cross_val_score\n",
    "\n",
    "\n",
    "numeric_transformer = Pipeline(steps=[\n",
    "    ('imputer', SimpleImputer(strategy='median')),\n",
    "    #('feature_selection',SelectFromModel(svm.LinearSVC(penalty = 'l1',dual = False))),\n",
    "    #('scaler', StandardScaler()),\n",
    "    ('scaler',MinMaxScaler()),\n",
    "    ('poly', PolynomialFeatures(degree = 2,interaction_only = True)),\n",
    "    ])\n",
    "categorical_transformer = Pipeline(steps=[\n",
    "    ('imputer', SimpleImputer(strategy='constant', fill_value='most_frequent')),\n",
    "    ('one_hot', OneHotEncoder()),\n",
    "    ])\n",
    "preprocessor = ColumnTransformer(\n",
    "    transformers=[\n",
    "        ('num', numeric_transformer, numeric_features),\n",
    "        ('cat', categorical_transformer, categorical_features)\n",
    "    ])\n",
    "pipe = Pipeline(steps=[('preprocessor', preprocessor),\n",
    "                      ('model',  ensemble.RandomForestRegressor(max_depth = 3))])\n",
    "    \n",
    "#model = pipe.fit(X_train, y_train)\n",
    "pipe"
   ]
  },
  {
   "cell_type": "code",
   "execution_count": 10,
   "metadata": {},
   "outputs": [],
   "source": [
    "model_list = [#regressors\n",
    "                linear_model.LinearRegression(),linear_model.Lasso(),linear_model.Ridge(),svm.SVR(),\n",
    "              \n",
    "              #ensembling - regressors\n",
    "                ensemble.RandomForestRegressor(max_depth = 3),ensemble.AdaBoostRegressor(),ensemble.GradientBoostingRegressor(),\n",
    "    \n",
    "              #classifiers\n",
    "                linear_model.LogisticRegression(max_iter = 500), neighbors.KNeighborsClassifier(),svm.SVC(),             \n",
    "    \n",
    "              #ensembling - classifiers\n",
    "                ensemble.RandomForestClassifier(n_estimators=500,max_depth = 3),ensemble.AdaBoostClassifier(learning_rate=0.5),ensemble.GradientBoostingClassifier(n_estimators = 200)\n",
    "\n",
    "              ]"
   ]
  },
  {
   "cell_type": "code",
   "execution_count": 11,
   "metadata": {},
   "outputs": [
    {
     "name": "stdout",
     "output_type": "stream",
     "text": [
      "Model                         Train  /  Test   /  Cross Validation\n",
      "-----------------------------------------------------------------\n",
      "LinearRegression              0.3003 / 0.3391  /  0.2552 \n",
      "Lasso                         0.0000 / 0.0032  /  0.0209 \n",
      "Ridge                         0.2802 / 0.3659  /  0.2771 \n",
      "SVR                           0.3055 / 0.3799  /  0.2751 \n",
      "RandomForestRegressor         0.4064 / 0.3841  /  0.2948 \n",
      "AdaBoostRegressor             0.3627 / 0.3096  /  0.2053 \n",
      "GradientBoostingRegressor     0.7543 / 0.3665  /  0.2686 \n",
      "LogisticRegression            0.7635 / 0.7835  /  0.7709 \n",
      "KNeighborsClassifier          0.8194 / 0.7706  /  0.7448 \n",
      "SVC                           0.7765 / 0.7922  /  0.7735 \n",
      "RandomForestClassifier        0.8063 / 0.8095  /  0.7696 \n",
      "AdaBoostClassifier            0.8250 / 0.7965  /  0.7631 \n",
      "GradientBoostingClassifier    0.9944 / 0.8009  /  0.7565 \n"
     ]
    }
   ],
   "source": [
    "rejected_models = []\n",
    "results = []\n",
    "print('{:30s}Train  /  Test   /  Cross Validation'.format('Model'))\n",
    "print('-----------------------------------------------------------------')\n",
    "for model in model_list:\n",
    "    pipe                 = Pipeline(steps=[('preprocessor', preprocessor),('model', model)])\n",
    "\n",
    "    try:        \n",
    "        pipe.fit(X_train,y_train)\n",
    "\n",
    "        model_name       = type(model).__name__\n",
    "        train_results    = np.abs(pipe.score(X_train,y_train))\n",
    "        test_results     = np.abs(pipe.score(X_test,y_test))\n",
    "        cross_val_scores = np.abs(cross_val_score(pipe, X, y, cv=5)) \n",
    "        cval_score       = cross_val_scores.mean()\n",
    "\n",
    "        results.append([model_name, train_results, test_results,cval_score])\n",
    "        print('{:30s}{:.4f} / {:.4f}  /  {:.4f} '.format(model_name, train_results, test_results,cval_score))\n",
    "\n",
    "    except:\n",
    "        rejected_models.append(type(model).__name__)\n",
    "\n",
    "df_results = pd.DataFrame(results, columns=[\"Model\", \"Train Results\",\"Test Results\",'Test Cross Validation Results'])"
   ]
  },
  {
   "cell_type": "code",
   "execution_count": 12,
   "metadata": {},
   "outputs": [
    {
     "name": "stdout",
     "output_type": "stream",
     "text": [
      "No models rejected\n"
     ]
    }
   ],
   "source": [
    "if rejected_models == []:\n",
    "    print('No models rejected')\n",
    "else:    \n",
    "    print('Rejected Models list: ')\n",
    "    for rej_models in rejected_models:\n",
    "        print('  - ',rej_models)"
   ]
  },
  {
   "cell_type": "code",
   "execution_count": 14,
   "metadata": {},
   "outputs": [
    {
     "data": {
      "text/html": [
       "<style  type=\"text/css\" >\n",
       "    #T_55a3dab4_c37c_11ea_b778_701ce71f71e2  {\n",
       "          border: 4px solid #7a7;\n",
       "    }    #T_55a3dab4_c37c_11ea_b778_701ce71f71e2row0_col3 {\n",
       "            background-color:  lightgreen;\n",
       "        }    #T_55a3dab4_c37c_11ea_b778_701ce71f71e2row2_col2 {\n",
       "            background-color:  lightgreen;\n",
       "        }    #T_55a3dab4_c37c_11ea_b778_701ce71f71e2row4_col1 {\n",
       "            background-color:  lightgreen;\n",
       "        }</style><table id=\"T_55a3dab4_c37c_11ea_b778_701ce71f71e2\" ><thead>    <tr>        <th class=\"blank level0\" ></th>        <th class=\"col_heading level0 col0\" >Model</th>        <th class=\"col_heading level0 col1\" >Train Results</th>        <th class=\"col_heading level0 col2\" >Test Results</th>        <th class=\"col_heading level0 col3\" >Test Cross Validation Results</th>    </tr></thead><tbody>\n",
       "                <tr>\n",
       "                        <th id=\"T_55a3dab4_c37c_11ea_b778_701ce71f71e2level0_row0\" class=\"row_heading level0 row0\" >9</th>\n",
       "                        <td id=\"T_55a3dab4_c37c_11ea_b778_701ce71f71e2row0_col0\" class=\"data row0 col0\" >SVC</td>\n",
       "                        <td id=\"T_55a3dab4_c37c_11ea_b778_701ce71f71e2row0_col1\" class=\"data row0 col1\" >0.776536</td>\n",
       "                        <td id=\"T_55a3dab4_c37c_11ea_b778_701ce71f71e2row0_col2\" class=\"data row0 col2\" >0.792208</td>\n",
       "                        <td id=\"T_55a3dab4_c37c_11ea_b778_701ce71f71e2row0_col3\" class=\"data row0 col3\" >0.773491</td>\n",
       "            </tr>\n",
       "            <tr>\n",
       "                        <th id=\"T_55a3dab4_c37c_11ea_b778_701ce71f71e2level0_row1\" class=\"row_heading level0 row1\" >7</th>\n",
       "                        <td id=\"T_55a3dab4_c37c_11ea_b778_701ce71f71e2row1_col0\" class=\"data row1 col0\" >LogisticRegression</td>\n",
       "                        <td id=\"T_55a3dab4_c37c_11ea_b778_701ce71f71e2row1_col1\" class=\"data row1 col1\" >0.763501</td>\n",
       "                        <td id=\"T_55a3dab4_c37c_11ea_b778_701ce71f71e2row1_col2\" class=\"data row1 col2\" >0.783550</td>\n",
       "                        <td id=\"T_55a3dab4_c37c_11ea_b778_701ce71f71e2row1_col3\" class=\"data row1 col3\" >0.770868</td>\n",
       "            </tr>\n",
       "            <tr>\n",
       "                        <th id=\"T_55a3dab4_c37c_11ea_b778_701ce71f71e2level0_row2\" class=\"row_heading level0 row2\" >10</th>\n",
       "                        <td id=\"T_55a3dab4_c37c_11ea_b778_701ce71f71e2row2_col0\" class=\"data row2 col0\" >RandomForestClassifier</td>\n",
       "                        <td id=\"T_55a3dab4_c37c_11ea_b778_701ce71f71e2row2_col1\" class=\"data row2 col1\" >0.806331</td>\n",
       "                        <td id=\"T_55a3dab4_c37c_11ea_b778_701ce71f71e2row2_col2\" class=\"data row2 col2\" >0.809524</td>\n",
       "                        <td id=\"T_55a3dab4_c37c_11ea_b778_701ce71f71e2row2_col3\" class=\"data row2 col3\" >0.769578</td>\n",
       "            </tr>\n",
       "            <tr>\n",
       "                        <th id=\"T_55a3dab4_c37c_11ea_b778_701ce71f71e2level0_row3\" class=\"row_heading level0 row3\" >11</th>\n",
       "                        <td id=\"T_55a3dab4_c37c_11ea_b778_701ce71f71e2row3_col0\" class=\"data row3 col0\" >AdaBoostClassifier</td>\n",
       "                        <td id=\"T_55a3dab4_c37c_11ea_b778_701ce71f71e2row3_col1\" class=\"data row3 col1\" >0.824953</td>\n",
       "                        <td id=\"T_55a3dab4_c37c_11ea_b778_701ce71f71e2row3_col2\" class=\"data row3 col2\" >0.796537</td>\n",
       "                        <td id=\"T_55a3dab4_c37c_11ea_b778_701ce71f71e2row3_col3\" class=\"data row3 col3\" >0.763093</td>\n",
       "            </tr>\n",
       "            <tr>\n",
       "                        <th id=\"T_55a3dab4_c37c_11ea_b778_701ce71f71e2level0_row4\" class=\"row_heading level0 row4\" >12</th>\n",
       "                        <td id=\"T_55a3dab4_c37c_11ea_b778_701ce71f71e2row4_col0\" class=\"data row4 col0\" >GradientBoostingClassifier</td>\n",
       "                        <td id=\"T_55a3dab4_c37c_11ea_b778_701ce71f71e2row4_col1\" class=\"data row4 col1\" >0.994413</td>\n",
       "                        <td id=\"T_55a3dab4_c37c_11ea_b778_701ce71f71e2row4_col2\" class=\"data row4 col2\" >0.800866</td>\n",
       "                        <td id=\"T_55a3dab4_c37c_11ea_b778_701ce71f71e2row4_col3\" class=\"data row4 col3\" >0.756540</td>\n",
       "            </tr>\n",
       "            <tr>\n",
       "                        <th id=\"T_55a3dab4_c37c_11ea_b778_701ce71f71e2level0_row5\" class=\"row_heading level0 row5\" >8</th>\n",
       "                        <td id=\"T_55a3dab4_c37c_11ea_b778_701ce71f71e2row5_col0\" class=\"data row5 col0\" >KNeighborsClassifier</td>\n",
       "                        <td id=\"T_55a3dab4_c37c_11ea_b778_701ce71f71e2row5_col1\" class=\"data row5 col1\" >0.819367</td>\n",
       "                        <td id=\"T_55a3dab4_c37c_11ea_b778_701ce71f71e2row5_col2\" class=\"data row5 col2\" >0.770563</td>\n",
       "                        <td id=\"T_55a3dab4_c37c_11ea_b778_701ce71f71e2row5_col3\" class=\"data row5 col3\" >0.744818</td>\n",
       "            </tr>\n",
       "            <tr>\n",
       "                        <th id=\"T_55a3dab4_c37c_11ea_b778_701ce71f71e2level0_row6\" class=\"row_heading level0 row6\" >4</th>\n",
       "                        <td id=\"T_55a3dab4_c37c_11ea_b778_701ce71f71e2row6_col0\" class=\"data row6 col0\" >RandomForestRegressor</td>\n",
       "                        <td id=\"T_55a3dab4_c37c_11ea_b778_701ce71f71e2row6_col1\" class=\"data row6 col1\" >0.406443</td>\n",
       "                        <td id=\"T_55a3dab4_c37c_11ea_b778_701ce71f71e2row6_col2\" class=\"data row6 col2\" >0.384110</td>\n",
       "                        <td id=\"T_55a3dab4_c37c_11ea_b778_701ce71f71e2row6_col3\" class=\"data row6 col3\" >0.294776</td>\n",
       "            </tr>\n",
       "            <tr>\n",
       "                        <th id=\"T_55a3dab4_c37c_11ea_b778_701ce71f71e2level0_row7\" class=\"row_heading level0 row7\" >2</th>\n",
       "                        <td id=\"T_55a3dab4_c37c_11ea_b778_701ce71f71e2row7_col0\" class=\"data row7 col0\" >Ridge</td>\n",
       "                        <td id=\"T_55a3dab4_c37c_11ea_b778_701ce71f71e2row7_col1\" class=\"data row7 col1\" >0.280154</td>\n",
       "                        <td id=\"T_55a3dab4_c37c_11ea_b778_701ce71f71e2row7_col2\" class=\"data row7 col2\" >0.365920</td>\n",
       "                        <td id=\"T_55a3dab4_c37c_11ea_b778_701ce71f71e2row7_col3\" class=\"data row7 col3\" >0.277095</td>\n",
       "            </tr>\n",
       "            <tr>\n",
       "                        <th id=\"T_55a3dab4_c37c_11ea_b778_701ce71f71e2level0_row8\" class=\"row_heading level0 row8\" >3</th>\n",
       "                        <td id=\"T_55a3dab4_c37c_11ea_b778_701ce71f71e2row8_col0\" class=\"data row8 col0\" >SVR</td>\n",
       "                        <td id=\"T_55a3dab4_c37c_11ea_b778_701ce71f71e2row8_col1\" class=\"data row8 col1\" >0.305475</td>\n",
       "                        <td id=\"T_55a3dab4_c37c_11ea_b778_701ce71f71e2row8_col2\" class=\"data row8 col2\" >0.379944</td>\n",
       "                        <td id=\"T_55a3dab4_c37c_11ea_b778_701ce71f71e2row8_col3\" class=\"data row8 col3\" >0.275139</td>\n",
       "            </tr>\n",
       "            <tr>\n",
       "                        <th id=\"T_55a3dab4_c37c_11ea_b778_701ce71f71e2level0_row9\" class=\"row_heading level0 row9\" >6</th>\n",
       "                        <td id=\"T_55a3dab4_c37c_11ea_b778_701ce71f71e2row9_col0\" class=\"data row9 col0\" >GradientBoostingRegressor</td>\n",
       "                        <td id=\"T_55a3dab4_c37c_11ea_b778_701ce71f71e2row9_col1\" class=\"data row9 col1\" >0.754279</td>\n",
       "                        <td id=\"T_55a3dab4_c37c_11ea_b778_701ce71f71e2row9_col2\" class=\"data row9 col2\" >0.366493</td>\n",
       "                        <td id=\"T_55a3dab4_c37c_11ea_b778_701ce71f71e2row9_col3\" class=\"data row9 col3\" >0.268555</td>\n",
       "            </tr>\n",
       "            <tr>\n",
       "                        <th id=\"T_55a3dab4_c37c_11ea_b778_701ce71f71e2level0_row10\" class=\"row_heading level0 row10\" >0</th>\n",
       "                        <td id=\"T_55a3dab4_c37c_11ea_b778_701ce71f71e2row10_col0\" class=\"data row10 col0\" >LinearRegression</td>\n",
       "                        <td id=\"T_55a3dab4_c37c_11ea_b778_701ce71f71e2row10_col1\" class=\"data row10 col1\" >0.300281</td>\n",
       "                        <td id=\"T_55a3dab4_c37c_11ea_b778_701ce71f71e2row10_col2\" class=\"data row10 col2\" >0.339078</td>\n",
       "                        <td id=\"T_55a3dab4_c37c_11ea_b778_701ce71f71e2row10_col3\" class=\"data row10 col3\" >0.255176</td>\n",
       "            </tr>\n",
       "            <tr>\n",
       "                        <th id=\"T_55a3dab4_c37c_11ea_b778_701ce71f71e2level0_row11\" class=\"row_heading level0 row11\" >5</th>\n",
       "                        <td id=\"T_55a3dab4_c37c_11ea_b778_701ce71f71e2row11_col0\" class=\"data row11 col0\" >AdaBoostRegressor</td>\n",
       "                        <td id=\"T_55a3dab4_c37c_11ea_b778_701ce71f71e2row11_col1\" class=\"data row11 col1\" >0.362747</td>\n",
       "                        <td id=\"T_55a3dab4_c37c_11ea_b778_701ce71f71e2row11_col2\" class=\"data row11 col2\" >0.309623</td>\n",
       "                        <td id=\"T_55a3dab4_c37c_11ea_b778_701ce71f71e2row11_col3\" class=\"data row11 col3\" >0.205254</td>\n",
       "            </tr>\n",
       "            <tr>\n",
       "                        <th id=\"T_55a3dab4_c37c_11ea_b778_701ce71f71e2level0_row12\" class=\"row_heading level0 row12\" >1</th>\n",
       "                        <td id=\"T_55a3dab4_c37c_11ea_b778_701ce71f71e2row12_col0\" class=\"data row12 col0\" >Lasso</td>\n",
       "                        <td id=\"T_55a3dab4_c37c_11ea_b778_701ce71f71e2row12_col1\" class=\"data row12 col1\" >0.000000</td>\n",
       "                        <td id=\"T_55a3dab4_c37c_11ea_b778_701ce71f71e2row12_col2\" class=\"data row12 col2\" >0.003177</td>\n",
       "                        <td id=\"T_55a3dab4_c37c_11ea_b778_701ce71f71e2row12_col3\" class=\"data row12 col3\" >0.020874</td>\n",
       "            </tr>\n",
       "    </tbody></table>"
      ],
      "text/plain": [
       "<pandas.io.formats.style.Styler at 0x7fd03d7f5518>"
      ]
     },
     "execution_count": 14,
     "metadata": {},
     "output_type": "execute_result"
    }
   ],
   "source": [
    "def highlight_range(s):\n",
    "    '''\n",
    "    highlight the maximum in a Series green.\n",
    "    '''\n",
    "    is_max = s == s.max()\n",
    "    #threshold = 0.95\n",
    "    #val = s > threshold\n",
    "    return ['background-color: lightgreen' if v else '' for v in is_max]\n",
    "\n",
    "df_results.sort_values(by = 'Test Cross Validation Results',ascending = False)\\\n",
    ".style.apply(highlight_range,subset=pd.IndexSlice[:, ['Train Results', 'Test Results', 'Test Cross Validation Results']]).set_table_styles([{'selector':'','props':[('border','4px solid #7a7')]}])"
   ]
  },
  {
   "cell_type": "code",
   "execution_count": null,
   "metadata": {},
   "outputs": [],
   "source": []
  },
  {
   "cell_type": "code",
   "execution_count": null,
   "metadata": {},
   "outputs": [],
   "source": []
  },
  {
   "cell_type": "code",
   "execution_count": null,
   "metadata": {},
   "outputs": [],
   "source": []
  },
  {
   "cell_type": "code",
   "execution_count": null,
   "metadata": {},
   "outputs": [],
   "source": []
  },
  {
   "cell_type": "code",
   "execution_count": null,
   "metadata": {},
   "outputs": [],
   "source": []
  },
  {
   "cell_type": "code",
   "execution_count": null,
   "metadata": {},
   "outputs": [],
   "source": []
  },
  {
   "cell_type": "code",
   "execution_count": null,
   "metadata": {},
   "outputs": [],
   "source": []
  },
  {
   "cell_type": "markdown",
   "metadata": {},
   "source": [
    "### Feature Selection"
   ]
  },
  {
   "cell_type": "code",
   "execution_count": null,
   "metadata": {},
   "outputs": [],
   "source": [
    "# try:\n",
    "#     pipe = Pipeline(steps=[('preprocessor', preprocessor),('model',  ensemble.RandomForestRegressor(max_depth = 3))])\n",
    "#     pipe.fit(X_train,y_train)\n",
    "# except:\n",
    "#     pipe = Pipeline(steps=[('preprocessor', preprocessor),('model',  ensemble.RandomForestClassifier(max_depth = 3))])\n",
    "#     pipe.fit(X_train,y_train)\n",
    "\n",
    "# try:\n",
    "#     onehot_columns = list(pipe.named_steps['preprocessor'].named_transformers_['cat'].named_steps['one_hot']\n",
    "#                           .get_feature_names(input_features=categorical_features))\n",
    "# except:\n",
    "#     onehot_columns = []\n",
    "\n",
    "# numeric_features_list = list(numeric_features)\n",
    "# numeric_features_list.extend(onehot_columns)\n",
    "# eli5.explain_weights(pipe.named_steps['model'], top=10, feature_names=numeric_features_list)"
   ]
  },
  {
   "cell_type": "markdown",
   "metadata": {},
   "source": [
    "### TroubleShoot"
   ]
  },
  {
   "cell_type": "code",
   "execution_count": null,
   "metadata": {},
   "outputs": [],
   "source": [
    "# rejected_models = []\n",
    "# results = []\n",
    "# print('{:30s}Train  /  Test   /  Cross Validation'.format('Model'))\n",
    "# print('-----------------------------------------------------------')\n",
    "# for model in model_list:\n",
    "#     pipe                 = Pipeline(steps=[('preprocessor', preprocessor),('model', model)])   \n",
    "#     pipe.fit(X_train,y_train)\n",
    "#     model_name       = type(model).__name__\n",
    "#     train_results    = np.abs(pipe.score(X_train,y_train))\n",
    "#     test_results     = np.abs(pipe.score(X_test,y_test))\n",
    "#     cross_val_scores = np.abs(cross_val_score(pipe, X, y, cv=5)) \n",
    "#     cval_score       = cross_val_scores.mean()\n",
    "\n",
    "#     print('{:30s}{:.4f} / {:.4f}  /  {:.4f} '.format(model_name, train_results, test_results,cval_score))"
   ]
  },
  {
   "cell_type": "code",
   "execution_count": null,
   "metadata": {},
   "outputs": [],
   "source": [
    "#sns.pairplot(df,diag_kind = 'kde',hue = target);"
   ]
  },
  {
   "cell_type": "code",
   "execution_count": null,
   "metadata": {},
   "outputs": [],
   "source": [
    "# def highlight_range(s):\n",
    "#     '''\n",
    "#     highlight the maximum in a Series green.\n",
    "#     '''\n",
    "#     is_max = s == s.max()\n",
    "#     threshold = 0.1\n",
    "#     val = s < threshold\n",
    "#     return ['background-color: lightgreen' if v else '' for v in val]\n",
    "\n",
    "# df.corr().style.apply(highlight_range)"
   ]
  },
  {
   "cell_type": "markdown",
   "metadata": {},
   "source": [
    "## PCA"
   ]
  },
  {
   "cell_type": "code",
   "execution_count": null,
   "metadata": {},
   "outputs": [],
   "source": [
    "# from sklearn.decomposition import PCA\n",
    "\n",
    "# X_scaled = StandardScaler(X)\n",
    "# pca3 = PCA(n_components=6)\n",
    "# pca3.fit(X)\n",
    "# #print(pca3.components_)\n",
    "# print(pca3.explained_variance_ratio_)\n",
    "# Xpca3 = pca3.transform(X)"
   ]
  },
  {
   "cell_type": "code",
   "execution_count": null,
   "metadata": {
    "scrolled": true
   },
   "outputs": [],
   "source": [
    "# plt.bar(list(range(1,7)),pca3.explained_variance_ratio_,alpha=0.5, align='center')\n",
    "# plt.ylabel('Variation explained')\n",
    "# plt.xlabel('eigen Value')\n",
    "# plt.show()"
   ]
  },
  {
   "cell_type": "code",
   "execution_count": null,
   "metadata": {},
   "outputs": [],
   "source": [
    "# plt.step(list(range(1,7)),np.cumsum(pca3.explained_variance_ratio_), where='mid')\n",
    "# plt.ylabel('Cum of variation explained')\n",
    "# plt.xlabel('eigen Value')\n",
    "# plt.show()"
   ]
  },
  {
   "cell_type": "code",
   "execution_count": null,
   "metadata": {},
   "outputs": [],
   "source": []
  }
 ],
 "metadata": {
  "kernelspec": {
   "display_name": "Python 3",
   "language": "python",
   "name": "python3"
  },
  "language_info": {
   "codemirror_mode": {
    "name": "ipython",
    "version": 3
   },
   "file_extension": ".py",
   "mimetype": "text/x-python",
   "name": "python",
   "nbconvert_exporter": "python",
   "pygments_lexer": "ipython3",
   "version": "3.6.9"
  }
 },
 "nbformat": 4,
 "nbformat_minor": 4
}
