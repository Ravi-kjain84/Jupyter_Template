{
 "cells": [
  {
   "cell_type": "code",
   "execution_count": 152,
   "metadata": {},
   "outputs": [],
   "source": [
    "from sklearn import datasets\n",
    "import pandas as pd"
   ]
  },
  {
   "cell_type": "code",
   "execution_count": 153,
   "metadata": {},
   "outputs": [
    {
     "data": {
      "text/plain": [
       "datasets.fetch_20newsgroups\n",
       "datasets.fetch_20newsgroups_vectorized\n",
       "datasets.fetch_california_housing\n",
       "datasets.fetch_covtype\n",
       "datasets.fetch_kddcup99\n",
       "datasets.fetch_lfw_pairs\n",
       "datasets.fetch_lfw_people\n",
       "datasets.fetch_olivetti_faces\n",
       "datasets.fetch_openml\n",
       "datasets.fetch_rcv1\n",
       "datasets.fetch_species_distributions"
      ]
     },
     "metadata": {},
     "output_type": "display_data"
    }
   ],
   "source": [
    "datasets.fetch*?"
   ]
  },
  {
   "cell_type": "code",
   "execution_count": 154,
   "metadata": {},
   "outputs": [],
   "source": [
    "def sklearn_to_df(sklearn_dataset):\n",
    "    df = pd.DataFrame(sklearn_dataset.data, columns=sklearn_dataset.feature_names)\n",
    "    df['target'] = pd.Series(sklearn_dataset.target)\n",
    "    return df"
   ]
  },
  {
   "cell_type": "code",
   "execution_count": 155,
   "metadata": {},
   "outputs": [],
   "source": [
    "df = sklearn_to_df(datasets.fetch_openml(name = 'blood-transfusion-service-center'))\n",
    "X = df.drop('target',axis = 'columns')\n",
    "y = df['target']\n",
    "cat_cols = []\n",
    "num_cols = X.columns"
   ]
  },
  {
   "cell_type": "code",
   "execution_count": 156,
   "metadata": {},
   "outputs": [],
   "source": [
    "X,y = datasets.make_regression(n_samples= 1000)\n",
    "# X = pd.DataFrame(X)\n",
    "# y = pd.DataFrame(y)\n"
   ]
  },
  {
   "cell_type": "code",
   "execution_count": 157,
   "metadata": {},
   "outputs": [],
   "source": [
    "from sklearn.model_selection import train_test_split\n",
    "X_train, X_test, y_train, y_test = train_test_split(X, y ,test_size = 0.3, random_state=1)"
   ]
  },
  {
   "cell_type": "code",
   "execution_count": 158,
   "metadata": {},
   "outputs": [
    {
     "data": {
      "text/html": [
       "<style>div.sk-top-container {color: black;background-color: white;}div.sk-toggleable {background-color: white;}label.sk-toggleable__label {cursor: pointer;display: block;width: 100%;margin-bottom: 0;padding: 0.2em 0.3em;box-sizing: border-box;text-align: center;}div.sk-toggleable__content {max-height: 0;max-width: 0;overflow: hidden;text-align: left;background-color: #f0f8ff;}div.sk-toggleable__content pre {margin: 0.2em;color: black;border-radius: 0.25em;background-color: #f0f8ff;}input.sk-toggleable__control:checked~div.sk-toggleable__content {max-height: 200px;max-width: 100%;overflow: auto;}div.sk-estimator input.sk-toggleable__control:checked~label.sk-toggleable__label {background-color: #d4ebff;}div.sk-label input.sk-toggleable__control:checked~label.sk-toggleable__label {background-color: #d4ebff;}input.sk-hidden--visually {border: 0;clip: rect(1px 1px 1px 1px);clip: rect(1px, 1px, 1px, 1px);height: 1px;margin: -1px;overflow: hidden;padding: 0;position: absolute;width: 1px;}div.sk-estimator {font-family: monospace;background-color: #f0f8ff;margin: 0.25em 0.25em;border: 1px dotted black;border-radius: 0.25em;box-sizing: border-box;}div.sk-estimator:hover {background-color: #d4ebff;}div.sk-parallel-item::after {content: \"\";width: 100%;border-bottom: 1px solid gray;flex-grow: 1;}div.sk-label:hover label.sk-toggleable__label {background-color: #d4ebff;}div.sk-serial::before {content: \"\";position: absolute;border-left: 1px solid gray;box-sizing: border-box;top: 2em;bottom: 0;left: 50%;}div.sk-serial {display: flex;flex-direction: column;align-items: center;background-color: white;}div.sk-item {z-index: 1;}div.sk-parallel {display: flex;align-items: stretch;justify-content: center;background-color: white;}div.sk-parallel-item {display: flex;flex-direction: column;position: relative;background-color: white;}div.sk-parallel-item:first-child::after {align-self: flex-end;width: 50%;}div.sk-parallel-item:last-child::after {align-self: flex-start;width: 50%;}div.sk-parallel-item:only-child::after {width: 0;}div.sk-dashed-wrapped {border: 1px dashed gray;margin: 0.2em;box-sizing: border-box;padding-bottom: 0.1em;background-color: white;position: relative;}div.sk-label label {font-family: monospace;font-weight: bold;background-color: white;display: inline-block;line-height: 1.2em;}div.sk-label-container {position: relative;z-index: 2;text-align: center;}div.sk-container {display: inline-block;position: relative;}</style><div class=\"sk-top-container\"><div class=\"sk-container\"><div class=\"sk-item sk-dashed-wrapped\"><div class=\"sk-label-container\"><div class=\"sk-label sk-toggleable\"><input class=\"sk-toggleable__control sk-hidden--visually\" id=\"66b0fd6c-4c6a-4810-8303-c4de2fd94bec\" type=\"checkbox\" ><label class=\"sk-toggleable__label\" for=\"66b0fd6c-4c6a-4810-8303-c4de2fd94bec\">Pipeline</label><div class=\"sk-toggleable__content\"><pre>Pipeline(steps=[('columntransformer',\n",
       "                 ColumnTransformer(transformers=[('pipeline-1',\n",
       "                                                  Pipeline(steps=[('simpleimputer',\n",
       "                                                                   SimpleImputer(strategy='median')),\n",
       "                                                                  ('standardscaler',\n",
       "                                                                   StandardScaler()),\n",
       "                                                                  ('polynomialfeatures',\n",
       "                                                                   PolynomialFeatures(degree=1,\n",
       "                                                                                      interaction_only=True))]),\n",
       "                                                  Index(['V1', 'V2', 'V3', 'V4'], dtype='object')),\n",
       "                                                 ('pipeline-2',\n",
       "                                                  Pipeline(steps=[('simpleimputer',\n",
       "                                                                   SimpleImputer(fill_value='missing',\n",
       "                                                                                 strategy='constant')),\n",
       "                                                                  ('onehotencoder',\n",
       "                                                                   OneHotEncoder(handle_unknown='ignore'))]),\n",
       "                                                  [])])),\n",
       "                ('linearregression', LinearRegression())])</pre></div></div></div><div class=\"sk-serial\"><div class=\"sk-item sk-dashed-wrapped\"><div class=\"sk-label-container\"><div class=\"sk-label sk-toggleable\"><input class=\"sk-toggleable__control sk-hidden--visually\" id=\"2d32abbd-3a6a-4e17-8572-93a442d85e98\" type=\"checkbox\" ><label class=\"sk-toggleable__label\" for=\"2d32abbd-3a6a-4e17-8572-93a442d85e98\">columntransformer: ColumnTransformer</label><div class=\"sk-toggleable__content\"><pre>ColumnTransformer(transformers=[('pipeline-1',\n",
       "                                 Pipeline(steps=[('simpleimputer',\n",
       "                                                  SimpleImputer(strategy='median')),\n",
       "                                                 ('standardscaler',\n",
       "                                                  StandardScaler()),\n",
       "                                                 ('polynomialfeatures',\n",
       "                                                  PolynomialFeatures(degree=1,\n",
       "                                                                     interaction_only=True))]),\n",
       "                                 Index(['V1', 'V2', 'V3', 'V4'], dtype='object')),\n",
       "                                ('pipeline-2',\n",
       "                                 Pipeline(steps=[('simpleimputer',\n",
       "                                                  SimpleImputer(fill_value='missing',\n",
       "                                                                strategy='constant')),\n",
       "                                                 ('onehotencoder',\n",
       "                                                  OneHotEncoder(handle_unknown='ignore'))]),\n",
       "                                 [])])</pre></div></div></div><div class=\"sk-parallel\"><div class=\"sk-parallel-item\"><div class=\"sk-item\"><div class=\"sk-label-container\"><div class=\"sk-label sk-toggleable\"><input class=\"sk-toggleable__control sk-hidden--visually\" id=\"5c107faa-d9b0-4df0-a8aa-e9344fe0bfaa\" type=\"checkbox\" ><label class=\"sk-toggleable__label\" for=\"5c107faa-d9b0-4df0-a8aa-e9344fe0bfaa\">pipeline-1</label><div class=\"sk-toggleable__content\"><pre>Index(['V1', 'V2', 'V3', 'V4'], dtype='object')</pre></div></div></div><div class=\"sk-serial\"><div class=\"sk-item\"><div class=\"sk-serial\"><div class=\"sk-item\"><div class=\"sk-estimator sk-toggleable\"><input class=\"sk-toggleable__control sk-hidden--visually\" id=\"3783c9ba-ff22-4723-ab4c-d6786a15389e\" type=\"checkbox\" ><label class=\"sk-toggleable__label\" for=\"3783c9ba-ff22-4723-ab4c-d6786a15389e\">SimpleImputer</label><div class=\"sk-toggleable__content\"><pre>SimpleImputer(strategy='median')</pre></div></div></div><div class=\"sk-item\"><div class=\"sk-estimator sk-toggleable\"><input class=\"sk-toggleable__control sk-hidden--visually\" id=\"7f18828a-b762-402e-b50b-2a77e4722516\" type=\"checkbox\" ><label class=\"sk-toggleable__label\" for=\"7f18828a-b762-402e-b50b-2a77e4722516\">StandardScaler</label><div class=\"sk-toggleable__content\"><pre>StandardScaler()</pre></div></div></div><div class=\"sk-item\"><div class=\"sk-estimator sk-toggleable\"><input class=\"sk-toggleable__control sk-hidden--visually\" id=\"c631c48f-c188-4980-9fe1-5f747c1fc93c\" type=\"checkbox\" ><label class=\"sk-toggleable__label\" for=\"c631c48f-c188-4980-9fe1-5f747c1fc93c\">PolynomialFeatures</label><div class=\"sk-toggleable__content\"><pre>PolynomialFeatures(degree=1, interaction_only=True)</pre></div></div></div></div></div></div></div></div><div class=\"sk-parallel-item\"><div class=\"sk-item\"><div class=\"sk-label-container\"><div class=\"sk-label sk-toggleable\"><input class=\"sk-toggleable__control sk-hidden--visually\" id=\"a72c912a-4e07-4bea-90e5-92ec3cee8092\" type=\"checkbox\" ><label class=\"sk-toggleable__label\" for=\"a72c912a-4e07-4bea-90e5-92ec3cee8092\">pipeline-2</label><div class=\"sk-toggleable__content\"><pre>[]</pre></div></div></div><div class=\"sk-serial\"><div class=\"sk-item\"><div class=\"sk-serial\"><div class=\"sk-item\"><div class=\"sk-estimator sk-toggleable\"><input class=\"sk-toggleable__control sk-hidden--visually\" id=\"46af1b32-a731-468b-afed-466c85d95170\" type=\"checkbox\" ><label class=\"sk-toggleable__label\" for=\"46af1b32-a731-468b-afed-466c85d95170\">SimpleImputer</label><div class=\"sk-toggleable__content\"><pre>SimpleImputer(fill_value='missing', strategy='constant')</pre></div></div></div><div class=\"sk-item\"><div class=\"sk-estimator sk-toggleable\"><input class=\"sk-toggleable__control sk-hidden--visually\" id=\"06219c4c-feb1-46a1-aa7b-50ee58f0789a\" type=\"checkbox\" ><label class=\"sk-toggleable__label\" for=\"06219c4c-feb1-46a1-aa7b-50ee58f0789a\">OneHotEncoder</label><div class=\"sk-toggleable__content\"><pre>OneHotEncoder(handle_unknown='ignore')</pre></div></div></div></div></div></div></div></div></div></div><div class=\"sk-item\"><div class=\"sk-estimator sk-toggleable\"><input class=\"sk-toggleable__control sk-hidden--visually\" id=\"5c2fef10-c7e8-4534-9e4a-1b7facf376f6\" type=\"checkbox\" ><label class=\"sk-toggleable__label\" for=\"5c2fef10-c7e8-4534-9e4a-1b7facf376f6\">LinearRegression</label><div class=\"sk-toggleable__content\"><pre>LinearRegression()</pre></div></div></div></div></div></div></div>"
      ],
      "text/plain": [
       "Pipeline(steps=[('columntransformer',\n",
       "                 ColumnTransformer(transformers=[('pipeline-1',\n",
       "                                                  Pipeline(steps=[('simpleimputer',\n",
       "                                                                   SimpleImputer(strategy='median')),\n",
       "                                                                  ('standardscaler',\n",
       "                                                                   StandardScaler()),\n",
       "                                                                  ('polynomialfeatures',\n",
       "                                                                   PolynomialFeatures(degree=1,\n",
       "                                                                                      interaction_only=True))]),\n",
       "                                                  Index(['V1', 'V2', 'V3', 'V4'], dtype='object')),\n",
       "                                                 ('pipeline-2',\n",
       "                                                  Pipeline(steps=[('simpleimputer',\n",
       "                                                                   SimpleImputer(fill_value='missing',\n",
       "                                                                                 strategy='constant')),\n",
       "                                                                  ('onehotencoder',\n",
       "                                                                   OneHotEncoder(handle_unknown='ignore'))]),\n",
       "                                                  [])])),\n",
       "                ('linearregression', LinearRegression())])"
      ]
     },
     "execution_count": 158,
     "metadata": {},
     "output_type": "execute_result"
    }
   ],
   "source": [
    "from sklearn import set_config\n",
    "from sklearn.pipeline import make_pipeline\n",
    "from sklearn.preprocessing import OneHotEncoder, StandardScaler,PolynomialFeatures\n",
    "from sklearn.impute import SimpleImputer\n",
    "from sklearn.compose import make_column_transformer\n",
    "from sklearn.linear_model import LogisticRegression,LinearRegression\n",
    "set_config(display='diagram')\n",
    "\n",
    "num_proc = make_pipeline(SimpleImputer(strategy='median'), StandardScaler(),\n",
    "                         PolynomialFeatures(degree = 1,interaction_only=True))\n",
    "\n",
    "cat_proc = make_pipeline(\n",
    "    SimpleImputer(strategy='constant', fill_value='missing'),\n",
    "    OneHotEncoder(handle_unknown='ignore'))\n",
    "\n",
    "\n",
    "preprocessor = make_column_transformer((num_proc, num_cols),\n",
    "                                       (cat_proc, cat_cols))\n",
    "\n",
    "\n",
    "model = [LinearRegression()]\n",
    "pipe = make_pipeline(preprocessor,model[0])\n",
    "pipe"
   ]
  },
  {
   "cell_type": "code",
   "execution_count": 159,
   "metadata": {},
   "outputs": [],
   "source": [
    "from sklearn import ensemble, neighbors,linear_model,svm\n",
    "\n",
    "model_list = [#regressors\n",
    "                linear_model.LinearRegression(),linear_model.Lasso(),linear_model.Ridge(),\n",
    "              \n",
    "              #ensembling - regressors\n",
    "                ensemble.RandomForestRegressor(max_depth = 3),ensemble.AdaBoostRegressor(),ensemble.GradientBoostingRegressor(),\n",
    "    \n",
    "              #classifiers\n",
    "                linear_model.LogisticRegression(max_iter = 500), neighbors.KNeighborsClassifier(),svm.SVC(),             \n",
    "    \n",
    "              #ensembling - classifiers\n",
    "                ensemble.RandomForestClassifier(n_estimators=500,max_depth = 3),ensemble.AdaBoostClassifier(learning_rate=0.5),ensemble.GradientBoostingClassifier()\n",
    "\n",
    "              ]"
   ]
  },
  {
   "cell_type": "code",
   "execution_count": 160,
   "metadata": {},
   "outputs": [
    {
     "name": "stdout",
     "output_type": "stream",
     "text": [
      "Model                         Train  /  Test\n",
      "---------------------------------------------\n",
      "LinearRegression              1.0000 / 1.0000 \n",
      "Lasso                         0.9994 / 0.9994 \n",
      "Ridge                         1.0000 / 1.0000 \n",
      "RandomForestRegressor         0.7017 / 0.6324 \n",
      "AdaBoostRegressor             0.8499 / 0.7847 \n",
      "GradientBoostingRegressor     0.9918 / 0.9187 \n"
     ]
    }
   ],
   "source": [
    "rejected_models = []\n",
    "results = []\n",
    "print('{:30s}Train  /  Test'.format('Model'))\n",
    "print('---------------------------------------------')\n",
    "for model in model_list:\n",
    "    #pipe = make_pipeline(preprocessor,model)\n",
    "    pipe = make_pipeline(model)\n",
    "    try:        \n",
    "        pipe.fit(X_train,y_train)\n",
    "        \n",
    "        model_name = type(model).__name__\n",
    "        train_results = pipe.score(X_train,y_train)\n",
    "        test_results = pipe.score(X_test,y_test)\n",
    "        \n",
    "        results.append([model_name, train_results, test_results])\n",
    "        print('{:30s}{:.4f} / {:.4f} '.format(model_name, train_results, test_results))\n",
    "\n",
    "    except:\n",
    "        rejected_models.append(type(model).__name__)\n",
    "\n",
    "df_results = pd.DataFrame(results, columns=[\"Model\", \"Train Results\",\"Test Results\"])"
   ]
  },
  {
   "cell_type": "code",
   "execution_count": 161,
   "metadata": {},
   "outputs": [
    {
     "data": {
      "text/plain": [
       "['LogisticRegression',\n",
       " 'KNeighborsClassifier',\n",
       " 'SVC',\n",
       " 'RandomForestClassifier',\n",
       " 'AdaBoostClassifier',\n",
       " 'GradientBoostingClassifier']"
      ]
     },
     "execution_count": 161,
     "metadata": {},
     "output_type": "execute_result"
    }
   ],
   "source": [
    "rejected_models"
   ]
  },
  {
   "cell_type": "code",
   "execution_count": 122,
   "metadata": {},
   "outputs": [
    {
     "data": {
      "text/html": [
       "<div>\n",
       "<style scoped>\n",
       "    .dataframe tbody tr th:only-of-type {\n",
       "        vertical-align: middle;\n",
       "    }\n",
       "\n",
       "    .dataframe tbody tr th {\n",
       "        vertical-align: top;\n",
       "    }\n",
       "\n",
       "    .dataframe thead th {\n",
       "        text-align: right;\n",
       "    }\n",
       "</style>\n",
       "<table border=\"1\" class=\"dataframe\">\n",
       "  <thead>\n",
       "    <tr style=\"text-align: right;\">\n",
       "      <th></th>\n",
       "      <th>Model</th>\n",
       "      <th>Train Results</th>\n",
       "      <th>Test Results</th>\n",
       "    </tr>\n",
       "  </thead>\n",
       "  <tbody>\n",
       "  </tbody>\n",
       "</table>\n",
       "</div>"
      ],
      "text/plain": [
       "Empty DataFrame\n",
       "Columns: [Model, Train Results, Test Results]\n",
       "Index: []"
      ]
     },
     "execution_count": 122,
     "metadata": {},
     "output_type": "execute_result"
    }
   ],
   "source": [
    "df_results.sort_values(by = 'Test Results',ascending = False)"
   ]
  },
  {
   "cell_type": "code",
   "execution_count": null,
   "metadata": {},
   "outputs": [],
   "source": []
  }
 ],
 "metadata": {
  "kernelspec": {
   "display_name": "Python 3",
   "language": "python",
   "name": "python3"
  },
  "language_info": {
   "codemirror_mode": {
    "name": "ipython",
    "version": 3
   },
   "file_extension": ".py",
   "mimetype": "text/x-python",
   "name": "python",
   "nbconvert_exporter": "python",
   "pygments_lexer": "ipython3",
   "version": "3.6.9"
  }
 },
 "nbformat": 4,
 "nbformat_minor": 4
}
